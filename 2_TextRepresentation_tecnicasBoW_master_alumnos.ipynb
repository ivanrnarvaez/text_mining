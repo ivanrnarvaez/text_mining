{
  "nbformat": 4,
  "nbformat_minor": 0,
  "metadata": {
    "colab": {
      "provenance": [],
      "collapsed_sections": [
        "fdk6YyUjvbHW",
        "WCrHf9PfL4rE"
      ],
      "include_colab_link": true
    },
    "kernelspec": {
      "name": "python3",
      "display_name": "Python 3"
    }
  },
  "cells": [
    {
      "cell_type": "markdown",
      "metadata": {
        "id": "view-in-github",
        "colab_type": "text"
      },
      "source": [
        "<a href=\"https://colab.research.google.com/github/ivanrnarvaez/text_mining/blob/main/2_TextRepresentation_tecnicasBoW_master_alumnos.ipynb\" target=\"_parent\"><img src=\"https://colab.research.google.com/assets/colab-badge.svg\" alt=\"Open In Colab\"/></a>"
      ]
    },
    {
      "cell_type": "markdown",
      "metadata": {
        "id": "A48-kUHmOmQZ"
      },
      "source": [
        "\n",
        "# Representación numérica de textos\n",
        "En la mayoría de técnicas empleadas en Text Mining y Procesamiento de Lenguaje Natural, es fundamental transformar los textos en representaciones numéricas que puedan ser procesadas por modelos estadísticos o de aprendizaje automático. Aunque existen distintas formas de lograr esta transformación, todas ellas se basan en la misma idea: proyectar el contenido textual en un espacio vectorial, es decir, convertir palabras o documentos en vectores de números.\n",
        "\n",
        "\n",
        "Por una parte, nos encontramos **estrategias léxicas** para representar documentos completos en el espacio vectorial. En estas técnicas, últimamente en desuso en producción pero muy útiles para llevar a cabo análisis preliminares, se construyen matrices que reflejan la frecuencia o relevancia de los términos en cada documento. Este tipo de representación, basada en la **presencia y frecuencia de palabras de un vocabulario en un documento**, resulta especialmente útil en tareas como la clasificación de textos, el topic modeling o la búsqueda de información en grandes volúmenes de datos.\n",
        "\n",
        "Por otro lado, existen **estrategias semánticas** que permiten representar los textos a un nivel más granular, es decir, palabra por palabra. Estas representaciones, conocidas como **embeddings**, asignan a cada token un vector numérico que encapsula parte de su significado semántico. A diferencia de los modelos más simples, los embeddings permiten capturar similitudes y relaciones semánticas entre palabras, lo que los hace muy eficaces para tareas más complejas como la extracción de entidades, el análisis semántico o el entendimiento contextual del lenguaje. Además, a **partir de estos vectores individuales es posible construir representaciones vectoriales de documentos completos**\n",
        "\n",
        "En este notebook se trabajará en el primer caso, la representación vectorial a nivel de documento utliizando técnicas léxicas. En el siguiente notebook exploraremos el mundo de los embeddings y su semántica.\n",
        "\n",
        "\n",
        "\n"
      ]
    },
    {
      "cell_type": "markdown",
      "source": [
        "\n",
        "## 1. Nociones sobre representación numérica de documentos\n",
        "\n",
        "En este notebook vamos a aprender a representar numéricamente documentos a través de los métodos de representación Bag-of-Words (BoW) y TF-IDF.\n",
        "\n",
        "\n",
        "Para este ejercicio trabajaremos con un corpus muy sencillo, para entender la nocion del funcionamiento de estas técnicas de representación:"
      ],
      "metadata": {
        "id": "OW1pFXcKTOMB"
      }
    },
    {
      "cell_type": "code",
      "source": [
        "corpus = [\"yo quiero agua\",\n",
        "          \"yo quiero cocacola\",\n",
        "          \"yo quiero agua y un agua\",\n",
        "          \"yo no quiero vino\",\n",
        "          \"yo quiero un entrecot\"]"
      ],
      "metadata": {
        "id": "9EkfSTy3pxsb"
      },
      "execution_count": 1,
      "outputs": []
    },
    {
      "cell_type": "markdown",
      "source": [
        "Vamos a tokenizar cada una de las frases, para trabajar comodamente más adelante:"
      ],
      "metadata": {
        "id": "V7yGud8qqP8N"
      }
    },
    {
      "cell_type": "code",
      "source": [
        "corpus_tok = [i.split() for i in corpus]  #Corpus conocido y sencillo, podemos dividir palabras con split()\n",
        "corpus_tok"
      ],
      "metadata": {
        "id": "fp3fAT8ppwl6",
        "outputId": "2ecac906-a988-4a5f-c845-46e79437209b",
        "colab": {
          "base_uri": "https://localhost:8080/"
        }
      },
      "execution_count": 2,
      "outputs": [
        {
          "output_type": "execute_result",
          "data": {
            "text/plain": [
              "[['yo', 'quiero', 'agua'],\n",
              " ['yo', 'quiero', 'cocacola'],\n",
              " ['yo', 'quiero', 'agua', 'y', 'un', 'agua'],\n",
              " ['yo', 'no', 'quiero', 'vino'],\n",
              " ['yo', 'quiero', 'un', 'entrecot']]"
            ]
          },
          "metadata": {},
          "execution_count": 2
        }
      ]
    },
    {
      "cell_type": "markdown",
      "source": [
        "### Bag of Words\n",
        "Como hemos visto anterioremente, Bag Of Words es uno de los modelos de representación de texto más intuitivos. Para implementarlo, se construye un vocabulario de tamaño N con los tokens únicos del corpus de trabajo, para despues representar cada documento con un vector del mismo tamaño en el que cada elemento será el nº de veces que aparece el token en cuestión en el documento.\n",
        "\n"
      ],
      "metadata": {
        "id": "FhnCPAKiqFLH"
      }
    },
    {
      "cell_type": "markdown",
      "source": [
        "En primer lugar, construimos el vocabulario que se utilizará para representar nuestro corpus:"
      ],
      "metadata": {
        "id": "2eQnwDb5qjA9"
      }
    },
    {
      "cell_type": "code",
      "source": [
        "# El vocabulario de nuestro corpus son los tokens únicos utilizados en nuestro conjunto de documentos\n",
        "import itertools\n",
        "import numpy as np\n",
        "\n",
        "# * operador de desempaquetado: concatenar todos los sublistas (o secuencias) de corpus_tok en un solo iterador plano, que puedes convertir en una lista si quieres\n",
        "all_tokens = itertools.chain(*corpus_tok)\n",
        "vocab = sorted(set(all_tokens))\n",
        "\n",
        "print(\"Nuestro vocabulario contiene {} tokens. Que son: {}\".format(len(vocab),vocab))"
      ],
      "metadata": {
        "id": "CAsGf7eOqI-C",
        "outputId": "2917637f-8952-4e9e-b8f4-02571ba087ab",
        "colab": {
          "base_uri": "https://localhost:8080/"
        }
      },
      "execution_count": 3,
      "outputs": [
        {
          "output_type": "stream",
          "name": "stdout",
          "text": [
            "Nuestro vocabulario contiene 9 tokens. Que son: ['agua', 'cocacola', 'entrecot', 'no', 'quiero', 'un', 'vino', 'y', 'yo']\n"
          ]
        }
      ]
    },
    {
      "cell_type": "markdown",
      "source": [
        "Cada uno de los documentos del corpus estará representado por un vector de 9 elementos. El elemento 0 representará la presencia del token agua en el documento, el elemento 1 representará la presencia de \"cocacola\" en el documento... etc\n",
        "\n",
        "A continuación, vamos a construir esos vectores:"
      ],
      "metadata": {
        "id": "ox-OKbnNraUS"
      }
    },
    {
      "cell_type": "code",
      "source": [
        "import collections\n",
        "# Creamos un vector de salida\n",
        "doc_vectors = list()\n",
        "# Iteramos en cada uno de los documentos del corpus\n",
        "for doc in corpus_tok:\n",
        "  # Contamos las ocurrencias de cada uno de los tokens. Counter devuelve un diccionario\n",
        "  counter_doc = collections.Counter(doc) # collections.Counter\n",
        "  # Creamos el vector que representará al documento\n",
        "  doc_vec = list()\n",
        "  # Iteramos por los términos del voabulario\n",
        "  for word in vocab:\n",
        "    # Si el término está en el diccionario de conteo, introducimos el valor en\n",
        "    # esa posición del vector. Si no está, introducimos un 0\n",
        "    if word in counter_doc:\n",
        "      doc_vec.append(counter_doc[word]) #counter_doc[word]\n",
        "    else:\n",
        "      doc_vec.append(0)\n",
        "  # Añadimos al vector de salida el vector del documento\n",
        "  doc_vectors.append(doc_vec)"
      ],
      "metadata": {
        "id": "0J0ven0arZpl"
      },
      "execution_count": 4,
      "outputs": []
    },
    {
      "cell_type": "code",
      "source": [
        "for frase, vector in zip(corpus, doc_vectors):\n",
        "  print(\"La frase '{}' está representada por el vector {}\".format(frase, vector))"
      ],
      "metadata": {
        "id": "Lg7a8t2As-61",
        "outputId": "38142d31-958c-4878-950b-14d749e841c4",
        "colab": {
          "base_uri": "https://localhost:8080/"
        }
      },
      "execution_count": 5,
      "outputs": [
        {
          "output_type": "stream",
          "name": "stdout",
          "text": [
            "La frase 'yo quiero agua' está representada por el vector [1, 0, 0, 0, 1, 0, 0, 0, 1]\n",
            "La frase 'yo quiero cocacola' está representada por el vector [0, 1, 0, 0, 1, 0, 0, 0, 1]\n",
            "La frase 'yo quiero agua y un agua' está representada por el vector [2, 0, 0, 0, 1, 1, 0, 1, 1]\n",
            "La frase 'yo no quiero vino' está representada por el vector [0, 0, 0, 1, 1, 0, 1, 0, 1]\n",
            "La frase 'yo quiero un entrecot' está representada por el vector [0, 0, 1, 0, 1, 1, 0, 0, 1]\n"
          ]
        }
      ]
    },
    {
      "cell_type": "markdown",
      "source": [
        "En Bag Of Words:\n",
        "\n",
        "- Los términos que aparecen varias veces en el documento tienen un número mayor, lo que se puede traducir en que esos términos (caracteristicas) tienen un mayor peso en el documento.\n",
        "- Si un término ocurre muchas veces en todos los documentos, tendrá gran importancia en cada uno de ellos, a pesar de que no será útil para clasificar o agrupar textos.\n",
        "\n",
        "\n",
        "El método de representación TF-IDF intenta precisamente  compensar este efecto mediante la aplicación de una penalización a palabras comunes en muchos documentos."
      ],
      "metadata": {
        "id": "Xi8aGcOouXTU"
      }
    },
    {
      "cell_type": "markdown",
      "source": [
        "### TF-IDF  (intuición)\n"
      ],
      "metadata": {
        "id": "fdk6YyUjvbHW"
      }
    },
    {
      "cell_type": "markdown",
      "source": [
        "Para realizar los cáculos de forma más eficiente generaremos un diccionario que asocie a cada una de las palabras de nuestro corpus un índice numérico.\n"
      ],
      "metadata": {
        "id": "ct4pM7F6RfZ-"
      }
    },
    {
      "cell_type": "markdown",
      "source": [
        "Para calcular TF-IDF realizaremos los siguientes pasos:\n",
        "\n",
        "1. Calcular el Term Frequency (TF). Que se calcula como:\n",
        "  $$TF(w) = n_{w-in-d} / N_d$$\n",
        "\n",
        "Anteriormente hemos calculado para cada documento el número de veces que aparecía cada token del vocabulario. Para calcular el TF bastaría con dividir cada uno de los elementos del vector con la suma total de tokens de cada documento.\n"
      ],
      "metadata": {
        "id": "PR2pB-QDzfzs"
      }
    },
    {
      "cell_type": "markdown",
      "source": [
        "2. Calcular el componente Inverse-Document Frequency (IDF). Que se calcula como:\n",
        "$$ IDF(w) = ln(N/n_w)$$\n",
        "\n",
        "donde n_w  es el número de documentos que contiene el token w y N es el número total de documentos."
      ],
      "metadata": {
        "id": "q832rwMH0klF"
      }
    },
    {
      "cell_type": "markdown",
      "source": [
        "En primer lugar generamos una función que permita calcular el número de vees que un token aparece en un documento d enuestro corpus."
      ],
      "metadata": {
        "id": "7xZDRIuTUZAu"
      }
    },
    {
      "cell_type": "markdown",
      "source": [
        "Despues, uniríamos ambas expresiones para calcular el TF-IDF de una frase (las siguientes celdas son de pseudocódigo):"
      ],
      "metadata": {
        "id": "HVrOHtSZUtJt"
      }
    },
    {
      "cell_type": "markdown",
      "source": [
        "\n",
        "\n",
        "```python\n",
        "\n",
        "def tf_idf_calc(doc, N_corpus):\n",
        "  # Generamos vector salida\n",
        "  tf_idf_vec = np.zeros((len(vocab),))\n",
        "  for word in doc:\n",
        "    # Calculamoes el valor tf para el token en cuestion\n",
        "    tf = TF_calc(doc, word)\n",
        "    # Calculamos el valor idf para el token en cuestion\n",
        "    idf = idf_calc(doc, N_corpus)\n",
        "\n",
        "    tf_idf = tf * idf\n",
        "    tf_idf_vec[index_dict[word]] = tf_idf\n",
        "  return tf_idf_vec\n",
        "```\n",
        "\n"
      ],
      "metadata": {
        "id": "mCCiH-AyTpns"
      }
    },
    {
      "cell_type": "markdown",
      "source": [
        "Y lo aplicaríamos a todo el corpus:"
      ],
      "metadata": {
        "id": "PKV7tHzHU_5S"
      }
    },
    {
      "cell_type": "markdown",
      "source": [
        "\n",
        "\n",
        "\n",
        "```python\n",
        "#TF-IDF Encoded text corpus\n",
        "tf_idf_result = []\n",
        "for sent in corpus_tok:\n",
        "    vec = tf_idf_calc(sent,len(corpus_tok))\n",
        "    tf_idf_result.append(vec)\n",
        "```\n",
        "\n"
      ],
      "metadata": {
        "id": "Z_02B0l4UCAX"
      }
    },
    {
      "cell_type": "markdown",
      "metadata": {
        "id": "IvFyVzubOmJM"
      },
      "source": [
        "## 2. Vectorización con scikit-learn\n",
        "\n",
        "\n"
      ]
    },
    {
      "cell_type": "markdown",
      "source": [
        "Aunque hemos mostrado una manera de aplicar el BoW y Tf-IDF a un corpus de documentos. Existen varias modificaciones que pueden mejorar los resultados (modificaciones en el cálculo de la componente IDF, por ejemplo). Además, las librerías de ML están preapradas para transformar documentos de forma más inmedianta, eficiente e incorporando funciones que pueden ser de utilidad\n",
        "\n",
        "\n",
        "En scikit-learn podemos utilizar distintas funciones para obtener el vocabulario de un corpus de documentos. Ambas están presentes dentro del módulo feature_extraction.text y son [`CountVectorizer`](https://scikit-learn.org/stable/modules/generated/sklearn.feature_extraction.text.CountVectorizer.html) y  [`TfidfVectorizer`](https://scikit-learn.org/stable/modules/generated/sklearn.feature_extraction.text.TfidfVectorizer.html#sklearn.feature_extraction.text.TfidfVectorizer).\n",
        "Vamos a crear un objeto con cada una de esas clases para introducir nuestro corpus y extraer el vocabulario."
      ],
      "metadata": {
        "id": "Hfx5yjcoYOPA"
      }
    },
    {
      "cell_type": "markdown",
      "metadata": {
        "id": "TJl8IO50AKBp"
      },
      "source": [
        "\n",
        "**Tanto las funciones CountVectorizer como TfidfVectorizer cuentan con muchos parámetros personalizables. Algunos de los más relevantes son:**\n",
        "\n",
        "\n",
        "*   *strip_accents*: Elimina los acentos en codificación ascii o unicode. Por defecto es None. Es preferible hacer una gestión de acentos previas.\n",
        "*   *lowercase*: Transforma todos los caracteres a minúsculas antes de hacer la tokenización.\n",
        "*   *tokenizer*: Utiliza un tokenizador específico. Se puede utilizar una de NLTK o de Spacy(computacionalmente menos eficiente).\n",
        "*   *stop_words*: Si se pone el valor \"english\" eliminara la lista de stop_words definida en scikit-learn. Se puede utilizar la lista de stopwords de otras librerías o definir unas propias.\n",
        "*   *ngram_range*: Cálculo de n-gramas en el proceso. Mediante la tubla (min_n, max_n) se pueden incorporar n-gramas al cálculo de la matriz tfidf.\n",
        "*   *max_df*: Valor por defecto 1.  Ignora los tokens (o n-gramas) que aparecen en más del X % de documentos cuando es menor de 1. Si max_df es mayor que uno se ignorarán los términos que aparecen en más de X documentos.\n",
        "*   *min_df*: Valor por defecto 1. Ignora los tokens que aparecen  en menos del X % de los documentos. Siendo X el valor de X. (0.01 = 1%, por ejemplo)\n",
        "*   *max_features*: Máximas características que devuelve la función TfidfVectorizer. Valor mayor que 1. Representa las caracaterísticas más importantes (las más repetidas o comunes) Esto es muy interesante para no sobreentrenar el sistema.\n",
        "*   *norm*: Valores \"l1\" y \"l2\", por defecto \"l2\". Normaliza los valores entre 0 y 1.\n",
        "*   *use_idf*: Habilita el uso del inverse-document frequency en la función. Por defecto es True.\n",
        "*   *smooth_idf*: Suaviza los pesos de IDF sumando una unidad a cada frecuencia. Es muy importante para evitar divisiones por cero.\n",
        "\n"
      ]
    },
    {
      "cell_type": "code",
      "metadata": {
        "id": "PiDKf5zHT-Rm"
      },
      "source": [
        "from sklearn.feature_extraction.text import CountVectorizer,TfidfVectorizer\n",
        "from sklearn.feature_extraction import text\n",
        "\n",
        "# Creamos los objetos\n",
        "count_vectorizer = CountVectorizer()\n",
        "tfidf_vectorizer = TfidfVectorizer(norm=None, smooth_idf=False) # norm=None, smooth_idf=False Re-escribimos los valores por defecto para tener el tf-idf básico\n",
        "\n",
        "# Hacemos Fit con nuestro corpus\n",
        "count_data = count_vectorizer.fit(corpus)   # count_vectorizer.fit(corpus)\n",
        "tfidf_data = tfidf_vectorizer.fit(corpus)  # tfidf_vectorizer.fit(corpus)"
      ],
      "execution_count": 6,
      "outputs": []
    },
    {
      "cell_type": "code",
      "metadata": {
        "id": "4tUVaA_-UItk",
        "outputId": "9204ff12-e807-47a2-8652-aa8817256fc7",
        "colab": {
          "base_uri": "https://localhost:8080/"
        }
      },
      "source": [
        "# Obtenemos los vocabularios de dos formas:\n",
        "print(\"COUNT VECTORIZER\")\n",
        "print(\"Obtenemos el vocabulario en si mismo como una lista\")\n",
        "print(count_data.get_feature_names_out())\n",
        "print(\"Numero de características:\")\n",
        "print(len(count_data.get_feature_names_out()))"
      ],
      "execution_count": 7,
      "outputs": [
        {
          "output_type": "stream",
          "name": "stdout",
          "text": [
            "COUNT VECTORIZER\n",
            "Obtenemos el vocabulario en si mismo como una lista\n",
            "['agua' 'cocacola' 'entrecot' 'no' 'quiero' 'un' 'vino' 'yo']\n",
            "Numero de características:\n",
            "8\n"
          ]
        }
      ]
    },
    {
      "cell_type": "code",
      "metadata": {
        "id": "o1Xi6tt1DH-0",
        "outputId": "36d832e3-e32b-4a08-cb3e-26704805933d",
        "colab": {
          "base_uri": "https://localhost:8080/"
        }
      },
      "source": [
        "# Obviamente, dado que hemos utilizado el mismo corpus, obtenemos el mismo resultado con el tfidf_vectorizer.\n",
        "print(\"\\n\\n TF-IDF VECTORIZER\")\n",
        "print(\"Obtenemos el vocabulario en si mismo como una lista\")\n",
        "print(tfidf_data.get_feature_names_out())\n",
        "print(\"Numero de características:\")\n",
        "print(len(tfidf_data.get_feature_names_out()))"
      ],
      "execution_count": 8,
      "outputs": [
        {
          "output_type": "stream",
          "name": "stdout",
          "text": [
            "\n",
            "\n",
            " TF-IDF VECTORIZER\n",
            "Obtenemos el vocabulario en si mismo como una lista\n",
            "['agua' 'cocacola' 'entrecot' 'no' 'quiero' 'un' 'vino' 'yo']\n",
            "Numero de características:\n",
            "8\n"
          ]
        }
      ]
    },
    {
      "cell_type": "markdown",
      "metadata": {
        "id": "bQabDt3aDJ4-"
      },
      "source": [
        "Si imprimimos el objeto tfidf_data podemos ver la configuración de los parámetros de TfidfVectorizer:"
      ]
    },
    {
      "cell_type": "code",
      "metadata": {
        "id": "UhHyIi8JUiLn",
        "outputId": "2632ea66-3760-4a0c-9a51-58c7903b0e7b",
        "colab": {
          "base_uri": "https://localhost:8080/",
          "height": 80
        }
      },
      "source": [
        "tfidf_data"
      ],
      "execution_count": 9,
      "outputs": [
        {
          "output_type": "execute_result",
          "data": {
            "text/plain": [
              "TfidfVectorizer(norm=None, smooth_idf=False)"
            ],
            "text/html": [
              "<style>#sk-container-id-1 {\n",
              "  /* Definition of color scheme common for light and dark mode */\n",
              "  --sklearn-color-text: #000;\n",
              "  --sklearn-color-text-muted: #666;\n",
              "  --sklearn-color-line: gray;\n",
              "  /* Definition of color scheme for unfitted estimators */\n",
              "  --sklearn-color-unfitted-level-0: #fff5e6;\n",
              "  --sklearn-color-unfitted-level-1: #f6e4d2;\n",
              "  --sklearn-color-unfitted-level-2: #ffe0b3;\n",
              "  --sklearn-color-unfitted-level-3: chocolate;\n",
              "  /* Definition of color scheme for fitted estimators */\n",
              "  --sklearn-color-fitted-level-0: #f0f8ff;\n",
              "  --sklearn-color-fitted-level-1: #d4ebff;\n",
              "  --sklearn-color-fitted-level-2: #b3dbfd;\n",
              "  --sklearn-color-fitted-level-3: cornflowerblue;\n",
              "\n",
              "  /* Specific color for light theme */\n",
              "  --sklearn-color-text-on-default-background: var(--sg-text-color, var(--theme-code-foreground, var(--jp-content-font-color1, black)));\n",
              "  --sklearn-color-background: var(--sg-background-color, var(--theme-background, var(--jp-layout-color0, white)));\n",
              "  --sklearn-color-border-box: var(--sg-text-color, var(--theme-code-foreground, var(--jp-content-font-color1, black)));\n",
              "  --sklearn-color-icon: #696969;\n",
              "\n",
              "  @media (prefers-color-scheme: dark) {\n",
              "    /* Redefinition of color scheme for dark theme */\n",
              "    --sklearn-color-text-on-default-background: var(--sg-text-color, var(--theme-code-foreground, var(--jp-content-font-color1, white)));\n",
              "    --sklearn-color-background: var(--sg-background-color, var(--theme-background, var(--jp-layout-color0, #111)));\n",
              "    --sklearn-color-border-box: var(--sg-text-color, var(--theme-code-foreground, var(--jp-content-font-color1, white)));\n",
              "    --sklearn-color-icon: #878787;\n",
              "  }\n",
              "}\n",
              "\n",
              "#sk-container-id-1 {\n",
              "  color: var(--sklearn-color-text);\n",
              "}\n",
              "\n",
              "#sk-container-id-1 pre {\n",
              "  padding: 0;\n",
              "}\n",
              "\n",
              "#sk-container-id-1 input.sk-hidden--visually {\n",
              "  border: 0;\n",
              "  clip: rect(1px 1px 1px 1px);\n",
              "  clip: rect(1px, 1px, 1px, 1px);\n",
              "  height: 1px;\n",
              "  margin: -1px;\n",
              "  overflow: hidden;\n",
              "  padding: 0;\n",
              "  position: absolute;\n",
              "  width: 1px;\n",
              "}\n",
              "\n",
              "#sk-container-id-1 div.sk-dashed-wrapped {\n",
              "  border: 1px dashed var(--sklearn-color-line);\n",
              "  margin: 0 0.4em 0.5em 0.4em;\n",
              "  box-sizing: border-box;\n",
              "  padding-bottom: 0.4em;\n",
              "  background-color: var(--sklearn-color-background);\n",
              "}\n",
              "\n",
              "#sk-container-id-1 div.sk-container {\n",
              "  /* jupyter's `normalize.less` sets `[hidden] { display: none; }`\n",
              "     but bootstrap.min.css set `[hidden] { display: none !important; }`\n",
              "     so we also need the `!important` here to be able to override the\n",
              "     default hidden behavior on the sphinx rendered scikit-learn.org.\n",
              "     See: https://github.com/scikit-learn/scikit-learn/issues/21755 */\n",
              "  display: inline-block !important;\n",
              "  position: relative;\n",
              "}\n",
              "\n",
              "#sk-container-id-1 div.sk-text-repr-fallback {\n",
              "  display: none;\n",
              "}\n",
              "\n",
              "div.sk-parallel-item,\n",
              "div.sk-serial,\n",
              "div.sk-item {\n",
              "  /* draw centered vertical line to link estimators */\n",
              "  background-image: linear-gradient(var(--sklearn-color-text-on-default-background), var(--sklearn-color-text-on-default-background));\n",
              "  background-size: 2px 100%;\n",
              "  background-repeat: no-repeat;\n",
              "  background-position: center center;\n",
              "}\n",
              "\n",
              "/* Parallel-specific style estimator block */\n",
              "\n",
              "#sk-container-id-1 div.sk-parallel-item::after {\n",
              "  content: \"\";\n",
              "  width: 100%;\n",
              "  border-bottom: 2px solid var(--sklearn-color-text-on-default-background);\n",
              "  flex-grow: 1;\n",
              "}\n",
              "\n",
              "#sk-container-id-1 div.sk-parallel {\n",
              "  display: flex;\n",
              "  align-items: stretch;\n",
              "  justify-content: center;\n",
              "  background-color: var(--sklearn-color-background);\n",
              "  position: relative;\n",
              "}\n",
              "\n",
              "#sk-container-id-1 div.sk-parallel-item {\n",
              "  display: flex;\n",
              "  flex-direction: column;\n",
              "}\n",
              "\n",
              "#sk-container-id-1 div.sk-parallel-item:first-child::after {\n",
              "  align-self: flex-end;\n",
              "  width: 50%;\n",
              "}\n",
              "\n",
              "#sk-container-id-1 div.sk-parallel-item:last-child::after {\n",
              "  align-self: flex-start;\n",
              "  width: 50%;\n",
              "}\n",
              "\n",
              "#sk-container-id-1 div.sk-parallel-item:only-child::after {\n",
              "  width: 0;\n",
              "}\n",
              "\n",
              "/* Serial-specific style estimator block */\n",
              "\n",
              "#sk-container-id-1 div.sk-serial {\n",
              "  display: flex;\n",
              "  flex-direction: column;\n",
              "  align-items: center;\n",
              "  background-color: var(--sklearn-color-background);\n",
              "  padding-right: 1em;\n",
              "  padding-left: 1em;\n",
              "}\n",
              "\n",
              "\n",
              "/* Toggleable style: style used for estimator/Pipeline/ColumnTransformer box that is\n",
              "clickable and can be expanded/collapsed.\n",
              "- Pipeline and ColumnTransformer use this feature and define the default style\n",
              "- Estimators will overwrite some part of the style using the `sk-estimator` class\n",
              "*/\n",
              "\n",
              "/* Pipeline and ColumnTransformer style (default) */\n",
              "\n",
              "#sk-container-id-1 div.sk-toggleable {\n",
              "  /* Default theme specific background. It is overwritten whether we have a\n",
              "  specific estimator or a Pipeline/ColumnTransformer */\n",
              "  background-color: var(--sklearn-color-background);\n",
              "}\n",
              "\n",
              "/* Toggleable label */\n",
              "#sk-container-id-1 label.sk-toggleable__label {\n",
              "  cursor: pointer;\n",
              "  display: flex;\n",
              "  width: 100%;\n",
              "  margin-bottom: 0;\n",
              "  padding: 0.5em;\n",
              "  box-sizing: border-box;\n",
              "  text-align: center;\n",
              "  align-items: start;\n",
              "  justify-content: space-between;\n",
              "  gap: 0.5em;\n",
              "}\n",
              "\n",
              "#sk-container-id-1 label.sk-toggleable__label .caption {\n",
              "  font-size: 0.6rem;\n",
              "  font-weight: lighter;\n",
              "  color: var(--sklearn-color-text-muted);\n",
              "}\n",
              "\n",
              "#sk-container-id-1 label.sk-toggleable__label-arrow:before {\n",
              "  /* Arrow on the left of the label */\n",
              "  content: \"▸\";\n",
              "  float: left;\n",
              "  margin-right: 0.25em;\n",
              "  color: var(--sklearn-color-icon);\n",
              "}\n",
              "\n",
              "#sk-container-id-1 label.sk-toggleable__label-arrow:hover:before {\n",
              "  color: var(--sklearn-color-text);\n",
              "}\n",
              "\n",
              "/* Toggleable content - dropdown */\n",
              "\n",
              "#sk-container-id-1 div.sk-toggleable__content {\n",
              "  max-height: 0;\n",
              "  max-width: 0;\n",
              "  overflow: hidden;\n",
              "  text-align: left;\n",
              "  /* unfitted */\n",
              "  background-color: var(--sklearn-color-unfitted-level-0);\n",
              "}\n",
              "\n",
              "#sk-container-id-1 div.sk-toggleable__content.fitted {\n",
              "  /* fitted */\n",
              "  background-color: var(--sklearn-color-fitted-level-0);\n",
              "}\n",
              "\n",
              "#sk-container-id-1 div.sk-toggleable__content pre {\n",
              "  margin: 0.2em;\n",
              "  border-radius: 0.25em;\n",
              "  color: var(--sklearn-color-text);\n",
              "  /* unfitted */\n",
              "  background-color: var(--sklearn-color-unfitted-level-0);\n",
              "}\n",
              "\n",
              "#sk-container-id-1 div.sk-toggleable__content.fitted pre {\n",
              "  /* unfitted */\n",
              "  background-color: var(--sklearn-color-fitted-level-0);\n",
              "}\n",
              "\n",
              "#sk-container-id-1 input.sk-toggleable__control:checked~div.sk-toggleable__content {\n",
              "  /* Expand drop-down */\n",
              "  max-height: 200px;\n",
              "  max-width: 100%;\n",
              "  overflow: auto;\n",
              "}\n",
              "\n",
              "#sk-container-id-1 input.sk-toggleable__control:checked~label.sk-toggleable__label-arrow:before {\n",
              "  content: \"▾\";\n",
              "}\n",
              "\n",
              "/* Pipeline/ColumnTransformer-specific style */\n",
              "\n",
              "#sk-container-id-1 div.sk-label input.sk-toggleable__control:checked~label.sk-toggleable__label {\n",
              "  color: var(--sklearn-color-text);\n",
              "  background-color: var(--sklearn-color-unfitted-level-2);\n",
              "}\n",
              "\n",
              "#sk-container-id-1 div.sk-label.fitted input.sk-toggleable__control:checked~label.sk-toggleable__label {\n",
              "  background-color: var(--sklearn-color-fitted-level-2);\n",
              "}\n",
              "\n",
              "/* Estimator-specific style */\n",
              "\n",
              "/* Colorize estimator box */\n",
              "#sk-container-id-1 div.sk-estimator input.sk-toggleable__control:checked~label.sk-toggleable__label {\n",
              "  /* unfitted */\n",
              "  background-color: var(--sklearn-color-unfitted-level-2);\n",
              "}\n",
              "\n",
              "#sk-container-id-1 div.sk-estimator.fitted input.sk-toggleable__control:checked~label.sk-toggleable__label {\n",
              "  /* fitted */\n",
              "  background-color: var(--sklearn-color-fitted-level-2);\n",
              "}\n",
              "\n",
              "#sk-container-id-1 div.sk-label label.sk-toggleable__label,\n",
              "#sk-container-id-1 div.sk-label label {\n",
              "  /* The background is the default theme color */\n",
              "  color: var(--sklearn-color-text-on-default-background);\n",
              "}\n",
              "\n",
              "/* On hover, darken the color of the background */\n",
              "#sk-container-id-1 div.sk-label:hover label.sk-toggleable__label {\n",
              "  color: var(--sklearn-color-text);\n",
              "  background-color: var(--sklearn-color-unfitted-level-2);\n",
              "}\n",
              "\n",
              "/* Label box, darken color on hover, fitted */\n",
              "#sk-container-id-1 div.sk-label.fitted:hover label.sk-toggleable__label.fitted {\n",
              "  color: var(--sklearn-color-text);\n",
              "  background-color: var(--sklearn-color-fitted-level-2);\n",
              "}\n",
              "\n",
              "/* Estimator label */\n",
              "\n",
              "#sk-container-id-1 div.sk-label label {\n",
              "  font-family: monospace;\n",
              "  font-weight: bold;\n",
              "  display: inline-block;\n",
              "  line-height: 1.2em;\n",
              "}\n",
              "\n",
              "#sk-container-id-1 div.sk-label-container {\n",
              "  text-align: center;\n",
              "}\n",
              "\n",
              "/* Estimator-specific */\n",
              "#sk-container-id-1 div.sk-estimator {\n",
              "  font-family: monospace;\n",
              "  border: 1px dotted var(--sklearn-color-border-box);\n",
              "  border-radius: 0.25em;\n",
              "  box-sizing: border-box;\n",
              "  margin-bottom: 0.5em;\n",
              "  /* unfitted */\n",
              "  background-color: var(--sklearn-color-unfitted-level-0);\n",
              "}\n",
              "\n",
              "#sk-container-id-1 div.sk-estimator.fitted {\n",
              "  /* fitted */\n",
              "  background-color: var(--sklearn-color-fitted-level-0);\n",
              "}\n",
              "\n",
              "/* on hover */\n",
              "#sk-container-id-1 div.sk-estimator:hover {\n",
              "  /* unfitted */\n",
              "  background-color: var(--sklearn-color-unfitted-level-2);\n",
              "}\n",
              "\n",
              "#sk-container-id-1 div.sk-estimator.fitted:hover {\n",
              "  /* fitted */\n",
              "  background-color: var(--sklearn-color-fitted-level-2);\n",
              "}\n",
              "\n",
              "/* Specification for estimator info (e.g. \"i\" and \"?\") */\n",
              "\n",
              "/* Common style for \"i\" and \"?\" */\n",
              "\n",
              ".sk-estimator-doc-link,\n",
              "a:link.sk-estimator-doc-link,\n",
              "a:visited.sk-estimator-doc-link {\n",
              "  float: right;\n",
              "  font-size: smaller;\n",
              "  line-height: 1em;\n",
              "  font-family: monospace;\n",
              "  background-color: var(--sklearn-color-background);\n",
              "  border-radius: 1em;\n",
              "  height: 1em;\n",
              "  width: 1em;\n",
              "  text-decoration: none !important;\n",
              "  margin-left: 0.5em;\n",
              "  text-align: center;\n",
              "  /* unfitted */\n",
              "  border: var(--sklearn-color-unfitted-level-1) 1pt solid;\n",
              "  color: var(--sklearn-color-unfitted-level-1);\n",
              "}\n",
              "\n",
              ".sk-estimator-doc-link.fitted,\n",
              "a:link.sk-estimator-doc-link.fitted,\n",
              "a:visited.sk-estimator-doc-link.fitted {\n",
              "  /* fitted */\n",
              "  border: var(--sklearn-color-fitted-level-1) 1pt solid;\n",
              "  color: var(--sklearn-color-fitted-level-1);\n",
              "}\n",
              "\n",
              "/* On hover */\n",
              "div.sk-estimator:hover .sk-estimator-doc-link:hover,\n",
              ".sk-estimator-doc-link:hover,\n",
              "div.sk-label-container:hover .sk-estimator-doc-link:hover,\n",
              ".sk-estimator-doc-link:hover {\n",
              "  /* unfitted */\n",
              "  background-color: var(--sklearn-color-unfitted-level-3);\n",
              "  color: var(--sklearn-color-background);\n",
              "  text-decoration: none;\n",
              "}\n",
              "\n",
              "div.sk-estimator.fitted:hover .sk-estimator-doc-link.fitted:hover,\n",
              ".sk-estimator-doc-link.fitted:hover,\n",
              "div.sk-label-container:hover .sk-estimator-doc-link.fitted:hover,\n",
              ".sk-estimator-doc-link.fitted:hover {\n",
              "  /* fitted */\n",
              "  background-color: var(--sklearn-color-fitted-level-3);\n",
              "  color: var(--sklearn-color-background);\n",
              "  text-decoration: none;\n",
              "}\n",
              "\n",
              "/* Span, style for the box shown on hovering the info icon */\n",
              ".sk-estimator-doc-link span {\n",
              "  display: none;\n",
              "  z-index: 9999;\n",
              "  position: relative;\n",
              "  font-weight: normal;\n",
              "  right: .2ex;\n",
              "  padding: .5ex;\n",
              "  margin: .5ex;\n",
              "  width: min-content;\n",
              "  min-width: 20ex;\n",
              "  max-width: 50ex;\n",
              "  color: var(--sklearn-color-text);\n",
              "  box-shadow: 2pt 2pt 4pt #999;\n",
              "  /* unfitted */\n",
              "  background: var(--sklearn-color-unfitted-level-0);\n",
              "  border: .5pt solid var(--sklearn-color-unfitted-level-3);\n",
              "}\n",
              "\n",
              ".sk-estimator-doc-link.fitted span {\n",
              "  /* fitted */\n",
              "  background: var(--sklearn-color-fitted-level-0);\n",
              "  border: var(--sklearn-color-fitted-level-3);\n",
              "}\n",
              "\n",
              ".sk-estimator-doc-link:hover span {\n",
              "  display: block;\n",
              "}\n",
              "\n",
              "/* \"?\"-specific style due to the `<a>` HTML tag */\n",
              "\n",
              "#sk-container-id-1 a.estimator_doc_link {\n",
              "  float: right;\n",
              "  font-size: 1rem;\n",
              "  line-height: 1em;\n",
              "  font-family: monospace;\n",
              "  background-color: var(--sklearn-color-background);\n",
              "  border-radius: 1rem;\n",
              "  height: 1rem;\n",
              "  width: 1rem;\n",
              "  text-decoration: none;\n",
              "  /* unfitted */\n",
              "  color: var(--sklearn-color-unfitted-level-1);\n",
              "  border: var(--sklearn-color-unfitted-level-1) 1pt solid;\n",
              "}\n",
              "\n",
              "#sk-container-id-1 a.estimator_doc_link.fitted {\n",
              "  /* fitted */\n",
              "  border: var(--sklearn-color-fitted-level-1) 1pt solid;\n",
              "  color: var(--sklearn-color-fitted-level-1);\n",
              "}\n",
              "\n",
              "/* On hover */\n",
              "#sk-container-id-1 a.estimator_doc_link:hover {\n",
              "  /* unfitted */\n",
              "  background-color: var(--sklearn-color-unfitted-level-3);\n",
              "  color: var(--sklearn-color-background);\n",
              "  text-decoration: none;\n",
              "}\n",
              "\n",
              "#sk-container-id-1 a.estimator_doc_link.fitted:hover {\n",
              "  /* fitted */\n",
              "  background-color: var(--sklearn-color-fitted-level-3);\n",
              "}\n",
              "</style><div id=\"sk-container-id-1\" class=\"sk-top-container\"><div class=\"sk-text-repr-fallback\"><pre>TfidfVectorizer(norm=None, smooth_idf=False)</pre><b>In a Jupyter environment, please rerun this cell to show the HTML representation or trust the notebook. <br />On GitHub, the HTML representation is unable to render, please try loading this page with nbviewer.org.</b></div><div class=\"sk-container\" hidden><div class=\"sk-item\"><div class=\"sk-estimator fitted sk-toggleable\"><input class=\"sk-toggleable__control sk-hidden--visually\" id=\"sk-estimator-id-1\" type=\"checkbox\" checked><label for=\"sk-estimator-id-1\" class=\"sk-toggleable__label fitted sk-toggleable__label-arrow\"><div><div>TfidfVectorizer</div></div><div><a class=\"sk-estimator-doc-link fitted\" rel=\"noreferrer\" target=\"_blank\" href=\"https://scikit-learn.org/1.6/modules/generated/sklearn.feature_extraction.text.TfidfVectorizer.html\">?<span>Documentation for TfidfVectorizer</span></a><span class=\"sk-estimator-doc-link fitted\">i<span>Fitted</span></span></div></label><div class=\"sk-toggleable__content fitted\"><pre>TfidfVectorizer(norm=None, smooth_idf=False)</pre></div> </div></div></div></div>"
            ]
          },
          "metadata": {},
          "execution_count": 9
        }
      ]
    },
    {
      "cell_type": "markdown",
      "metadata": {
        "id": "lBUeudl0Ol8L"
      },
      "source": [
        "A continuación se muestra el resultado de transformar nuestro corpus con lso métodos de scikit-learn. El `CountVectorizer` mostrará el conteo de veces que una palabra del vocabulario está presente dentro del documento, el `TfidfVectorizer` mostrará el resultado con la métrica TF-IDF mostrada en los apuntes."
      ]
    },
    {
      "cell_type": "code",
      "metadata": {
        "id": "y7BGfa8UAEvE",
        "outputId": "0df17950-dd65-4edd-81c3-ebf525593d39",
        "colab": {
          "base_uri": "https://localhost:8080/"
        }
      },
      "source": [
        "# Resultado del CountVectorizer\n",
        "count_data_result = count_data.transform(corpus).toarray()\n",
        "print(count_data_result)"
      ],
      "execution_count": 10,
      "outputs": [
        {
          "output_type": "stream",
          "name": "stdout",
          "text": [
            "[[1 0 0 0 1 0 0 1]\n",
            " [0 1 0 0 1 0 0 1]\n",
            " [2 0 0 0 1 1 0 1]\n",
            " [0 0 0 1 1 0 1 1]\n",
            " [0 0 1 0 1 1 0 1]]\n"
          ]
        }
      ]
    },
    {
      "cell_type": "code",
      "metadata": {
        "id": "fnvyxz32DdUG",
        "outputId": "552b6c68-9346-483c-d5f2-f4248bb390c6",
        "colab": {
          "base_uri": "https://localhost:8080/"
        }
      },
      "source": [
        "# Resultado del TfidfVectorizer\n",
        "tfidf_data_result = tfidf_data.transform(corpus).toarray()  # transform(corpus)\n",
        "print(tfidf_data_result)"
      ],
      "execution_count": 11,
      "outputs": [
        {
          "output_type": "stream",
          "name": "stdout",
          "text": [
            "[[1.91629073 0.         0.         0.         1.         0.\n",
            "  0.         1.        ]\n",
            " [0.         2.60943791 0.         0.         1.         0.\n",
            "  0.         1.        ]\n",
            " [3.83258146 0.         0.         0.         1.         1.91629073\n",
            "  0.         1.        ]\n",
            " [0.         0.         0.         2.60943791 1.         0.\n",
            "  2.60943791 1.        ]\n",
            " [0.         0.         2.60943791 0.         1.         1.91629073\n",
            "  0.         1.        ]]\n"
          ]
        }
      ]
    },
    {
      "cell_type": "markdown",
      "metadata": {
        "id": "_xm5fMDoY-nR"
      },
      "source": [
        "Vamos a mostrar los resultados con seaborn para que se vean mejor. Importante mencionar que esto se puede hacer cuando el vocabulario es muy reducido, si no podría ocasionar problemas en la memoria."
      ]
    },
    {
      "cell_type": "code",
      "metadata": {
        "id": "Cck6bfUBZBrb",
        "outputId": "02fd16ca-4988-421e-a6bb-93a5e257fa68",
        "colab": {
          "base_uri": "https://localhost:8080/",
          "height": 484
        }
      },
      "source": [
        "import matplotlib.pyplot as plt\n",
        "import seaborn as sns\n",
        "plt.figure(figsize=(16, 6))\n",
        "# Figura CountVectorizer\n",
        "sns.heatmap(count_data_result, annot=True,cbar=False,\n",
        "            xticklabels=count_data.get_feature_names_out(),\n",
        "            yticklabels = [\"Frase 1\", \"Frase 2\", \"Frase 3\",\"Frase 4\", \"Frase 5\"])\n",
        "\n"
      ],
      "execution_count": 12,
      "outputs": [
        {
          "output_type": "execute_result",
          "data": {
            "text/plain": [
              "<Axes: >"
            ]
          },
          "metadata": {},
          "execution_count": 12
        },
        {
          "output_type": "display_data",
          "data": {
            "text/plain": [
              "<Figure size 1600x600 with 1 Axes>"
            ],
            "image/png": "[encoded data removed]"
          },
          "metadata": {}
        }
      ]
    },
    {
      "cell_type": "code",
      "metadata": {
        "id": "X4viXEKmD1FT",
        "outputId": "7e503c98-5e3e-4514-e76c-bd338765eeb2",
        "colab": {
          "base_uri": "https://localhost:8080/",
          "height": 484
        }
      },
      "source": [
        "plt.figure(figsize=(16, 6))\n",
        "sns.heatmap(tfidf_data_result, annot=True,cbar=False,\n",
        "            xticklabels=tfidf_data.get_feature_names_out(),\n",
        "            yticklabels = [\"Frase 1\", \"Frase 2\", \"Frase 3\",\"Frase 4\", \"Frase 5\"])"
      ],
      "execution_count": 13,
      "outputs": [
        {
          "output_type": "execute_result",
          "data": {
            "text/plain": [
              "<Axes: >"
            ]
          },
          "metadata": {},
          "execution_count": 13
        },
        {
          "output_type": "display_data",
          "data": {
            "text/plain": [
              "<Figure size 1600x600 with 1 Axes>"
            ],
            "image/png": "[encoded data removed]"
          },
          "metadata": {}
        }
      ]
    },
    {
      "cell_type": "markdown",
      "metadata": {
        "id": "JFJMRxoQNK4J"
      },
      "source": [
        "### Uso de preprocesadores externos a scikit-learn\n",
        "\n",
        "\n"
      ]
    },
    {
      "cell_type": "markdown",
      "metadata": {
        "id": "Vov1rGLIDjr9"
      },
      "source": [
        "En primer lugar, dado que vamos a utilizar spacy, instalaremos la librería y el modelo:"
      ]
    },
    {
      "cell_type": "code",
      "metadata": {
        "id": "ZshEoLThWJDt",
        "collapsed": true,
        "outputId": "8495d899-9193-4aec-bf0c-1543b2deaf0e",
        "colab": {
          "base_uri": "https://localhost:8080/"
        }
      },
      "source": [
        "!pip install spacy\n",
        "!python -m spacy download es_core_news_sm\n",
        "!python -m spacy download en_core_web_sm"
      ],
      "execution_count": 14,
      "outputs": [
        {
          "output_type": "stream",
          "name": "stdout",
          "text": [
            "Requirement already satisfied: spacy in /usr/local/lib/python3.11/dist-packages (3.8.7)\n",
            "Requirement already satisfied: spacy-legacy<3.1.0,>=3.0.11 in /usr/local/lib/python3.11/dist-packages (from spacy) (3.0.12)\n",
            "Requirement already satisfied: spacy-loggers<2.0.0,>=1.0.0 in /usr/local/lib/python3.11/dist-packages (from spacy) (1.0.5)\n",
            "Requirement already satisfied: murmurhash<1.1.0,>=0.28.0 in /usr/local/lib/python3.11/dist-packages (from spacy) (1.0.13)\n",
            "Requirement already satisfied: cymem<2.1.0,>=2.0.2 in /usr/local/lib/python3.11/dist-packages (from spacy) (2.0.11)\n",
            "Requirement already satisfied: preshed<3.1.0,>=3.0.2 in /usr/local/lib/python3.11/dist-packages (from spacy) (3.0.10)\n",
            "Requirement already satisfied: thinc<8.4.0,>=8.3.4 in /usr/local/lib/python3.11/dist-packages (from spacy) (8.3.6)\n",
            "Requirement already satisfied: wasabi<1.2.0,>=0.9.1 in /usr/local/lib/python3.11/dist-packages (from spacy) (1.1.3)\n",
            "Requirement already satisfied: srsly<3.0.0,>=2.4.3 in /usr/local/lib/python3.11/dist-packages (from spacy) (2.5.1)\n",
            "Requirement already satisfied: catalogue<2.1.0,>=2.0.6 in /usr/local/lib/python3.11/dist-packages (from spacy) (2.0.10)\n",
            "Requirement already satisfied: weasel<0.5.0,>=0.1.0 in /usr/local/lib/python3.11/dist-packages (from spacy) (0.4.1)\n",
            "Requirement already satisfied: typer<1.0.0,>=0.3.0 in /usr/local/lib/python3.11/dist-packages (from spacy) (0.16.0)\n",
            "Requirement already satisfied: tqdm<5.0.0,>=4.38.0 in /usr/local/lib/python3.11/dist-packages (from spacy) (4.67.1)\n",
            "Requirement already satisfied: numpy>=1.19.0 in /usr/local/lib/python3.11/dist-packages (from spacy) (2.0.2)\n",
            "Requirement already satisfied: requests<3.0.0,>=2.13.0 in /usr/local/lib/python3.11/dist-packages (from spacy) (2.32.3)\n",
            "Requirement already satisfied: pydantic!=1.8,!=1.8.1,<3.0.0,>=1.7.4 in /usr/local/lib/python3.11/dist-packages (from spacy) (2.11.7)\n",
            "Requirement already satisfied: jinja2 in /usr/local/lib/python3.11/dist-packages (from spacy) (3.1.6)\n",
            "Requirement already satisfied: setuptools in /usr/local/lib/python3.11/dist-packages (from spacy) (75.2.0)\n",
            "Requirement already satisfied: packaging>=20.0 in /usr/local/lib/python3.11/dist-packages (from spacy) (24.2)\n",
            "Requirement already satisfied: langcodes<4.0.0,>=3.2.0 in /usr/local/lib/python3.11/dist-packages (from spacy) (3.5.0)\n",
            "Requirement already satisfied: language-data>=1.2 in /usr/local/lib/python3.11/dist-packages (from langcodes<4.0.0,>=3.2.0->spacy) (1.3.0)\n",
            "Requirement already satisfied: annotated-types>=0.6.0 in /usr/local/lib/python3.11/dist-packages (from pydantic!=1.8,!=1.8.1,<3.0.0,>=1.7.4->spacy) (0.7.0)\n",
            "Requirement already satisfied: pydantic-core==2.33.2 in /usr/local/lib/python3.11/dist-packages (from pydantic!=1.8,!=1.8.1,<3.0.0,>=1.7.4->spacy) (2.33.2)\n",
            "Requirement already satisfied: typing-extensions>=4.12.2 in /usr/local/lib/python3.11/dist-packages (from pydantic!=1.8,!=1.8.1,<3.0.0,>=1.7.4->spacy) (4.14.0)\n",
            "Requirement already satisfied: typing-inspection>=0.4.0 in /usr/local/lib/python3.11/dist-packages (from pydantic!=1.8,!=1.8.1,<3.0.0,>=1.7.4->spacy) (0.4.1)\n",
            "Requirement already satisfied: charset-normalizer<4,>=2 in /usr/local/lib/python3.11/dist-packages (from requests<3.0.0,>=2.13.0->spacy) (3.4.2)\n",
            "Requirement already satisfied: idna<4,>=2.5 in /usr/local/lib/python3.11/dist-packages (from requests<3.0.0,>=2.13.0->spacy) (3.10)\n",
            "Requirement already satisfied: urllib3<3,>=1.21.1 in /usr/local/lib/python3.11/dist-packages (from requests<3.0.0,>=2.13.0->spacy) (2.4.0)\n",
            "Requirement already satisfied: certifi>=2017.4.17 in /usr/local/lib/python3.11/dist-packages (from requests<3.0.0,>=2.13.0->spacy) (2025.6.15)\n",
            "Requirement already satisfied: blis<1.4.0,>=1.3.0 in /usr/local/lib/python3.11/dist-packages (from thinc<8.4.0,>=8.3.4->spacy) (1.3.0)\n",
            "Requirement already satisfied: confection<1.0.0,>=0.0.1 in /usr/local/lib/python3.11/dist-packages (from thinc<8.4.0,>=8.3.4->spacy) (0.1.5)\n",
            "Requirement already satisfied: click>=8.0.0 in /usr/local/lib/python3.11/dist-packages (from typer<1.0.0,>=0.3.0->spacy) (8.2.1)\n",
            "Requirement already satisfied: shellingham>=1.3.0 in /usr/local/lib/python3.11/dist-packages (from typer<1.0.0,>=0.3.0->spacy) (1.5.4)\n",
            "Requirement already satisfied: rich>=10.11.0 in /usr/local/lib/python3.11/dist-packages (from typer<1.0.0,>=0.3.0->spacy) (13.9.4)\n",
            "Requirement already satisfied: cloudpathlib<1.0.0,>=0.7.0 in /usr/local/lib/python3.11/dist-packages (from weasel<0.5.0,>=0.1.0->spacy) (0.21.1)\n",
            "Requirement already satisfied: smart-open<8.0.0,>=5.2.1 in /usr/local/lib/python3.11/dist-packages (from weasel<0.5.0,>=0.1.0->spacy) (7.1.0)\n",
            "Requirement already satisfied: MarkupSafe>=2.0 in /usr/local/lib/python3.11/dist-packages (from jinja2->spacy) (3.0.2)\n",
            "Requirement already satisfied: marisa-trie>=1.1.0 in /usr/local/lib/python3.11/dist-packages (from language-data>=1.2->langcodes<4.0.0,>=3.2.0->spacy) (1.2.1)\n",
            "Requirement already satisfied: markdown-it-py>=2.2.0 in /usr/local/lib/python3.11/dist-packages (from rich>=10.11.0->typer<1.0.0,>=0.3.0->spacy) (3.0.0)\n",
            "Requirement already satisfied: pygments<3.0.0,>=2.13.0 in /usr/local/lib/python3.11/dist-packages (from rich>=10.11.0->typer<1.0.0,>=0.3.0->spacy) (2.19.2)\n",
            "Requirement already satisfied: wrapt in /usr/local/lib/python3.11/dist-packages (from smart-open<8.0.0,>=5.2.1->weasel<0.5.0,>=0.1.0->spacy) (1.17.2)\n",
            "Requirement already satisfied: mdurl~=0.1 in /usr/local/lib/python3.11/dist-packages (from markdown-it-py>=2.2.0->rich>=10.11.0->typer<1.0.0,>=0.3.0->spacy) (0.1.2)\n",
            "Collecting es-core-news-sm==3.8.0\n",
            "  Downloading https://github.com/explosion/spacy-models/releases/download/es_core_news_sm-3.8.0/es_core_news_sm-3.8.0-py3-none-any.whl (12.9 MB)\n",
            "\u001b[2K     \u001b[90m━━━━━━━━━━━━━━━━━━━━━━━━━━━━━━━━━━━━━━━━\u001b[0m \u001b[32m12.9/12.9 MB\u001b[0m \u001b[31m83.4 MB/s\u001b[0m eta \u001b[36m0:00:00\u001b[0m\n",
            "\u001b[?25h\u001b[38;5;2m✔ Download and installation successful\u001b[0m\n",
            "You can now load the package via spacy.load('es_core_news_sm')\n",
            "\u001b[38;5;3m⚠ Restart to reload dependencies\u001b[0m\n",
            "If you are in a Jupyter or Colab notebook, you may need to restart Python in\n",
            "order to load all the package's dependencies. You can do this by selecting the\n",
            "'Restart kernel' or 'Restart runtime' option.\n",
            "Collecting en-core-web-sm==3.8.0\n",
            "  Downloading https://github.com/explosion/spacy-models/releases/download/en_core_web_sm-3.8.0/en_core_web_sm-3.8.0-py3-none-any.whl (12.8 MB)\n",
            "\u001b[2K     \u001b[90m━━━━━━━━━━━━━━━━━━━━━━━━━━━━━━━━━━━━━━━━\u001b[0m \u001b[32m12.8/12.8 MB\u001b[0m \u001b[31m57.5 MB/s\u001b[0m eta \u001b[36m0:00:00\u001b[0m\n",
            "\u001b[?25h\u001b[38;5;2m✔ Download and installation successful\u001b[0m\n",
            "You can now load the package via spacy.load('en_core_web_sm')\n",
            "\u001b[38;5;3m⚠ Restart to reload dependencies\u001b[0m\n",
            "If you are in a Jupyter or Colab notebook, you may need to restart Python in\n",
            "order to load all the package's dependencies. You can do this by selecting the\n",
            "'Restart kernel' or 'Restart runtime' option.\n"
          ]
        }
      ]
    },
    {
      "cell_type": "markdown",
      "metadata": {
        "id": "aNiPnKMIDqVA"
      },
      "source": [
        "Importamos las librerías y creamos el objeto \"nlp\" para procesar los textos\n",
        "\n",
        "\n"
      ]
    },
    {
      "cell_type": "code",
      "metadata": {
        "id": "FQLM1Ja1Wtak"
      },
      "source": [
        "import spacy\n",
        "import es_core_news_sm\n",
        "nlp = spacy.load('es_core_news_sm')  #es_core_news_sm"
      ],
      "execution_count": 17,
      "outputs": []
    },
    {
      "cell_type": "markdown",
      "metadata": {
        "id": "2YKq_qpdDxHA"
      },
      "source": [
        "Guardamos las stop words de Spacy en una variable llamada \"stop_words\". También cogemos los tokens considerados símbolos de punctuación en la variable \"punctuations\":"
      ]
    },
    {
      "cell_type": "code",
      "metadata": {
        "id": "x_Rnj35hXCH_"
      },
      "source": [
        "import string\n",
        "spacy_stopwords = spacy.lang.es.stop_words.STOP_WORDS\n",
        "stop_words = spacy_stopwords\n",
        "punctuations=string.punctuation"
      ],
      "execution_count": 18,
      "outputs": []
    },
    {
      "cell_type": "markdown",
      "metadata": {
        "id": "0NFUlkdsEBUu"
      },
      "source": [
        "Generamos una función \"spacy_tokenizer\" que:"
      ]
    },
    {
      "cell_type": "code",
      "metadata": {
        "id": "k6pGl_YBO7uZ"
      },
      "source": [
        "def spacy_tokenizer(sentence):\n",
        "    # Pasamos la frase por el objeto nlp para procesarla\n",
        "    mytokens = nlp(sentence)\n",
        "\n",
        "    # Lematizamos los tokens y los convertimos  a minusculas\n",
        "    mytokens = [ word.lemma_.lower().strip() for word in mytokens ]\n",
        "\n",
        "    # Quitamos las stopwords y los signos de puntuacion\n",
        "    mytokens = [ word for word in mytokens if word not in stop_words and word not in punctuations ]\n",
        "\n",
        "    # devolver una lsita de tokens\n",
        "    return mytokens"
      ],
      "execution_count": 19,
      "outputs": []
    },
    {
      "cell_type": "markdown",
      "metadata": {
        "id": "zzZbGtGaD-Vt"
      },
      "source": [
        "Utilizamos esa función como tokenizador en TfidfVectorizer:\n"
      ]
    },
    {
      "cell_type": "code",
      "metadata": {
        "id": "niPHblSRO7jM",
        "outputId": "f11bda83-ab1b-45b6-a53c-e4f386d54ac2",
        "colab": {
          "base_uri": "https://localhost:8080/"
        }
      },
      "source": [
        "tfidf_vectorizer = TfidfVectorizer(norm=None, smooth_idf=False, tokenizer = spacy_tokenizer) # Re-escribimos los valores por defecto para tener el tf-idf básico\n",
        "tfidf_data = tfidf_vectorizer.fit(corpus)"
      ],
      "execution_count": 20,
      "outputs": [
        {
          "output_type": "stream",
          "name": "stderr",
          "text": [
            "/usr/local/lib/python3.11/dist-packages/sklearn/feature_extraction/text.py:517: UserWarning: The parameter 'token_pattern' will not be used since 'tokenizer' is not None'\n",
            "  warnings.warn(\n"
          ]
        }
      ]
    },
    {
      "cell_type": "code",
      "metadata": {
        "id": "BjKhD6FJEY7G",
        "outputId": "4b94db3b-690a-4729-8f65-a05638f86826",
        "colab": {
          "base_uri": "https://localhost:8080/"
        }
      },
      "source": [
        "print(\"\\n\\n TF-IDF VECTORIZER\")\n",
        "print(\"Obtenemos el vocabulario en si mismo como una lista\")\n",
        "print(tfidf_data.get_feature_names_out())\n",
        "print(\"Numero de características:\")\n",
        "print(len(tfidf_data.get_feature_names_out()))"
      ],
      "execution_count": 21,
      "outputs": [
        {
          "output_type": "stream",
          "name": "stdout",
          "text": [
            "\n",
            "\n",
            " TF-IDF VECTORIZER\n",
            "Obtenemos el vocabulario en si mismo como una lista\n",
            "['agua' 'cocacola' 'entrecot' 'querer' 'vino']\n",
            "Numero de características:\n",
            "5\n"
          ]
        }
      ]
    },
    {
      "cell_type": "markdown",
      "metadata": {
        "id": "70q1LsT6BnQ_"
      },
      "source": [
        "**Ejercicio**:\n",
        "\n",
        "Queremos transformar nuestro dataset de noticias con las siguientes especificaciones:\n",
        " - Transformar los primeros 3000 documentos\n",
        " - Se utilice idf y el valor de norm por defecto.\n",
        " - Se utilice la función de preprocesado de spacy utilizada anteriormente\n",
        " - Se consideren unigramas, bigramas, trigramas\n",
        " - El vectorizador no debe considerar los elementos que aparezcan en menos del 5% de documentos."
      ]
    },
    {
      "cell_type": "code",
      "metadata": {
        "id": "EdgVDoaZBmdI",
        "outputId": "10786a19-c55c-45f0-f957-426dbf6a90f3",
        "colab": {
          "base_uri": "https://localhost:8080/"
        }
      },
      "source": [
        "# Dataset de noticias\n",
        "!wget \"https://github.com/luisgasco/ntic_master_datos/raw/main/datasets/news_summary.csv\""
      ],
      "execution_count": 22,
      "outputs": [
        {
          "output_type": "stream",
          "name": "stdout",
          "text": [
            "--2025-06-30 16:38:26--  https://github.com/luisgasco/ntic_master_datos/raw/main/datasets/news_summary.csv\n",
            "Resolving github.com (github.com)... 140.82.114.4\n",
            "Connecting to github.com (github.com)|140.82.114.4|:443... connected.\n",
            "HTTP request sent, awaiting response... 302 Found\n",
            "Location: https://raw.githubusercontent.com/luisgasco/ntic_master_datos/main/datasets/news_summary.csv [following]\n",
            "--2025-06-30 16:38:27--  https://raw.githubusercontent.com/luisgasco/ntic_master_datos/main/datasets/news_summary.csv\n",
            "Resolving raw.githubusercontent.com (raw.githubusercontent.com)... 185.199.108.133, 185.199.109.133, 185.199.110.133, ...\n",
            "Connecting to raw.githubusercontent.com (raw.githubusercontent.com)|185.199.108.133|:443... connected.\n",
            "HTTP request sent, awaiting response... 200 OK\n",
            "Length: 11896415 (11M) [application/octet-stream]\n",
            "Saving to: ‘news_summary.csv’\n",
            "\n",
            "news_summary.csv    100%[===================>]  11.34M  --.-KB/s    in 0.08s   \n",
            "\n",
            "2025-06-30 16:38:28 (136 MB/s) - ‘news_summary.csv’ saved [11896415/11896415]\n",
            "\n"
          ]
        }
      ]
    },
    {
      "cell_type": "code",
      "metadata": {
        "id": "e0AlbRlGCzBp"
      },
      "source": [
        "import pandas as pd\n",
        "news_summary = pd.read_csv('../content/news_summary.csv', encoding='latin-1')\n",
        "news_subset = news_summary[\"text\"].to_list()[0:3000]"
      ],
      "execution_count": 23,
      "outputs": []
    },
    {
      "cell_type": "code",
      "source": [
        "import en_core_web_sm\n",
        "nlp = en_core_web_sm.load()\n",
        "spacy_stopwords = spacy.lang.en.stop_words.STOP_WORDS\n",
        "stop_words = spacy_stopwords\n",
        "punctuations=string.punctuation"
      ],
      "metadata": {
        "id": "6usk35QdQRni"
      },
      "execution_count": 24,
      "outputs": []
    },
    {
      "cell_type": "code",
      "metadata": {
        "id": "LZbmmDHR3RlB"
      },
      "source": [
        "def spacy_tokenizer(sentence):\n",
        "    # Pasamos la frase por el objeto nlp para procesarla\n",
        "    mytokens = nlp(sentence)\n",
        "\n",
        "    # Lematizamos los tokens y los convertimos  a minusculas\n",
        "    mytokens = [ word.lemma_.lower().strip() if word.lemma_ != \"-PRON-\" else word.lower_ for word in mytokens ]\n",
        "\n",
        "    # Quitamos las stopwords y los signos de puntuacion\n",
        "    mytokens = [ word for word in mytokens if word not in stop_words and word not in punctuations ]\n",
        "\n",
        "    # Quitamos números:\n",
        "    mytokens = ['NUM' if word.isdigit() else word for word in mytokens  ]\n",
        "    # devolver una lsita de tokens\n",
        "    return mytokens"
      ],
      "execution_count": 25,
      "outputs": []
    },
    {
      "cell_type": "code",
      "metadata": {
        "id": "Wa7l5c_51DpI",
        "outputId": "77044fc7-8ddd-41c6-9363-655b3c81db61",
        "colab": {
          "base_uri": "https://localhost:8080/"
        }
      },
      "source": [
        "tfidf_vect = TfidfVectorizer(norm='l2', use_idf=True,\n",
        "                             smooth_idf=True,\n",
        "                             tokenizer=spacy_tokenizer,\n",
        "                             ngram_range=(1,3),\n",
        "                             min_df=0.05)\n",
        "tfidf_data = tfidf_vect.fit(news_subset)"
      ],
      "execution_count": 26,
      "outputs": [
        {
          "output_type": "stream",
          "name": "stderr",
          "text": [
            "/usr/local/lib/python3.11/dist-packages/sklearn/feature_extraction/text.py:517: UserWarning: The parameter 'token_pattern' will not be used since 'tokenizer' is not None'\n",
            "  warnings.warn(\n"
          ]
        }
      ]
    },
    {
      "cell_type": "code",
      "source": [
        "tfidf_data_t = tfidf_data.transform(news_subset)"
      ],
      "metadata": {
        "id": "YLN1sHqMbIdp"
      },
      "execution_count": 27,
      "outputs": []
    },
    {
      "cell_type": "code",
      "source": [
        "tfidf_data_t"
      ],
      "metadata": {
        "id": "D6V9RL6H3KKS",
        "outputId": "2ee2de7d-2e9f-4267-f7cb-71a605c15bff",
        "colab": {
          "base_uri": "https://localhost:8080/"
        }
      },
      "execution_count": 28,
      "outputs": [
        {
          "output_type": "execute_result",
          "data": {
            "text/plain": [
              "<Compressed Sparse Row sparse matrix of dtype 'float64'\n",
              "\twith 14836 stored elements and shape (3000, 56)>"
            ]
          },
          "metadata": {},
          "execution_count": 28
        }
      ]
    },
    {
      "cell_type": "code",
      "metadata": {
        "id": "DYkkGStl2dRk",
        "outputId": "cc7674d4-14da-4ae2-a61c-3f10cfb2d15b",
        "colab": {
          "base_uri": "https://localhost:8080/"
        }
      },
      "source": [
        "tfidf_data.get_feature_names_out()"
      ],
      "execution_count": 29,
      "outputs": [
        {
          "output_type": "execute_result",
          "data": {
            "text/plain": [
              "array(['...', 'NUM', 'NUM NUM', 'NUM year', 'NUM year old', 'accord',\n",
              "       'accuse', 'actor', 'add', 'allegedly', 'arrest', 'ask', 'case',\n",
              "       'chief', 'claim', 'come', 'country', 'court', 'crore', 'day',\n",
              "       'delhi', 'early', 'far', 'film', 'find', 'follow', 'friday',\n",
              "       'government', 'high', 'include', 'india', 'indian', 'lakh', 'like',\n",
              "       'man', 'minister', 'monday', 'month', 'mumbai', 'new', 'notably',\n",
              "       'official', 'old', 'party', 'people', 'police', 'president',\n",
              "       'report', 'reportedly', 'state', 'time', 'tuesday', 'use', 'woman',\n",
              "       'year', 'year old'], dtype=object)"
            ]
          },
          "metadata": {},
          "execution_count": 29
        }
      ]
    },
    {
      "cell_type": "markdown",
      "source": [
        "## 3. [EXTRA] - Diferencias entre BoW y TF-IDF\n"
      ],
      "metadata": {
        "id": "WCrHf9PfL4rE"
      }
    },
    {
      "cell_type": "markdown",
      "source": [
        "Hasta el momento hemos visto diferente maneras de realizar la representación de documentos utilizando el método BoW y TF-IDF.\n",
        "Sin embargo, ¿Qué implica realmente utilizar un método u otro?\n",
        "\n",
        "La clave de TF-IDF es su penalización de palabras comunes en todos los documentos. Para ver su efecto, en este apartado vamos a:\n",
        "1. Descargar un conjunto de documentos de wikipedia\n",
        "2. Preprocesarlos\n",
        "3. Mostrar los 10 términos más importantes para BoW y Tf-IDF, y ver las diferencias"
      ],
      "metadata": {
        "id": "FOE0JENtaEAc"
      }
    },
    {
      "cell_type": "markdown",
      "source": [
        "En primer lugar importanmos y descargamos las librerías que utilizaremos\n"
      ],
      "metadata": {
        "id": "hsmWpxPhbxuI"
      }
    },
    {
      "cell_type": "code",
      "source": [
        "!pip install wikipedia\n",
        "import wikipedia\n",
        "import spacy\n",
        "import collections\n",
        "import math\n",
        "from sklearn.feature_extraction.text import CountVectorizer,TfidfVectorizer\n",
        "from sklearn.feature_extraction import text\n",
        "import string\n",
        "import numpy as np\n",
        "import re\n",
        "\n",
        "nlp = spacy.load('en_core_web_sm')\n",
        "spacy_stopwords = spacy.lang.en.stop_words.STOP_WORDS\n",
        "stop_words = spacy_stopwords\n",
        "punctuations=string.punctuation\n",
        "RE_WHITESPACE = re.compile(r\"\\s+\")\n"
      ],
      "metadata": {
        "id": "Mr63VVHsMZCw",
        "outputId": "409b9ea9-0571-41b9-d695-04044eb539cf",
        "colab": {
          "base_uri": "https://localhost:8080/"
        }
      },
      "execution_count": 31,
      "outputs": [
        {
          "output_type": "stream",
          "name": "stdout",
          "text": [
            "Collecting wikipedia\n",
            "  Using cached wikipedia-1.4.0.tar.gz (27 kB)\n",
            "  Preparing metadata (setup.py) ... \u001b[?25l\u001b[?25hdone\n",
            "Requirement already satisfied: beautifulsoup4 in /usr/local/lib/python3.11/dist-packages (from wikipedia) (4.13.4)\n",
            "Requirement already satisfied: requests<3.0.0,>=2.0.0 in /usr/local/lib/python3.11/dist-packages (from wikipedia) (2.32.3)\n",
            "Requirement already satisfied: charset-normalizer<4,>=2 in /usr/local/lib/python3.11/dist-packages (from requests<3.0.0,>=2.0.0->wikipedia) (3.4.2)\n",
            "Requirement already satisfied: idna<4,>=2.5 in /usr/local/lib/python3.11/dist-packages (from requests<3.0.0,>=2.0.0->wikipedia) (3.10)\n",
            "Requirement already satisfied: urllib3<3,>=1.21.1 in /usr/local/lib/python3.11/dist-packages (from requests<3.0.0,>=2.0.0->wikipedia) (2.4.0)\n",
            "Requirement already satisfied: certifi>=2017.4.17 in /usr/local/lib/python3.11/dist-packages (from requests<3.0.0,>=2.0.0->wikipedia) (2025.6.15)\n",
            "Requirement already satisfied: soupsieve>1.2 in /usr/local/lib/python3.11/dist-packages (from beautifulsoup4->wikipedia) (2.7)\n",
            "Requirement already satisfied: typing-extensions>=4.0.0 in /usr/local/lib/python3.11/dist-packages (from beautifulsoup4->wikipedia) (4.14.0)\n",
            "Building wheels for collected packages: wikipedia\n",
            "  Building wheel for wikipedia (setup.py) ... \u001b[?25l\u001b[?25hdone\n",
            "  Created wheel for wikipedia: filename=wikipedia-1.4.0-py3-none-any.whl size=11678 sha256=df43abd79c7c4dfd84e5e5c464f1c578f77886b79289d59b226df12bac29b47c\n",
            "  Stored in directory: /root/.cache/pip/wheels/8f/ab/cb/45ccc40522d3a1c41e1d2ad53b8f33a62f394011ec38cd71c6\n",
            "Successfully built wikipedia\n",
            "Installing collected packages: wikipedia\n",
            "Successfully installed wikipedia-1.4.0\n"
          ]
        }
      ]
    },
    {
      "cell_type": "markdown",
      "source": [
        "Definimos una función de procesado similar a la anteriormente definida. En este caso eliminarmos los números (no los sustitumos por un caracter vacío). Además, eliminamos posibles espacios extras despues del proceso de tokenización"
      ],
      "metadata": {
        "id": "HhaSP7W9cC0m"
      }
    },
    {
      "cell_type": "code",
      "source": [
        "def spacy_tokenizer(sentence):\n",
        "    # Pasamos la frase por el objeto nlp para procesarla\n",
        "    mytokens = nlp(sentence)\n",
        "\n",
        "    mytokens = [ word.text.lower()   if word.pos_ == 'PRON' or word.lemma_ == '-PRON-' else word.lemma_.lower() for word in mytokens]\n",
        "\n",
        "    # Lematizamos los tokens y los convertimos  a minusculas\n",
        " #   mytokens = [ word.lemma_.lower().strip() if word.lemma_ != \"-PRON-\" else word.lower_ for word in mytokens ]\n",
        "\n",
        "    # Quitamos las stopwords y los signos de puntuacion\n",
        "    mytokens = [ word for word in mytokens if word not in stop_words and word not in punctuations ]\n",
        "\n",
        "    # Quitamos números:\n",
        "    mytokens = [word  for word in mytokens if not word.isdigit()]\n",
        "    # Remove extra spaces\n",
        "    mytokens = [token.strip() for token in mytokens]\n",
        "    # devolver una lsita de tokens\n",
        "    return mytokens\n"
      ],
      "metadata": {
        "id": "FctYfGP7MA99"
      },
      "execution_count": 32,
      "outputs": []
    },
    {
      "cell_type": "markdown",
      "source": [
        "Vamos a descargar el texto de descripción de varios guitarristas históricos. Para ello definiremos una lista de strings con sus nombres y los obtendremos utilizando la función \"page\" de la librería wikipedia.\n"
      ],
      "metadata": {
        "id": "9MJ44YYJcKb7"
      }
    },
    {
      "cell_type": "code",
      "source": [
        "pages =  [\n",
        "  \"Brian May\",\"jimmy page\",\"eddie van halen\",\"david gilmour\",\n",
        "  \"Jeff Beck\",\"mark knopfler\",\"Billy Gibbons\",\"Carlos Santana\",\n",
        "  \"Stevie Ray Vaughan\",\"BB king\",\"Buddy Guy\",\"Albert King\",\"Rory Gallagher\",\n",
        "  \"Joe Satriani\", \"jimi hendrix\",\"George Harrison\"\n",
        "    ]\n",
        "documentes = [RE_WHITESPACE.sub(\" \",wikipedia.page(page, auto_suggest=False).content).strip() for page in pages]"
      ],
      "metadata": {
        "id": "Zv4V4SbkaLfu"
      },
      "execution_count": 33,
      "outputs": []
    },
    {
      "cell_type": "markdown",
      "source": [
        "Calculamos y entrenamos vectorizadores TFIDF y BoW (CountVectorizer) para el corpus descargado y preprocesado:"
      ],
      "metadata": {
        "id": "JIoXIw21cekC"
      }
    },
    {
      "cell_type": "code",
      "source": [
        "tfidf_vect = TfidfVectorizer(lowercase = False, stop_words = None, use_idf = True, smooth_idf = False,\n",
        "                             norm = \"l2\", tokenizer=spacy_tokenizer)\n",
        "count_vect = CountVectorizer(lowercase = False, stop_words = None, tokenizer=spacy_tokenizer)\n",
        "\n",
        "tfidf_data = tfidf_vect.fit(documentes)\n",
        "count_data = count_vect.fit(documentes)"
      ],
      "metadata": {
        "id": "kKH3O6NwMris"
      },
      "execution_count": 35,
      "outputs": []
    },
    {
      "cell_type": "markdown",
      "source": [
        "Generamos funciones para obtener las palabras más importantes del vectorizador:\n"
      ],
      "metadata": {
        "id": "qSNTuC2GcxzL"
      }
    },
    {
      "cell_type": "code",
      "source": [
        "tfidf_feature_names = np.array(tfidf_data.get_feature_names_out())\n",
        "count_feature_names = np.array(count_data.get_feature_names_out())\n",
        "\n",
        "def get_top_vect_words(response, top_n=2,feature_name_array=tfidf_feature_names):\n",
        "  # De la respuesta del vectorizador, cogemos los datos en bruto del array, los ordenamos\n",
        "  # de mayor a menor y cogemos los índices de los top_n terminos. Que se seleccionarán del\n",
        "  # los nombres de las caracteristicas (tokens) del vectorizador.\n",
        "    sorted_nzs = np.argsort(response.data)[:-(top_n+1):-1]\n",
        "    return feature_name_array[response.indices[sorted_nzs]]\n"
      ],
      "metadata": {
        "id": "armdlrKJMWoG"
      },
      "execution_count": 36,
      "outputs": []
    },
    {
      "cell_type": "markdown",
      "source": [
        "Generamos está función para mostrar los 10 términos más importantes de un documento vectorizado con TF-IDF y BoW para ver sus diferencias."
      ],
      "metadata": {
        "id": "FaBwKqfpdTBW"
      }
    },
    {
      "cell_type": "code",
      "source": [
        "def show_doc_results(doc,top_n):\n",
        "  responses_tfidf = tfidf_vect.transform([doc])\n",
        "  responses_count = count_vect.transform([doc])\n",
        "  most_frequent = list(get_top_vect_words(responses_count,top_n,count_feature_names))\n",
        "  tfidf = list(get_top_vect_words(responses_tfidf,top_n,tfidf_feature_names))\n",
        "  print(\"Tokens más frecuentes: {}\".format(most_frequent))\n",
        "  print(\"Tokens con mayor TF-IDF: {}\".format(tfidf))"
      ],
      "metadata": {
        "id": "X1fO7JoYc7-e"
      },
      "execution_count": 37,
      "outputs": []
    },
    {
      "cell_type": "code",
      "source": [
        "for i in range(0, len(pages)):\n",
        "  print(pages[i])\n",
        "  show_doc_results(documentes[i],10)"
      ],
      "metadata": {
        "id": "Tf7C8FC6gH-N",
        "colab": {
          "base_uri": "https://localhost:8080/"
        },
        "outputId": "a5c31f79-16f9-44a7-b522-59fd43711f2f"
      },
      "execution_count": 38,
      "outputs": [
        {
          "output_type": "stream",
          "name": "stdout",
          "text": [
            "Brian May\n",
            "Tokens más frecuentes: ['queen', 'guitar', 'album', 'use', 'band', 'song', 'rock', 'work', 'perform', 'tour']\n",
            "Tokens con mayor TF-IDF: ['queen', 'badger', 'guitar', 'mercury', 'animal', 'welfare', 'lambert', 'album', 'use', 'band']\n",
            "jimmy page\n",
            "Tokens más frecuentes: ['page', 'guitar', 'zeppelin', 'led', 'play', 'album', 'use', 'record', 'session', 'band']\n",
            "Tokens con mayor TF-IDF: ['page', 'zeppelin', 'led', 'guitar', 'play', 'yardbirds', 'plant', 'album', 'use', 'record']\n",
            "eddie van halen\n",
            "Tokens más frecuentes: ['van', 'halen', 'guitar', 'eddie', 'band', 'album', 'play', 'later', 'use', 'work']\n",
            "Tokens con mayor TF-IDF: ['halen', 'van', 'eddie', 'guitar', 'evh', 'wolfgang', 'simmons', 'bertinelli', 'band', 'frankenstrat']\n",
            "david gilmour\n",
            "Tokens más frecuentes: ['gilmour', 'album', 'pink', 'floyd', 'guitar', 'release', 'solo', 'use', 'include', 'play']\n",
            "Tokens con mayor TF-IDF: ['gilmour', 'pink', 'floyd', 'barrett', 'album', 'guitar', 'samson', 'release', 'wright', 'strat']\n",
            "Jeff Beck\n",
            "Tokens más frecuentes: ['beck', 'album', '–', 'rock', 'guitar', 'jeff', 'release', 'record', 'instrumental', 'best']\n",
            "Tokens con mayor TF-IDF: ['beck', 'album', '–', 'bogert', 'appice', 'rock', 'jeff', 'yardbirds', 'instrumental', 'guitar']\n",
            "mark knopfler\n",
            "Tokens más frecuentes: ['knopfler', 'album', 'dire', 'straits', 'release', 'band', 'tour', 'music', 'mark', 'time']\n",
            "Tokens con mayor TF-IDF: ['knopfler', 'dire', 'straits', 'album', 'illsley', 'fletcher', 'newcastle', 'release', 'mark', 'band']\n",
            "Billy Gibbons\n",
            "Tokens más frecuentes: ['gibbons', 'gibbon', 'guitar', 'album', 'play', 'zz', 'song', 'angela', 'feature', 'rock']\n",
            "Tokens con mayor TF-IDF: ['gibbons', 'gibbon', 'zz', 'guitar', 'hodgins', 'angela', 'album', 'sidewalks', 'bfg', 'moving']\n",
            "Carlos Santana\n",
            "Tokens más frecuentes: ['santana', 'album', 'band', 'guitar', 'record', 'carlos', 'year', 'use', 'rock', 'release']\n",
            "Tokens con mayor TF-IDF: ['santana', 'carlos', 'album', 'band', 'prs', 'latin', 'guitar', 'supernatural', 'chinmoy', 'abraxas']\n",
            "Stevie Ray Vaughan\n",
            "Tokens más frecuentes: ['vaughan', 'guitar', 'play', 'album', 'double', 'trouble', 'stevie', 'band', 'include', 'texas']\n",
            "Tokens con mayor TF-IDF: ['vaughan', 'trouble', 'stevie', 'guitar', 'texas', 'double', 'play', 'jimmie', 'dallas', 'lenny']\n",
            "BB king\n",
            "Tokens más frecuentes: ['king', 'blues', 'music', 'play', 'mississippi', 'guitar', 'b.b.', 'later', 'award', 'blue']\n",
            "Tokens con mayor TF-IDF: ['king', 'mississippi', 'blues', 'memphis', 'b.b.', 'music', 'beale', 'indianola', 'play', 'guitar']\n",
            "Buddy Guy\n",
            "Tokens más frecuentes: ['guy', 'guitar', 'blue', 'buddy', 'play', 'polka', 'dot', 'chicago', 'chess', 'clapton']\n",
            "Tokens con mayor TF-IDF: ['guy', 'dot', 'polka', 'buddy', 'chess', 'guitar', 'blue', 'chicago', 'louisiana', 'cobra']\n",
            "Albert King\n",
            "Tokens más frecuentes: ['king', 'guitar', 'blue', 'albert', 'album', 'play', 'release', 'blues', 'record', 'know']\n",
            "Tokens con mayor TF-IDF: ['king', 'albert', 'blue', 'guitar', 'stax', 'album', 'c', 'blues', 'e', 'louis']\n",
            "Rory Gallagher\n",
            "Tokens más frecuentes: ['gallagher', 'album', 'band', 'taste', 'time', 'concert', 'record', 'tour', 'guitar', 'later']\n",
            "Tokens con mayor TF-IDF: ['gallagher', 'taste', 'cork', 'album', 'dónal', 'ireland', 'rory', 'band', 'mcavoy', 'irish']\n",
            "Joe Satriani\n",
            "Tokens más frecuentes: ['satriani', 'album', 'release', 'use', 'guitar', 'song', 'guitarist', 'feature', 'include', 'title']\n",
            "Tokens con mayor TF-IDF: ['satriani', 'chickenfoot', 'album', 'release', 'js', 'use', 'g3', 'peavey', 'guitar', 'colossal']\n",
            "jimi hendrix\n",
            "Tokens más frecuentes: ['hendrix', 'guitar', 'experience', 'play', 'band', 'rock', 'use', 'jimi', 'time', 'music']\n",
            "Tokens con mayor TF-IDF: ['hendrix', 'redding', 'guitar', 'chandler', 'experience', 'cox', 'play', 'ladyland', 'mitchell', 'band']\n",
            "George Harrison\n",
            "Tokens más frecuentes: ['harrison', 'album', 'beatles', 'song', 'guitar', 'music', 'george', 'release', 'include', 'lennon']\n",
            "Tokens con mayor TF-IDF: ['harrison', 'beatles', 'album', 'shankar', 'lennon', 'indian', 'mccartney', 'song', 'guitar', 'starr']\n"
          ]
        }
      ]
    },
    {
      "cell_type": "markdown",
      "source": [
        "Observar diferencias de palabras muy comunes en documentos de guitarristas como \"guitar\", \"release\",\"play\" o \"album\". En BoW aparecen como términos muy importantes porque son comunes en este tipo de documentos. Sin embargo, al calcular el TF-IDF, como estos términos aparecen en muchos documentos su importancia se ve disminuida.\n"
      ],
      "metadata": {
        "id": "v_1diBNEdfn5"
      }
    },
    {
      "cell_type": "markdown",
      "source": [],
      "metadata": {
        "id": "fET1CgwbLS5s"
      }
    }
  ]
}