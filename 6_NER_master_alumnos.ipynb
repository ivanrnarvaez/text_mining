{
  "nbformat": 4,
  "nbformat_minor": 0,
  "metadata": {
    "colab": {
      "provenance": [],
      "collapsed_sections": [
        "QM_IsxUeraf1",
        "sggcP_oRtCwJ"
      ],
      "include_colab_link": true
    },
    "kernelspec": {
      "name": "python3",
      "display_name": "Python 3"
    },
    "language_info": {
      "name": "python"
    },
    "widgets": {
      "application/vnd.jupyter.widget-state+json": {
        "6a3f5464d556476f8faee93ca6e06fb1": {
          "model_module": "@jupyter-widgets/controls",
          "model_name": "HBoxModel",
          "model_module_version": "1.5.0",
          "state": {
            "_dom_classes": [],
            "_model_module": "@jupyter-widgets/controls",
            "_model_module_version": "1.5.0",
            "_model_name": "HBoxModel",
            "_view_count": null,
            "_view_module": "@jupyter-widgets/controls",
            "_view_module_version": "1.5.0",
            "_view_name": "HBoxView",
            "box_style": "",
            "children": [
              "IPY_MODEL_ecf799cf845348b7b421c3c6f6c3f644",
              "IPY_MODEL_9261783a18524563b48dc3cd0daa208d",
              "IPY_MODEL_ef14a91d9ede42f08f51991b55b4f721"
            ],
            "layout": "IPY_MODEL_87178a3c4a0b4bf6a47fcf91ae08dfe9"
          }
        },
        "ecf799cf845348b7b421c3c6f6c3f644": {
          "model_module": "@jupyter-widgets/controls",
          "model_name": "HTMLModel",
          "model_module_version": "1.5.0",
          "state": {
            "_dom_classes": [],
            "_model_module": "@jupyter-widgets/controls",
            "_model_module_version": "1.5.0",
            "_model_name": "HTMLModel",
            "_view_count": null,
            "_view_module": "@jupyter-widgets/controls",
            "_view_module_version": "1.5.0",
            "_view_name": "HTMLView",
            "description": "",
            "description_tooltip": null,
            "layout": "IPY_MODEL_9d9500926b5a400cab2dfd42207334bb",
            "placeholder": "​",
            "style": "IPY_MODEL_cb39663db9f54232b07ae1e92b69ef7d",
            "value": "Downloading builder script: 100%"
          }
        },
        "9261783a18524563b48dc3cd0daa208d": {
          "model_module": "@jupyter-widgets/controls",
          "model_name": "FloatProgressModel",
          "model_module_version": "1.5.0",
          "state": {
            "_dom_classes": [],
            "_model_module": "@jupyter-widgets/controls",
            "_model_module_version": "1.5.0",
            "_model_name": "FloatProgressModel",
            "_view_count": null,
            "_view_module": "@jupyter-widgets/controls",
            "_view_module_version": "1.5.0",
            "_view_name": "ProgressView",
            "bar_style": "success",
            "description": "",
            "description_tooltip": null,
            "layout": "IPY_MODEL_6dec4407c51e4d5c839b435b3cdb09d8",
            "max": 6338,
            "min": 0,
            "orientation": "horizontal",
            "style": "IPY_MODEL_4a80578dba6e49b980e8e1a91a245585",
            "value": 6338
          }
        },
        "ef14a91d9ede42f08f51991b55b4f721": {
          "model_module": "@jupyter-widgets/controls",
          "model_name": "HTMLModel",
          "model_module_version": "1.5.0",
          "state": {
            "_dom_classes": [],
            "_model_module": "@jupyter-widgets/controls",
            "_model_module_version": "1.5.0",
            "_model_name": "HTMLModel",
            "_view_count": null,
            "_view_module": "@jupyter-widgets/controls",
            "_view_module_version": "1.5.0",
            "_view_name": "HTMLView",
            "description": "",
            "description_tooltip": null,
            "layout": "IPY_MODEL_d58339a817684ff6a78982df1be27a0d",
            "placeholder": "​",
            "style": "IPY_MODEL_208d99ff76904af49ad77a59c75a1eb3",
            "value": " 6.34k/6.34k [00:00&lt;00:00, 398kB/s]"
          }
        },
        "87178a3c4a0b4bf6a47fcf91ae08dfe9": {
          "model_module": "@jupyter-widgets/base",
          "model_name": "LayoutModel",
          "model_module_version": "1.2.0",
          "state": {
            "_model_module": "@jupyter-widgets/base",
            "_model_module_version": "1.2.0",
            "_model_name": "LayoutModel",
            "_view_count": null,
            "_view_module": "@jupyter-widgets/base",
            "_view_module_version": "1.2.0",
            "_view_name": "LayoutView",
            "align_content": null,
            "align_items": null,
            "align_self": null,
            "border": null,
            "bottom": null,
            "display": null,
            "flex": null,
            "flex_flow": null,
            "grid_area": null,
            "grid_auto_columns": null,
            "grid_auto_flow": null,
            "grid_auto_rows": null,
            "grid_column": null,
            "grid_gap": null,
            "grid_row": null,
            "grid_template_areas": null,
            "grid_template_columns": null,
            "grid_template_rows": null,
            "height": null,
            "justify_content": null,
            "justify_items": null,
            "left": null,
            "margin": null,
            "max_height": null,
            "max_width": null,
            "min_height": null,
            "min_width": null,
            "object_fit": null,
            "object_position": null,
            "order": null,
            "overflow": null,
            "overflow_x": null,
            "overflow_y": null,
            "padding": null,
            "right": null,
            "top": null,
            "visibility": null,
            "width": null
          }
        },
        "9d9500926b5a400cab2dfd42207334bb": {
          "model_module": "@jupyter-widgets/base",
          "model_name": "LayoutModel",
          "model_module_version": "1.2.0",
          "state": {
            "_model_module": "@jupyter-widgets/base",
            "_model_module_version": "1.2.0",
            "_model_name": "LayoutModel",
            "_view_count": null,
            "_view_module": "@jupyter-widgets/base",
            "_view_module_version": "1.2.0",
            "_view_name": "LayoutView",
            "align_content": null,
            "align_items": null,
            "align_self": null,
            "border": null,
            "bottom": null,
            "display": null,
            "flex": null,
            "flex_flow": null,
            "grid_area": null,
            "grid_auto_columns": null,
            "grid_auto_flow": null,
            "grid_auto_rows": null,
            "grid_column": null,
            "grid_gap": null,
            "grid_row": null,
            "grid_template_areas": null,
            "grid_template_columns": null,
            "grid_template_rows": null,
            "height": null,
            "justify_content": null,
            "justify_items": null,
            "left": null,
            "margin": null,
            "max_height": null,
            "max_width": null,
            "min_height": null,
            "min_width": null,
            "object_fit": null,
            "object_position": null,
            "order": null,
            "overflow": null,
            "overflow_x": null,
            "overflow_y": null,
            "padding": null,
            "right": null,
            "top": null,
            "visibility": null,
            "width": null
          }
        },
        "cb39663db9f54232b07ae1e92b69ef7d": {
          "model_module": "@jupyter-widgets/controls",
          "model_name": "DescriptionStyleModel",
          "model_module_version": "1.5.0",
          "state": {
            "_model_module": "@jupyter-widgets/controls",
            "_model_module_version": "1.5.0",
            "_model_name": "DescriptionStyleModel",
            "_view_count": null,
            "_view_module": "@jupyter-widgets/base",
            "_view_module_version": "1.2.0",
            "_view_name": "StyleView",
            "description_width": ""
          }
        },
        "6dec4407c51e4d5c839b435b3cdb09d8": {
          "model_module": "@jupyter-widgets/base",
          "model_name": "LayoutModel",
          "model_module_version": "1.2.0",
          "state": {
            "_model_module": "@jupyter-widgets/base",
            "_model_module_version": "1.2.0",
            "_model_name": "LayoutModel",
            "_view_count": null,
            "_view_module": "@jupyter-widgets/base",
            "_view_module_version": "1.2.0",
            "_view_name": "LayoutView",
            "align_content": null,
            "align_items": null,
            "align_self": null,
            "border": null,
            "bottom": null,
            "display": null,
            "flex": null,
            "flex_flow": null,
            "grid_area": null,
            "grid_auto_columns": null,
            "grid_auto_flow": null,
            "grid_auto_rows": null,
            "grid_column": null,
            "grid_gap": null,
            "grid_row": null,
            "grid_template_areas": null,
            "grid_template_columns": null,
            "grid_template_rows": null,
            "height": null,
            "justify_content": null,
            "justify_items": null,
            "left": null,
            "margin": null,
            "max_height": null,
            "max_width": null,
            "min_height": null,
            "min_width": null,
            "object_fit": null,
            "object_position": null,
            "order": null,
            "overflow": null,
            "overflow_x": null,
            "overflow_y": null,
            "padding": null,
            "right": null,
            "top": null,
            "visibility": null,
            "width": null
          }
        },
        "4a80578dba6e49b980e8e1a91a245585": {
          "model_module": "@jupyter-widgets/controls",
          "model_name": "ProgressStyleModel",
          "model_module_version": "1.5.0",
          "state": {
            "_model_module": "@jupyter-widgets/controls",
            "_model_module_version": "1.5.0",
            "_model_name": "ProgressStyleModel",
            "_view_count": null,
            "_view_module": "@jupyter-widgets/base",
            "_view_module_version": "1.2.0",
            "_view_name": "StyleView",
            "bar_color": null,
            "description_width": ""
          }
        },
        "d58339a817684ff6a78982df1be27a0d": {
          "model_module": "@jupyter-widgets/base",
          "model_name": "LayoutModel",
          "model_module_version": "1.2.0",
          "state": {
            "_model_module": "@jupyter-widgets/base",
            "_model_module_version": "1.2.0",
            "_model_name": "LayoutModel",
            "_view_count": null,
            "_view_module": "@jupyter-widgets/base",
            "_view_module_version": "1.2.0",
            "_view_name": "LayoutView",
            "align_content": null,
            "align_items": null,
            "align_self": null,
            "border": null,
            "bottom": null,
            "display": null,
            "flex": null,
            "flex_flow": null,
            "grid_area": null,
            "grid_auto_columns": null,
            "grid_auto_flow": null,
            "grid_auto_rows": null,
            "grid_column": null,
            "grid_gap": null,
            "grid_row": null,
            "grid_template_areas": null,
            "grid_template_columns": null,
            "grid_template_rows": null,
            "height": null,
            "justify_content": null,
            "justify_items": null,
            "left": null,
            "margin": null,
            "max_height": null,
            "max_width": null,
            "min_height": null,
            "min_width": null,
            "object_fit": null,
            "object_position": null,
            "order": null,
            "overflow": null,
            "overflow_x": null,
            "overflow_y": null,
            "padding": null,
            "right": null,
            "top": null,
            "visibility": null,
            "width": null
          }
        },
        "208d99ff76904af49ad77a59c75a1eb3": {
          "model_module": "@jupyter-widgets/controls",
          "model_name": "DescriptionStyleModel",
          "model_module_version": "1.5.0",
          "state": {
            "_model_module": "@jupyter-widgets/controls",
            "_model_module_version": "1.5.0",
            "_model_name": "DescriptionStyleModel",
            "_view_count": null,
            "_view_module": "@jupyter-widgets/base",
            "_view_module_version": "1.2.0",
            "_view_name": "StyleView",
            "description_width": ""
          }
        }
      }
    },
    "gpuClass": "standard",
    "accelerator": "GPU"
  },
  "cells": [
    {
      "cell_type": "markdown",
      "metadata": {
        "id": "view-in-github",
        "colab_type": "text"
      },
      "source": [
        "<a href=\"https://colab.research.google.com/github/ivanrnarvaez/text_mining/blob/main/6_NER_master_alumnos.ipynb\" target=\"_parent\"><img src=\"https://colab.research.google.com/assets/colab-badge.svg\" alt=\"Open In Colab\"/></a>"
      ]
    },
    {
      "cell_type": "code",
      "source": [
        "!pip install datasets seqeval gradio evaluate\n",
        "!pip install fsspec==2023.9.2"
      ],
      "metadata": {
        "collapsed": true,
        "id": "M5MhVlxlKxJF"
      },
      "execution_count": null,
      "outputs": []
    },
    {
      "cell_type": "markdown",
      "source": [
        "# Introducción"
      ],
      "metadata": {
        "id": "QM_IsxUeraf1"
      }
    },
    {
      "cell_type": "markdown",
      "source": [
        "El r**econocimiento de entidades nombradas (Named-Entity Recognition, NER)** es una técnica esencial en el procesamiento del lenguaje natural que permite identificar y clasificar fragmentos relevantes de texto en categorías predefinidas, como nombres de personas, organizaciones, ubicaciones, fechas… o, en el caso de este ejercicio guiado, **habilidades profesionales (skills)**.\n",
        "\n",
        "**Por ejemplo**, a partir de un texto como:\n",
        "\n",
        "> *Buscamos una persona con experiencia en Python, análisis de datos y modelado estadístico.*\n",
        "\n",
        "Un sistema NER bien entrenado podría detectar y extraer entidades como `Python`,`análisis de datos` y `modelado estadístico`, que son habilidades profesionales de relevancia para desempeñar en una posición laboral como científico de datos.\n",
        "\n",
        "\n",
        "**¿Por qué es útil?**\n",
        "\n",
        "\n",
        "La extracción automática de este tipo de entidades es muy valiosa para los procesos de selección que llevan a cabo las empresas, ya que permite:\n",
        "\n",
        "- Comparar de forma automatizada si las habilidades solicitadas en una oferta están presentes en los CVs de los candidatos. Y ordenar y priorizar los candidatos según su grado de adecuación a una posición.\n",
        "\n",
        "- Extraer información estructurada de descripciones de puestos de trabajo y analizar tendencias del mercado laboral, detectando qué habilidades están siendo más demandadas en cada sector o región.\n",
        "\n",
        "En este notebook, construiremos un modelo NER adaptado a este tipo de tareas, entrenado sobre textos reales y orientado a su aplicación en entornos profesionales.\n",
        "\n",
        "\n",
        "En este notebook, construiremos un modelo NER adaptado a este tipo de tareas, entrenado sobre datos reales y orientado a su aplicación en entornos profesionales.\n",
        "\n"
      ],
      "metadata": {
        "id": "2hhMPSHNrb84"
      }
    },
    {
      "cell_type": "markdown",
      "source": [
        "# Proceso Resumido"
      ],
      "metadata": {
        "id": "sggcP_oRtCwJ"
      }
    },
    {
      "cell_type": "markdown",
      "source": [
        "En este notebook se llevará a cabo el ciclo completo para entrenar un sistema de NER adaptado para la detección de *skills* profesionales.\n",
        "\n",
        "Para ello, utilizaremos un **modelo de lenguaje** de tipo **encoder**, que ajustaremos para extraer este tipo de entidad del texto. Estos modelos son capaces de representar cada palabra (token) del texto según su contexto, lo que los hace ideales para tareas de extracción de entidades.\n",
        "\n",
        "El flujo básico será el siguiente:\n",
        "\n",
        "1. **Tokenización**: Se llevará a cabo la tokenización de los datos de entrenamiento, además de procesados específicos que permitan llevar a cabo el entrenamiento correctamente, como el alineamiento de entidades y subtokens.\n",
        "\n",
        "2. **Fine-Tuning**:\n",
        "\n",
        "  a. **Paso por el modelo de lenguaje**:\n",
        "  A diferencia de tareas como la clasificación de textos, donde se utiliza el token especial `[CLS]` como representación del texto completo, en NER trabajamos con los vectores contextualizados de cada token individual. Esto permite al modelo identificar patrones en secuencias de palabras que indican la presencia de una entidad (como una habilidad).\n",
        "\n",
        "  b. **Clasificación head**:\n",
        "  Cada uno de estos vectores es pasado por una capa de clasificación que aprenderá a detectar patrones contextuales para identificar si un token forma parte de una entidad o no.\n",
        "\n",
        "  👉 Este enfoque convierte el problema en una tarea de **clasificación de tokens**, donde cada token será clasificado individualmente y se le asignará una etiqueta como SKILL o no SKILL, siguiendo un esquema como B-SKILL, I-SKILL, O, etc."
      ],
      "metadata": {
        "id": "-dYZmsehtF9c"
      }
    },
    {
      "cell_type": "markdown",
      "source": [
        "![image.png](data:image/png;base64,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)"
      ],
      "metadata": {
        "id": "Bf4YcDySxeG9"
      }
    },
    {
      "cell_type": "markdown",
      "source": [
        "# Descarga y preparación de datos"
      ],
      "metadata": {
        "id": "3zF5a06hylHE"
      }
    },
    {
      "cell_type": "markdown",
      "source": [
        "Para entrenar un modelo NER necesitamos datos etiquetados: textos donde las entidades ya estén marcadas. En este caso, trabajaremos con el [**corpus de SkillSpan**](https://aclanthology.org/2022.naacl-main.366/), un dataset diseñado específicamente para el reconocimiento de skills y conocimientos en descripciones de ofertas de trabajo."
      ],
      "metadata": {
        "id": "w8JwDZJhyo7R"
      }
    },
    {
      "cell_type": "markdown",
      "source": [
        "En esta sección descargaremos los datos, los cargaremos como objeto Dataset de Huggingface, y llevaremos algunas preparaciones de datos."
      ],
      "metadata": {
        "id": "asvCudeezDDo"
      }
    },
    {
      "cell_type": "markdown",
      "source": [
        "En primer lugar, descargamos los datos de entrenamiento, desarrollo y test del [**repositorio de SkillSpan**](https://github.com/kris927b/SkillSpan):"
      ],
      "metadata": {
        "id": "CIeiqOPozUDz"
      }
    },
    {
      "cell_type": "code",
      "source": [
        "#Download data\n",
        "!wget https://github.com/kris927b/SkillSpan/raw/refs/heads/main/data/json/train.json\n",
        "!wget https://github.com/kris927b/SkillSpan/raw/refs/heads/main/data/json/test.json\n",
        "!wget https://github.com/kris927b/SkillSpan/raw/refs/heads/main/data/json/dev.json"
      ],
      "metadata": {
        "id": "dyNGO86ZxdZV"
      },
      "execution_count": null,
      "outputs": []
    },
    {
      "cell_type": "markdown",
      "source": [
        "Estos datos, siguen el formato IOB, y están guardados en un archivo JSON con la siguiente estructura:\n",
        "\n",
        "\n",
        "\n",
        "```json\n",
        "{\n",
        "  \"idx\": 1,\n",
        "  \"tokens\": [\"Full\", \"Stack\", \"Software\", \"Engineer\", \"-\", \"Java\", \"/\", \"JavaScript\"],\n",
        "  \"tags_skill\": [\"O\", \"O\", \"O\", \"O\", \"O\", \"O\", \"O\", \"O\"],\n",
        "  \"tags_knowledge\": [\"O\", \"O\", \"O\", \"O\", \"O\", \"O\", \"O\", \"O\"],\n",
        "  \"source\": \"tech\"\n",
        "  }\n",
        "```\n",
        "\n",
        "Donde se observa que cada frase ya está tokenizada, y se identifica la presencia de tokens con entidades de tipo skill o conocimiento utilizando el esquema IOB (sólo O en el caso del ejemplo mostrado)\n",
        "\n"
      ],
      "metadata": {
        "id": "ROn_Xe0bzw7Q"
      }
    },
    {
      "cell_type": "markdown",
      "source": [
        "A continuación, utilizamos la función `load_dataset()` para cargarlos como objetos *Datasets* que puedan funcionar con la librería Transformers del entorno Huggingface."
      ],
      "metadata": {
        "id": "WrOy_7Bozgba"
      }
    },
    {
      "cell_type": "code",
      "source": [
        "from datasets import load_dataset\n",
        "train_set = load_dataset(\"json\", data_files=_____________, split=\"train\")  # \"train.json\"\n",
        "dev_set = load_dataset(\"json\", data_files=_____________, split=\"train\")  # \"dev.json\"\n",
        "test_set = load_dataset(\"json\", data_files=_____________, split=\"train\")  # \"test.json\""
      ],
      "metadata": {
        "collapsed": true,
        "id": "N2xIROEefE5m"
      },
      "execution_count": null,
      "outputs": []
    },
    {
      "cell_type": "markdown",
      "source": [
        "Por temas de visualización posteriores, vamos a sustituir las etiquetas `B` e `I` por `B-SKILL` y `I-SKILL`. Para ello definimos una función `convert_tags()` que procese cada elemento del Dataset, buscando en el campo *tags_skill* para llevar a cabo la sustitución:"
      ],
      "metadata": {
        "id": "6YTYIqXnztaX"
      }
    },
    {
      "cell_type": "code",
      "source": [
        "def convert_tags(example):\n",
        "    example[\"tags_skill\"] = [\n",
        "        \"B-SKILL\" if tag == \"B\" else\n",
        "        \"I-SKILL\" if tag == \"I\" else\n",
        "        \"O\"\n",
        "        for tag in example[\"tags_skill\"]\n",
        "    ]\n",
        "    return example"
      ],
      "metadata": {
        "id": "GqP8as7U0k_r"
      },
      "execution_count": null,
      "outputs": []
    },
    {
      "cell_type": "code",
      "source": [
        "train_set = train_set.map(convert_tags)\n",
        "dev_set = dev_set.map(convert_tags)\n",
        "test_set = test_set.map(convert_tags)"
      ],
      "metadata": {
        "id": "kuLzVVLsSaYC"
      },
      "execution_count": null,
      "outputs": []
    },
    {
      "cell_type": "markdown",
      "source": [
        "Indicamos que la columna *tags_skill* es de tipo **ClassLabel** (una variable categórica) con 3 clases: `0`,`B-SKILL` y `I-SKILL`. De esta manera, nos aseguramos que el modelo reciba al entrenar estas etiquetas como índices (0,1 y 2), no como texto; pero posteriormente podamos obtener como predicciones los valores como textos.\n"
      ],
      "metadata": {
        "id": "ALVYwTCl0oOC"
      }
    },
    {
      "cell_type": "code",
      "source": [
        "from datasets import Dataset, DatasetDict, ClassLabel, Sequence\n",
        "ordered_tags = [\"O\", \"B-SKILL\", \"I-SKILL\"]\n",
        "class_label = ClassLabel(names=ordered_tags)\n",
        "features = train_set.features.copy()\n",
        "features[\"tags_skill\"] = Sequence(class_label)\n",
        "\n",
        "train_set = train_set.cast(features)\n",
        "dev_set = dev_set.cast(features)\n",
        "test_set = test_set.cast(features)"
      ],
      "metadata": {
        "id": "hoyCOxn9066J"
      },
      "execution_count": null,
      "outputs": []
    },
    {
      "cell_type": "markdown",
      "source": [
        "Por último generamos un objeto `DatasetDict` para guardar cada partición del corpus:"
      ],
      "metadata": {
        "id": "arZmhNRh1Uv_"
      }
    },
    {
      "cell_type": "code",
      "source": [
        "split_datasets = DatasetDict({\n",
        "    'train': ________________,  # train_set\n",
        "    'test': ________________, # test_set\n",
        "    'validation': ________________  # dev_set\n",
        "})"
      ],
      "metadata": {
        "id": "LhRHi8cPzscY"
      },
      "execution_count": null,
      "outputs": []
    },
    {
      "cell_type": "markdown",
      "source": [
        "Podemos mirar la estructura del archivo:"
      ],
      "metadata": {
        "id": "WMfQ0GLnmO-M"
      }
    },
    {
      "cell_type": "code",
      "source": [
        "split_datasets[\"train\"][0:2]"
      ],
      "metadata": {
        "id": "tqvMiuDdfjrH"
      },
      "execution_count": null,
      "outputs": []
    },
    {
      "cell_type": "code",
      "source": [
        "split_datasets"
      ],
      "metadata": {
        "id": "81Na0Um7mSQS"
      },
      "execution_count": null,
      "outputs": []
    },
    {
      "cell_type": "markdown",
      "source": [
        "Los conjuntos de datos contienen un conjunto de datos de entrenamiento, validación y test. En este caso, el dataset de skillspan contiene 4800 frases de entrenamiento, 3569 frases para validación y 3174 frases de test.\n"
      ],
      "metadata": {
        "id": "9TlPZS5RmTmT"
      }
    },
    {
      "cell_type": "markdown",
      "source": [
        "Cada uno de los subsets es de la clase `Dataset`. Se puede acceder a diferentes atributos como *column_names*. Se puede consultar el tipo de cada una de las columnas utilizando el atributo *features*."
      ],
      "metadata": {
        "id": "7mkEKaUUm2nI"
      }
    },
    {
      "cell_type": "code",
      "source": [
        "print(\"Columnas del subset de train.\")\n",
        "print(split_datasets[\"train\"].column_names)\n",
        "\n",
        "print(\"Tipo de cada columna\")\n",
        "print(split_datasets[\"train\"].features)"
      ],
      "metadata": {
        "id": "jd_CEt2inaJL"
      },
      "execution_count": null,
      "outputs": []
    },
    {
      "cell_type": "markdown",
      "source": [
        "Vamos a ver el tipo de etiquetas que tienen los datos:"
      ],
      "metadata": {
        "id": "qaJeinP3pDmX"
      }
    },
    {
      "cell_type": "code",
      "source": [
        "tags = split_datasets[\"train\"].features[\"tags_skill\"].feature"
      ],
      "metadata": {
        "id": "mOuGON4d3OtE"
      },
      "execution_count": null,
      "outputs": []
    },
    {
      "cell_type": "code",
      "source": [
        "tags"
      ],
      "metadata": {
        "id": "QUi8BK4C9dur"
      },
      "execution_count": null,
      "outputs": []
    },
    {
      "cell_type": "markdown",
      "source": [
        "Si hacemos un print del campo \"tags_skill\", vemos que cada una de las clases se almacena en formato numérico, siendo cada índice asociado a un nombre de los valores de `ClassLabel`"
      ],
      "metadata": {
        "id": "CGgZFoMvqez-"
      }
    },
    {
      "cell_type": "code",
      "source": [
        "print(tags)\n",
        "print(split_datasets[\"train\"][0][\"tags_skill\"])"
      ],
      "metadata": {
        "id": "_-Bb3YXuq5dD"
      },
      "execution_count": null,
      "outputs": []
    },
    {
      "cell_type": "markdown",
      "source": [
        "Como los valores numéricos no son fácilmente comprensibles, vamos a generar una función llamada `create_tag_names` que cree un campo llamado \"ner_tags_str\" dentro de cada elemento del dataset."
      ],
      "metadata": {
        "id": "CLahGftw2LuY"
      }
    },
    {
      "cell_type": "code",
      "source": [
        "def create_tag_names(batch):\n",
        "  return {\"ner_tags_str\": [tags.int2str(x) for x in batch[\"tags_skill\"]]}\n",
        "\n",
        "split_datasets_m = split_datasets.map(create_tag_names)"
      ],
      "metadata": {
        "id": "grbcj9a7qdjX"
      },
      "execution_count": null,
      "outputs": []
    },
    {
      "cell_type": "markdown",
      "source": [
        "## Exploración de datos"
      ],
      "metadata": {
        "id": "DqVJU_IdsJh5"
      }
    },
    {
      "cell_type": "markdown",
      "source": [
        "Ahora comprobamos que se ha generado correctamente:"
      ],
      "metadata": {
        "id": "rmVXkKE7rTVa"
      }
    },
    {
      "cell_type": "code",
      "source": [
        "import pandas as pd"
      ],
      "metadata": {
        "id": "eb9LpD53hvk5"
      },
      "execution_count": null,
      "outputs": []
    },
    {
      "cell_type": "code",
      "source": [
        "fila = 901\n",
        "ejemplo_df_ = pd.DataFrame([split_datasets_m[\"train\"][fila][\"tokens\"],split_datasets_m[\"train\"][fila][\"ner_tags_str\"],split_datasets_m[\"train\"][fila][\"tags_skill\"]], [\"tokens\",\"tags\",\"tag_id\"])"
      ],
      "metadata": {
        "id": "B0KWGEEMrVlK"
      },
      "execution_count": null,
      "outputs": []
    },
    {
      "cell_type": "code",
      "source": [
        "ejemplo_df_._______________ #T"
      ],
      "metadata": {
        "id": "aK8q_MbcSx0f"
      },
      "execution_count": null,
      "outputs": []
    },
    {
      "cell_type": "markdown",
      "source": [
        "Vamos a comprobar el número de frases con las que contamos en cada partición de datos, aśi como el nuḿero de tokens:"
      ],
      "metadata": {
        "id": "n2zUGLBMsQF3"
      }
    },
    {
      "cell_type": "code",
      "source": [
        "for i in [\"train\",\"validation\",\"test\"]:\n",
        "  # Número total de frases\n",
        "  num_sentences = len(____________) #split_datasets[i]\n",
        "\n",
        "  # Número total de tokens\n",
        "  num_tokens = sum(len(example[\"tokens\"]) for example in split_datasets[i])\n",
        "\n",
        "  print(f\"Número de frases en {i}: {num_sentences}\")\n",
        "  print(f\"Número total de tokens en {i}: {num_tokens}\")\n",
        "  print(f\"----------------------------\")"
      ],
      "metadata": {
        "id": "K1wYLwt2sSce"
      },
      "execution_count": null,
      "outputs": []
    },
    {
      "cell_type": "markdown",
      "source": [
        "¿Cuál es la distribución de categorías de tokens en cada partición?"
      ],
      "metadata": {
        "id": "cQQ4EgCQsXxH"
      }
    },
    {
      "cell_type": "markdown",
      "source": [
        "En este punto, vamos a hacer un pequeño preprocesado para ver el número de etiquetas en cada subconjunto de datos:"
      ],
      "metadata": {
        "id": "r88b7UjSr6f2"
      }
    },
    {
      "cell_type": "code",
      "source": [
        "from collections import Counter, defaultdict\n",
        "\n",
        "# Creamos diccionario de tipo Counter donde guardaremos resultados del contador\n",
        "split2freqs = defaultdict(Counter)\n",
        "# Itera por cada sub split\n",
        "for split, dataset in split_datasets_m.items():\n",
        "  # Itera por cada fila del subset split\n",
        "  for row in dataset[\"ner_tags_str\"]:\n",
        "    # Para cada lista de etiquetas de cada fila iteramos\n",
        "    for tag in row:\n",
        "      if tag.startswith(\"B\"):\n",
        "        tag_type=tag\n",
        "        split2freqs[split][tag_type] +=1\n",
        "      if tag.startswith(\"I\"):\n",
        "        tag_type=tag\n",
        "        split2freqs[split][tag_type] +=1\n",
        "      if tag.startswith(\"O\"):\n",
        "        tag_type=tag\n",
        "        split2freqs[split][tag_type] +=1\n",
        "\n",
        "# Una vez finalizamos mostramos en pantalla\n",
        "pd.DataFrame.from_dict(split2freqs, orient=\"index\")"
      ],
      "metadata": {
        "id": "KlpsHarQrEFb"
      },
      "execution_count": null,
      "outputs": []
    },
    {
      "cell_type": "markdown",
      "source": [
        "Observamos que:\n",
        "\n",
        "- **Dominancia de la clase `O`**: En los tres conjuntos la mayoría de los tokens están etiquetados como O, lo cual es normal en tareas NER: la mayoría de las palabras no pertenecen a ninguna entidad.\n",
        "\n",
        "- **Proporción estable entre splits**: Las proporciones de B-SKILL e I-SKILL son bastante similares entre los conjuntos. Esto es bueno porque sugiere que la segmentación se hizo de forma estratificada, manteniendo la misma distribución de clases.\n",
        "\n",
        "- **Más tokens I-SKILL que B-SKILL**:Esto también es esperable, porque muchas skills son frases con varios tokens (\"deep learning\", \"natural language processing\")."
      ],
      "metadata": {
        "id": "kmk3RekoscGC"
      }
    },
    {
      "cell_type": "markdown",
      "source": [
        "# Tokenización de datos\n"
      ],
      "metadata": {
        "id": "h0hkRhoR3ynq"
      }
    },
    {
      "cell_type": "markdown",
      "source": [
        "Como se ha visto, los textos ya vienen tokenizados a nivel de palabra en el conjunto de datos descargado. Sin embargo, cuando se usan modelos de lenguaje la tokenización de los términos que los componen se realiza a nivel de subpalabra (\"**subword**\"), esto introduce un reto: ** ¿cómo etiquetamos correctamente si una palabra se divide en varios subtokens?**"
      ],
      "metadata": {
        "id": "F84-HyYb35C8"
      }
    },
    {
      "cell_type": "markdown",
      "source": [
        "Para ver la tokenización del texto vamos a cargar el objeto AutoTokenizer, que se utilizará para descargar el tokenizador de un modelo de lenguaje pre-entrenado en español. Además, generamos diccionarios de mapeos entre etiquetas e índices de las categorías del corpus:"
      ],
      "metadata": {
        "id": "iveV-Gen4Evm"
      }
    },
    {
      "cell_type": "code",
      "source": [
        "from transformers import AutoTokenizer\n",
        "model_name = _________________________  # \"answerdotai/ModernBERT-base\""
      ],
      "metadata": {
        "id": "S2N6THIm4AY_"
      },
      "execution_count": null,
      "outputs": []
    },
    {
      "cell_type": "code",
      "source": [
        "tokenizer = _______________________ # AutoTokenizer.from_pretrained(model_name)"
      ],
      "metadata": {
        "id": "Hf8NseDQS8mV"
      },
      "execution_count": null,
      "outputs": []
    },
    {
      "cell_type": "code",
      "source": [
        "indice2tag = {idx: tag for idx, tag in enumerate(tags.names)}\n",
        "tag2indice = {tag: idx for idx, tag in enumerate(tags.names)}"
      ],
      "metadata": {
        "id": "-PSQoD8M6zfQ"
      },
      "execution_count": null,
      "outputs": []
    },
    {
      "cell_type": "markdown",
      "source": [
        "### Explicación problema de alineación de etiquetas"
      ],
      "metadata": {
        "id": "ipDAzdEv-9V4"
      }
    },
    {
      "cell_type": "markdown",
      "source": [
        "En el siguiente ejemplo, las palabras desde \"developing\" hasta \"applications\" han sido etiquetadas como una entidad de tipo SKILL, siguiendo el esquema IOB.\n",
        "\n"
      ],
      "metadata": {
        "id": "2ZKYp_pr4uld"
      }
    },
    {
      "cell_type": "code",
      "source": [
        "text = \"Competent with developing multithreaded scalable concurrent applications.\"\n",
        "original_tokens = [\"Competent\", \"with\", \"developing\", \"multithreaded\", \"scalable\", \"concurrent\", \"applications\", \".\"]\n",
        "original_labels = [\"O\", \"O\", \"B\", \"I\", \"I\", \"I\", \"I\", \"O\"]"
      ],
      "metadata": {
        "id": "-olxpk215H__"
      },
      "execution_count": null,
      "outputs": []
    },
    {
      "cell_type": "markdown",
      "source": [
        "Al pasar el texto por un tokenizador:"
      ],
      "metadata": {
        "id": "c5LyHoQy51kv"
      }
    },
    {
      "cell_type": "code",
      "source": [
        "print(tokenizer.tokenize(text))"
      ],
      "metadata": {
        "colab": {
          "base_uri": "https://localhost:8080/"
        },
        "id": "cuo6pIGr5Rr6",
        "outputId": "b92bdd08-437e-4cbe-e9d9-52d9417fdd82"
      },
      "execution_count": null,
      "outputs": [
        {
          "output_type": "stream",
          "name": "stdout",
          "text": [
            "['Comp', 'et', 'ent', 'Ġwith', 'Ġdeveloping', 'Ġmult', 'ith', 'read', 'ed', 'Ġscalable', 'Ġconcurrent', 'Ġapplications', '.']\n"
          ]
        }
      ]
    },
    {
      "cell_type": "markdown",
      "source": [
        "Al pasar las palabras por el tokenizador, observamos que las etiquetas originales están asociadas a palabras completas, pero después de tokenizar cada palabra se puede convertir en varios subtokens. Es decir que necesitamos una función que:\n",
        "\n",
        "a. Asocie cada subtoken con la etiqueta de su **palabra original**\n",
        "\n",
        "b. Para los **primeros subtokens**, mantenga la etiqueta original (B, I o O)\n",
        "\n",
        "c. Para los **subtokens siguientes** se asigna la etiqueta *IGN*. Estos subtokens que con valor \"IGN\", se les asignará un índice de **-100**, esto evitará que se utilicen esos valores en el calculo de la **loss**, algo importante para no penalizar al modelo en aquellos tokens compuestos por varias subpalabras, ya que si predecimos el primer subtoken el segundo se puede inferir que tiene la misma etiqueta.\n"
      ],
      "metadata": {
        "id": "G18ByuMS56y8"
      }
    },
    {
      "cell_type": "markdown",
      "source": [
        "Trabajaremos con el mismo ejemplo de antes. Observamos que las subpalabras de un mismo token tienen el mismo identificador de palabra."
      ],
      "metadata": {
        "id": "sjrPlKL2_baE"
      }
    },
    {
      "cell_type": "code",
      "source": [
        "import pandas as pd\n",
        "# Primero codificaríamos el texto con el tokenizador:\n",
        "elemento = 38\n",
        "words, labels = split_datasets_m[\"test\"][elemento][\"tokens\"], split_datasets_m[\"test\"][elemento][\"tags_skill\"]\n",
        "\n",
        "tokenized_input = tokenizer(words,is_split_into_words=True)\n",
        "tokens = tokenizer.convert_ids_to_tokens(tokenized_input[\"input_ids\"])\n",
        "word_ids = tokenized_input.word_ids()\n",
        "pd.DataFrame([tokens, word_ids],index=[\"Tokens\", \"word ids\"])\n"
      ],
      "metadata": {
        "id": "soRhXR1a-OHy"
      },
      "execution_count": null,
      "outputs": []
    },
    {
      "cell_type": "markdown",
      "source": [
        "Vamos a desarrollar una función que asigne a aquellas subpalabras con el mismo word_ids, una etiqueta \"IGN\" y un label ids de -100:"
      ],
      "metadata": {
        "id": "VgtN-ziY_mO3"
      }
    },
    {
      "cell_type": "code",
      "source": [
        "\n",
        "# variables auxiliares\n",
        "previous_word_idx = None\n",
        "label_ids = []\n",
        "# Iteramos por cada identificador de subtokens.\n",
        "for word_idx in word_ids:\n",
        "  # Si el word_idx es None o igual que el anterior significa que es o bien token s o subword.\n",
        "  if word_idx is None or word_idx == previous_word_idx:\n",
        "    # Añadimos un identificador -100 que será ignorado durante la evaluación del modelo\n",
        "    # (Durante el calculo de la loss)\n",
        "    label_ids.append(-100)\n",
        "  # Si el token es distintito, guardamos el identificador numérico de la etiqueta del token\n",
        "  elif word_idx != previous_word_idx:\n",
        "    label_ids.append(labels[word_idx])\n",
        "  previous_word_idx = word_idx\n",
        "# Generamos una lista sustituyendo los valores numéricos de las etiquetas (label_ids) por sus strings\n",
        "# Si el valor es -100 lo sustituimos por IGN (ignorar)\n",
        "labels = [indice2tag[l] if l != -100 else \"IGN\" for l in label_ids]\n",
        "\n",
        "pd.DataFrame([tokens, word_ids, label_ids, labels], index=[\"tokens\",\"word ids\",\"label ids\",\"labels\"])\n"
      ],
      "metadata": {
        "id": "WePg2VFG6rAN"
      },
      "execution_count": null,
      "outputs": []
    },
    {
      "cell_type": "markdown",
      "source": [
        "En esta tabla, cada fila representa una dimensión distinta del procesamiento de texto en tareas de clasificación de tokens.\n",
        "\n",
        "- La fila de **tokens** contiene los subtokens generados por el tokenizer, ya que una palabra puede dividirse en varios fragmentos.\n",
        "\n",
        "- La fila de **word ids** indica a qué palabra original pertenece cada subtoken; si aparece como None, significa que ese token es especial (como [CLS] o [SEP]) y no corresponde a ninguna palabra del texto original.\n",
        "\n",
        "- La fila de **label ids** contiene los valores numéricos utilizados como etiquetas durante el entrenamiento. Un valor de -100 señala que ese token debe ser ignorado en la función de pérdida (loss), esto se aplica a los tokens especiales y a los subtokens que no son el primero de una palabra.  Evita que el modelo se entrene sobre fragmentos parciales de palabra, focalizando la detección del comienzo de éstas para el aprendizaje.\n",
        "\n",
        "- Finalmente, la fila de **labels** muestra las etiquetas en formato legible, como las del esquema IOB (B-SKILL, I-SKILL y O, consturidos utilizando los lbel_ids\n",
        "\n"
      ],
      "metadata": {
        "id": "ebCFpH48TX1u"
      }
    },
    {
      "cell_type": "markdown",
      "source": [
        "### Tokenizacion del corpus"
      ],
      "metadata": {
        "id": "Q0cVwNQL__DT"
      }
    },
    {
      "cell_type": "markdown",
      "source": [
        "Una vez explicado, generamos una función que permita escalar este procesado a todo el corpus. Por una parte generarmos una función que tokenize los datos que se introduzcan de entrada y haga el procesado de las celdas anteriores. Además, generaremos una función para aplicar esa función con un `map()` al corpus."
      ],
      "metadata": {
        "id": "REROV7uc5Xmy"
      }
    },
    {
      "cell_type": "code",
      "source": [
        "def tokenize_and_align_labels(examples):\n",
        "  # Tokenizamos la entrada, ya en tokens (esto es muy importante!).\n",
        "  tokenized_inputs = tokenizer(examples[\"tokens\"], truncation=True, is_split_into_words=True)\n",
        "  labels = []\n",
        "  for idx, label in enumerate(examples[\"tags_skill\"]):\n",
        "    word_ids = tokenized_inputs.word_ids(batch_index=idx)\n",
        "    previous_word_idx=None\n",
        "    label_ids = []\n",
        "    for word_idx in word_ids:\n",
        "        if word_idx is None or word_idx == previous_word_idx:\n",
        "          label_ids.append(-100)\n",
        "        else:\n",
        "          label_ids.append(label[word_idx])\n",
        "        previous_word_idx = word_idx\n",
        "    labels.append(label_ids)\n",
        "  tokenized_inputs[\"labels\"] = labels\n",
        "  return tokenized_inputs\n"
      ],
      "metadata": {
        "id": "PGMMlPl350rs"
      },
      "execution_count": null,
      "outputs": []
    },
    {
      "cell_type": "markdown",
      "source": [
        "Función para procesar cada split:"
      ],
      "metadata": {
        "id": "4WZEzbL_5-HG"
      }
    },
    {
      "cell_type": "code",
      "source": [
        "def encode_dataset(corpus):\n",
        "  return corpus.map(tokenize_and_align_labels, batched=True, remove_columns = [\"idx\",\"tags_knowledge\",\"tokens\",\"source\",\"tags_skill\"])"
      ],
      "metadata": {
        "id": "hxk3uLv56Bt1"
      },
      "execution_count": null,
      "outputs": []
    },
    {
      "cell_type": "markdown",
      "source": [
        "Aplicación de las funciones sobre el corpus completo:"
      ],
      "metadata": {
        "id": "qv5GCxx_6Gn_"
      }
    },
    {
      "cell_type": "code",
      "source": [
        "split_datasets_m_encoded = ________________________ # encode_dataset(split_datasets_m)"
      ],
      "metadata": {
        "id": "4Divu9176FY-"
      },
      "execution_count": null,
      "outputs": []
    },
    {
      "cell_type": "markdown",
      "source": [
        "Después de aplicar la función, vemos que el corpus ya sólo tiene las features requeridas para el entrenamiento."
      ],
      "metadata": {
        "id": "GcLJlCBHAULa"
      }
    },
    {
      "cell_type": "code",
      "source": [
        "split_datasets_m_encoded[\"test\"][38][\"labels\"]"
      ],
      "metadata": {
        "id": "7gKNseLsARwG"
      },
      "execution_count": null,
      "outputs": []
    },
    {
      "cell_type": "markdown",
      "source": [
        "# Fine-Tuning"
      ],
      "metadata": {
        "id": "9IyAgCP1Aqhj"
      }
    },
    {
      "cell_type": "markdown",
      "source": [
        "Una vez que tenemos nuestros datos tokenizados, es hora de crear el modelo, configurar los parámetros de entrenamiento y definir cómo queremos evaluar su rendimiento.\n"
      ],
      "metadata": {
        "id": "NvdUyU-tAtfm"
      }
    },
    {
      "cell_type": "code",
      "source": [
        "import torch\n",
        "from transformers import AutoModelForTokenClassification, TrainingArguments, Trainer\n",
        "device = torch.device(\"cuda\" if torch.cuda.is_available() else \"cpu\")"
      ],
      "metadata": {
        "id": "VV_Mr4bKBMES"
      },
      "execution_count": null,
      "outputs": []
    },
    {
      "cell_type": "markdown",
      "source": [
        "Para realizar el ajuste de los modelos se necesitan generar objetos que permitan llevar a cabo esta tarea. Estas clases se pueden desarrollar ad-hoc utilizando la sintaxis de Pytorch o utilizar la librería Transformers, que proporciona clases de Python para facilitar el fine-tuning de estos modelos pre-entrenados.\n",
        "\n",
        "La idea de estas clases es incorporar un \"head\" al modelo pre-entrenado que sea capaz de clasificar cada uno de los tokens de entrada al modelo, como se presenta en la figura. En el caso de ajuste de un LM para NER, se necesita cargar una capa de clasificación que tome la representación vectorial de cada token y que permita ajustar los pesos durante el back-propagation.\n",
        "\n",
        "\n",
        "\n",
        "<center><img src=\"https://www.oreilly.com/api/v2/epubs/9781098136789/files/assets/nlpt_0404.png\" alt=\"Estructura entrenamiento NER (O'reilly book)\" width=\"150\"/></center>\n",
        "\n",
        "\n"
      ],
      "metadata": {
        "id": "NP3LzGFL0XCf"
      }
    },
    {
      "cell_type": "markdown",
      "source": [
        "## Definición de métricas de evaluación\n"
      ],
      "metadata": {
        "id": "PcKDGrtN26C8"
      }
    },
    {
      "cell_type": "markdown",
      "source": [
        "Un sistema NER se evalua con métricas similares a un sistema de clasificación de textos: Precision, Recall y $F_1$-score. Para hacer la evaluación de un modelo NER se utilizará la librería recomendada por los autores de la librería Transformers, [seqeval](https://github.com/chakki-works/seqeval). Esta librería toma en su entrada una lista de listas, en la que cada lista interna se compone de un conjunto de etiquetas que se comparan para obtener resultados de rendimiento."
      ],
      "metadata": {
        "id": "Hbt1QCaVC50e"
      }
    },
    {
      "cell_type": "code",
      "source": [
        "from seqeval.metrics import classification_report\n",
        "\n",
        "true_values = [[\"O\",\"O\",\"O\",\"B\",\"I\",\"O\"],\n",
        "               [\"O\",\"B\",\"O\"]]\n",
        "pred_values  = [[\"O\",\"O\",\"O\",\"B\",\"O\",\"O\"],\n",
        "               [\"O\",\"B\",\"O\"]]\n",
        "print(classification_report(true_values,pred_values))"
      ],
      "metadata": {
        "id": "xqjrBDRr3NEo"
      },
      "execution_count": null,
      "outputs": []
    },
    {
      "cell_type": "markdown",
      "source": [
        "**De la secuencia 1:**\n",
        "\n",
        "- Real: [\"O\", \"O\", \"O\", \"B\", \"I\", \"O\"]\n",
        "- Predicho:[\"O\", \"O\", \"O\", \"B\", \"O\", \"O\"]\n",
        "\n",
        "Aquí, el modelo no reconoció correctamente la entidad \"B I\". Solo detectó \"B\", y no la continuó, así que es un error.\n",
        "\n",
        "**De la secuencia 2:**\n",
        "\n",
        "- Real: [\"O\", \"B\", \"O\"]\n",
        "- Predicho:[\"O\", \"B\", \"O\"]\n",
        "\n",
        "Aquí el modelo sí lo hizo bien, reconoció una entidad de un solo token\n",
        "\n",
        "Lo que se evalua es la **integridad de la entidad completa.**\n",
        "\n"
      ],
      "metadata": {
        "id": "hSLnMsTcswKN"
      }
    },
    {
      "cell_type": "markdown",
      "source": [
        "En ese caso, sólo uno de las dos predicciones ha sido predicho correctamente, así que la precisión y recall será de 0.5.\n",
        "\n",
        "Dado que las evaluaciones se harán con esa librería, que en su entrada toma una lista de listas, se preparará una función para preparar las predicciones y etiquetas verdaderas de cada muestra en este formato:"
      ],
      "metadata": {
        "id": "5xIbXRla77jp"
      }
    },
    {
      "cell_type": "code",
      "source": [
        "import numpy as np\n",
        "\n",
        "def align_predictions(predictions, label_ids):\n",
        "  # Obtenemos prediccionnes\n",
        "  preds = np.argmax(predictions, axis=2)\n",
        "  batch_size, seq_len = preds.shape\n",
        "  labels_list, preds_list = [], []\n",
        "\n",
        "  #  en cada batch de datos\n",
        "  for batch_idx in range(batch_size):\n",
        "    # Generamos muestras de true_values y predicciones en formato seq-eval\n",
        "    example_labels, example_preds = [], []\n",
        "    # Para cada documento\n",
        "    for seq_idx in range(seq_len):\n",
        "      # Ignoramos etiquetas que sean -100\n",
        "      if label_ids[batch_idx, seq_idx] != -100:\n",
        "        example_labels.append(indice2tag[label_ids[batch_idx][seq_idx]])\n",
        "        example_preds.append(indice2tag[preds[batch_idx][seq_idx]])\n",
        "\n",
        "    labels_list.append(example_labels)\n",
        "    preds_list.append(example_preds)\n",
        "\n",
        "  return preds_list, labels_list"
      ],
      "metadata": {
        "id": "IHICi90n85Q6"
      },
      "execution_count": null,
      "outputs": []
    },
    {
      "cell_type": "markdown",
      "source": [
        "Generamos la función **compute_metrics**, que calcule el score obtenido en cada paso de evaluación durante el entrenamiento sobre el conjunto de validación. En este caso generaremos una función que permita evaluar esto a través de la función `align_predictions` creada con anterioridad\n"
      ],
      "metadata": {
        "id": "kYqx3uA__Wol"
      }
    },
    {
      "cell_type": "code",
      "source": [
        "from seqeval.metrics import f1_score\n",
        "\n",
        "def compute_metrics(eval_pred):\n",
        "    y_pred, y_true = align_predictions(eval_pred.predictions,\n",
        "                                       eval_pred.label_ids)\n",
        "    return {\"f1\": f1_score(y_true,y_pred)}"
      ],
      "metadata": {
        "id": "vP9gWqLz_KG7"
      },
      "execution_count": null,
      "outputs": []
    },
    {
      "cell_type": "markdown",
      "source": [
        "## Configuración del Entrenamiento del Modelo"
      ],
      "metadata": {
        "id": "Tt7ARYAlCEsa"
      }
    },
    {
      "cell_type": "markdown",
      "source": [
        "Primero generamos los atributos principales de entrenamiento del modelo:"
      ],
      "metadata": {
        "id": "_pKfBcIr-0sH"
      }
    },
    {
      "cell_type": "code",
      "source": [
        "# Cargamos la clase\n",
        "from transformers import TrainingArguments\n",
        "\n",
        "# Definimos algunos parámetros de configuracion\n",
        "num_epochs = _________________ # 2\n",
        "batch_size = _________________ # 8\n",
        "logging_steps = len(split_datasets_m_encoded[\"train\"]) // batch_size\n",
        "model_name_save = f\"output-model\""
      ],
      "metadata": {
        "id": "_OqJ3I0o3MxM"
      },
      "execution_count": null,
      "outputs": []
    },
    {
      "cell_type": "markdown",
      "source": [
        "Posteriormente generamos la clase de argumenos de entrenamiento que utilizaremos posteriormente. Esta clase requiere introducir parámetros de configuración de entrenamiento a modelo a través de la clase `TrainingArguments`. Utilizando esta clase se le proporciona información como el número de epocas de entrenamiento, el batch_size, la estrategia de evaluación...\n"
      ],
      "metadata": {
        "id": "TP54YSKB-3x6"
      }
    },
    {
      "cell_type": "code",
      "source": [
        "import random\n",
        "import numpy as np\n",
        "import torch\n",
        "\n",
        "def set_seed(seed=52):\n",
        "    random.seed(seed)\n",
        "    np.random.seed(seed)\n",
        "    torch.manual_seed(seed)\n",
        "    torch.cuda.manual_seed_all(seed)\n",
        "\n",
        "\n",
        "set_seed(52)"
      ],
      "metadata": {
        "id": "vI1VSVT0s0SN"
      },
      "execution_count": null,
      "outputs": []
    },
    {
      "cell_type": "code",
      "source": [
        "training_args = TrainingArguments(\n",
        "    output_dir = model_name_save, log_level = \"error\",\n",
        "    num_train_epochs = num_epochs,\n",
        "    per_device_train_batch_size = batch_size,\n",
        "    per_device_eval_batch_size = batch_size,\n",
        "    save_steps=50,\n",
        "    weight_decay=0.01,\n",
        "    disable_tqdm=False,\n",
        "    logging_steps=50,\n",
        "    gradient_accumulation_steps=2,\n",
        "    eval_strategy=\"steps\",\n",
        "    save_strategy=\"steps\",\n",
        "    eval_steps=50,\n",
        "    logging_strategy=\"steps\",\n",
        "    load_best_model_at_end=True,\n",
        "    push_to_hub=False,\n",
        "    report_to=\"none\",\n",
        "    seed=52,\n",
        "    full_determinism=True\n",
        ")"
      ],
      "metadata": {
        "id": "ytXz9Kzr-4BA"
      },
      "execution_count": null,
      "outputs": []
    },
    {
      "cell_type": "markdown",
      "source": [
        "## Entrenamiento del modelo"
      ],
      "metadata": {
        "id": "_ZgFvXlmCQx0"
      }
    },
    {
      "cell_type": "markdown",
      "source": [
        "Una vez generadas todas las funciones necesarias para el entrenamiento, vamos a hacer el ajuste del modelo. Para ello vamos a beneficiarnos de clase [Trainer](https://huggingface.co/docs/transformers/main_classes/trainer).\n",
        "\n"
      ],
      "metadata": {
        "id": "RjFPBxzPCVJE"
      }
    },
    {
      "cell_type": "code",
      "source": [
        "from transformers import AutoConfig\n",
        "model_config = AutoConfig.from_pretrained(model_name,\n",
        "                                            num_labels = tags.num_classes,\n",
        "                                            id2label = indice2tag,\n",
        "                                            label2id = tag2indice)"
      ],
      "metadata": {
        "id": "oUWjfsIJ3OJN"
      },
      "execution_count": null,
      "outputs": []
    },
    {
      "cell_type": "markdown",
      "source": [
        "- **`data_collator`**: Esta función lo que hará es ajustar las secuencias de entrada para que tengan todas la misma longitud. Este padding también se hace sobre las etiquetas que van a ser predichas. Para ello utilizamos las clases existentes en la librería transformers."
      ],
      "metadata": {
        "id": "8y1H4_z3Akcy"
      }
    },
    {
      "cell_type": "markdown",
      "source": [
        "Todos las entradas en un batch deben tener la misma longitud en tokens Para ellos: Detectar la longitud más larga del batch y aplicar el padding dinámicamente a los ejemplos más cortos para que todos tengan la misma longitud\n",
        "\n",
        "- Ejemplo 1: [CLS] I am happy [SEP]  (5 tokens)\n",
        "\n",
        "- Ejemplo 2: [CLS] You are amazing today [SEP] (6 tokens)\n",
        "\n",
        "\n",
        "Al introducirlos al modelo, se rellenan con tokens especiales de padding, para que la longitud sea la misma.\n",
        "\n",
        "- [CLS] I     am     happy   [SEP] [PAD]  (6 tokens)\n",
        "- [CLS] You   are    amazing today [SEP]  (6 tokens)\n"
      ],
      "metadata": {
        "id": "8OndcIj3VDK4"
      }
    },
    {
      "cell_type": "code",
      "source": [
        "from transformers import DataCollatorForTokenClassification\n",
        "data_collator = DataCollatorForTokenClassification(tokenizer,return_tensors=\"pt\")"
      ],
      "metadata": {
        "id": "tqfkV0a3BH3b"
      },
      "execution_count": null,
      "outputs": []
    },
    {
      "cell_type": "markdown",
      "source": [
        "- **`model_init`**: Función que permite pre-cargar el modelo que va a ser ajustado.\n"
      ],
      "metadata": {
        "id": "Ljeml7YmBH-B"
      }
    },
    {
      "cell_type": "code",
      "source": [
        "from transformers import AutoModelForTokenClassification\n",
        "def model_init():\n",
        "    return AutoModelForTokenClassification.from_pretrained(\n",
        "    model_name, config=model_config\n",
        ")\n",
        "model = AutoModelForTokenClassification.from_pretrained(model_name, config=model_config)\n",
        "\n"
      ],
      "metadata": {
        "id": "fYoPBhj4BWbn"
      },
      "execution_count": null,
      "outputs": []
    },
    {
      "cell_type": "code",
      "source": [
        "from transformers import Trainer\n",
        "trainer = Trainer(model = _____________, # model\n",
        "                  args = _____________, # training_args\n",
        "                  data_collator = _____________, # data_collator\n",
        "                  compute_metrics = _____________, # compute_metrics\n",
        "                  train_dataset = split_datasets_m_encoded[\"train\"],\n",
        "                  eval_dataset = split_datasets_m_encoded[\"validation\"],\n",
        "                  tokenizer = tokenizer)"
      ],
      "metadata": {
        "id": "X-Qkjkp8CCqR"
      },
      "execution_count": null,
      "outputs": []
    },
    {
      "cell_type": "markdown",
      "source": [
        "Una vez creado el objeto es tan sencillo como entrenar utilizando el método `.train()`:"
      ],
      "metadata": {
        "id": "nDCJrBy9Cp9F"
      }
    },
    {
      "cell_type": "code",
      "source": [
        "trainer._________________________ # train()"
      ],
      "metadata": {
        "id": "Wtd4WJnMCu9c"
      },
      "execution_count": null,
      "outputs": []
    },
    {
      "cell_type": "markdown",
      "source": [
        "A continaución analizemos las cúrvas de pérdida:"
      ],
      "metadata": {
        "id": "5uz1ZhIstB9t"
      }
    },
    {
      "cell_type": "code",
      "source": [
        "# Mostrar curva de pérdida usando los logs del trainer\n",
        "import pandas as pd\n",
        "import matplotlib.pyplot as plt\n",
        "\n",
        "df = pd.DataFrame(trainer.state.log_history)\n",
        "# Separar las filas de entrenamiento y evaluación\n",
        "train_rows = df[df[\"loss\"].notna()].copy()\n",
        "eval_rows = df[df[\"eval_loss\"].notna()].copy()\n",
        "\n",
        "# Fusionar por columna 'step'\n",
        "combined = pd.merge(train_rows, eval_rows, on=\"step\", suffixes=(\"_train\", \"_eval\"))\n",
        "\n",
        "\n",
        "# Filtramos solo los pasos con loss y eval_loss\n",
        "loss_log = combined[[\"step\", \"loss_train\", \"eval_loss_eval\"]].dropna()\n",
        "\n",
        "plt.plot(loss_log[\"step\"], loss_log[\"loss_train\"], label=\"Training loss\")\n",
        "plt.plot(loss_log[\"step\"], loss_log[\"eval_loss_eval\"], label=\"Validation loss\")\n",
        "plt.xlabel(\"Steps\")\n",
        "plt.ylabel(\"Loss\")\n",
        "plt.title(\"Evolución de la loss\")\n",
        "plt.legend()\n",
        "plt.grid()\n",
        "plt.show()"
      ],
      "metadata": {
        "colab": {
          "base_uri": "https://localhost:8080/",
          "height": 472
        },
        "id": "D_XWrHbSy6I1",
        "outputId": "2ef8493e-e3b0-4c68-d85b-c768a4a890ce"
      },
      "execution_count": null,
      "outputs": [
        {
          "output_type": "display_data",
          "data": {
            "text/plain": [
              "<Figure size 640x480 with 1 Axes>"
            ],
            "image/png": "[encoded data removed]"
          },
          "metadata": {}
        }
      ]
    },
    {
      "cell_type": "markdown",
      "source": [
        "La gráfica muestra una evolución típica del entrenamiento de un modelo, donde el loss de entrenamiento disminuye de forma constante, mientras que el loss de validación baja inicialmente pero luego se estabiliza con pequeñas oscilaciones. Esto indica que el modelo aprende bien al principio, pero a partir de cierto punto (alrededor del paso 300) comienza a mostrar signos de sobreajuste, ya que mejora en los datos de entrenamiento pero no en los de validación. Sería recomendable aplicar estrategias como early stopping o regularización para evitar que el modelo pierda capacidad de generalización."
      ],
      "metadata": {
        "id": "w-XnDEhTtJaz"
      }
    },
    {
      "cell_type": "markdown",
      "source": [
        "Si se había habilitado la opción de `push_to_hub=True` en el objeto  `TrainingArguments`, se puede hacer un push del modelo a HuggingFace Hub."
      ],
      "metadata": {
        "id": "uUfwaiJeCVR7"
      }
    },
    {
      "cell_type": "code",
      "source": [
        "trainer.push_to_hub(commit_message=\"Training completed!\")"
      ],
      "metadata": {
        "id": "BUclJF_17KXR"
      },
      "execution_count": null,
      "outputs": []
    },
    {
      "cell_type": "markdown",
      "source": [
        "Si se quisiera, el modelo también se podría guardar en un directorio local para utilizarlo con posterioridad. Para ello se puede utilizar el método `.save_model()`, que permite guardar los archivos del modelo ajustado en un directorio local:"
      ],
      "metadata": {
        "id": "WTc16A5c4Ody"
      }
    },
    {
      "cell_type": "code",
      "source": [
        "trainer.save_model(\"output_model_save\")"
      ],
      "metadata": {
        "id": "B15UQUtR4kky"
      },
      "execution_count": null,
      "outputs": []
    },
    {
      "cell_type": "markdown",
      "source": [
        "## Evaluación del modelo"
      ],
      "metadata": {
        "id": "igByvlN_xb3N"
      }
    },
    {
      "cell_type": "markdown",
      "source": [
        "Una vez entrenado el modelo de reconocimiento de entidades y visto su funcionamiento en una frase específica, ya podríamos evaluar el rendimiento del modelo sobre el conjuntos de datos de test:"
      ],
      "metadata": {
        "id": "zZ9TW1Jar7qk"
      }
    },
    {
      "cell_type": "code",
      "source": [
        "# Descargo y vuelvo a cargar el modelo anterior para llevar a cabo la evaluacíon.\n",
        "model_id = \"luisgasco/model_ner_master\"\n",
        "tokenizer = AutoTokenizer.from_pretrained(model_id)\n",
        "model = AutoModelForTokenClassification.from_pretrained(model_id)\n",
        "trainer = Trainer(\n",
        "    model=model,\n",
        "    args = training_args,\n",
        "    data_collator = data_collator,\n",
        "    compute_metrics = compute_metrics,\n",
        "    train_dataset = split_datasets_m_encoded[\"train\"],\n",
        "    eval_dataset = split_datasets_m_encoded[\"validation\"],\n",
        "    tokenizer = tokenizer\n",
        ")"
      ],
      "metadata": {
        "id": "QvEEv1dotNAx"
      },
      "execution_count": null,
      "outputs": []
    },
    {
      "cell_type": "markdown",
      "source": [
        "Para ello, en primer lugar utilizamos el modelo para predecir los datos sobre el conjunto de test."
      ],
      "metadata": {
        "id": "ttv_IMf5xalv"
      }
    },
    {
      "cell_type": "code",
      "source": [
        "predictions_test = trainer._________________ 3 predict(split_datasets_m_encoded[\"test\"])"
      ],
      "metadata": {
        "colab": {
          "base_uri": "https://localhost:8080/",
          "height": 17
        },
        "id": "E_191l3Psray",
        "outputId": "6a9584fd-39d3-4915-e9b9-92ab373e3507"
      },
      "execution_count": null,
      "outputs": [
        {
          "output_type": "display_data",
          "data": {
            "text/plain": [
              "<IPython.core.display.HTML object>"
            ],
            "text/html": []
          },
          "metadata": {}
        }
      ]
    },
    {
      "cell_type": "markdown",
      "source": [
        "En esta ocasión, para calcular las métricas de rendimiento sobre el conjunto de datos de test, vamos a descargar unas métricas predefinidas en la liberíra Datasets, especificamente utilizando la clase [`load_metrics()`](https://huggingface.co/docs/datasets/v2.7.1/en/loading#metrics).\n",
        "\n",
        "Con ese método se descargarán los métodos de evaluación presentes en seqeval, y podremos utilizar el objeto para obtener los resultados de evaluación:"
      ],
      "metadata": {
        "id": "f-PLQb6pyaZc"
      }
    },
    {
      "cell_type": "code",
      "source": [
        "import evaluate\n",
        "metric = evaluate.load(\"seqeval\")\n",
        "\n",
        "# Obtenemos las predicciones y las etiquetas por cada lado\n",
        "predictions, labels = predictions_test.predictions,predictions_test.label_ids\n",
        "predictions = np.argmax(predictions, axis=2)\n",
        "\n",
        "# Obtenemos las predicciones verdaderas y las predichas y las guardamos en una lista\n",
        "true_predictions = [\n",
        "        [indice2tag[p] for (p, l) in zip(prediction, label) if l != -100]\n",
        "        for prediction, label in zip(predictions, labels)\n",
        "    ]\n",
        "true_labels = [\n",
        "    [indice2tag[l] for (p, l) in zip(prediction, label) if l != -100]\n",
        "    for prediction, label in zip(predictions, labels)\n",
        "]\n",
        "# OBtenemos los resultados de la evaluación a través del método compute.\n",
        "results = metric.compute(predictions=true_predictions, references=true_labels)"
      ],
      "metadata": {
        "colab": {
          "base_uri": "https://localhost:8080/",
          "height": 49,
          "referenced_widgets": [
            "6a3f5464d556476f8faee93ca6e06fb1",
            "ecf799cf845348b7b421c3c6f6c3f644",
            "9261783a18524563b48dc3cd0daa208d",
            "ef14a91d9ede42f08f51991b55b4f721",
            "87178a3c4a0b4bf6a47fcf91ae08dfe9",
            "9d9500926b5a400cab2dfd42207334bb",
            "cb39663db9f54232b07ae1e92b69ef7d",
            "6dec4407c51e4d5c839b435b3cdb09d8",
            "4a80578dba6e49b980e8e1a91a245585",
            "d58339a817684ff6a78982df1be27a0d",
            "208d99ff76904af49ad77a59c75a1eb3"
          ]
        },
        "id": "Y2aZdMZtr_5t",
        "outputId": "cedf296d-2c71-47d7-cb89-f8ae5b17cfee"
      },
      "execution_count": null,
      "outputs": [
        {
          "output_type": "display_data",
          "data": {
            "text/plain": [
              "Downloading builder script:   0%|          | 0.00/6.34k [00:00<?, ?B/s]"
            ],
            "application/vnd.jupyter.widget-view+json": {
              "version_major": 2,
              "version_minor": 0,
              "model_id": "6a3f5464d556476f8faee93ca6e06fb1"
            }
          },
          "metadata": {}
        }
      ]
    },
    {
      "cell_type": "code",
      "source": [
        "results"
      ],
      "metadata": {
        "id": "v1n9n_51u7bI"
      },
      "execution_count": null,
      "outputs": []
    },
    {
      "cell_type": "markdown",
      "source": [
        "## Análisis de error <a name=\"id3_5_4\"></a>"
      ],
      "metadata": {
        "id": "fV4UOkPtWhEr"
      }
    },
    {
      "cell_type": "markdown",
      "source": [
        "Una vez y entrenado el modelo siempre surge una pregunta de forma recurrente: **¿cómo podríamos mejorarlo?**\n",
        "\n",
        "Para llevar a cabo un proceso de mejora de un modelo de inteligencia artificial es necesario llevar a cabo un **análisis exhaustivo de errores de predicción** en el conjunto de datos de validación y/o test. Esto permitirá identificar problemas en las predicciones que nos ayuden a:\n",
        "\n",
        "- Detectar fallos de anotación recurrentes que permitan corregir los datos o refinar las guías de anotación si fuera necesario.\n",
        "- Identificar fallos de predicción del sistema provocados por falta de datos.\n",
        "- Identificar posibles post-procesados que permitan mejorar el rendimiento del sistema sin un re-entrenamiento.\n",
        "\n",
        "Además, si el modelo funciona mucho peor de los esperado, analizar los errores puede ayudarnos a identificar problemas de preprocesado de datos, de evaluación de resultados o cualquier otro tipo de *bug* en nuestro código.\n"
      ],
      "metadata": {
        "id": "Yyq75u_w0H5j"
      }
    },
    {
      "cell_type": "markdown",
      "source": [
        "##### Preparación datos"
      ],
      "metadata": {
        "id": "ct9wq35b7PVL"
      }
    },
    {
      "cell_type": "markdown",
      "source": [
        "Para llevar a cabo el análisis de error, vamos a generar una función que permita procesar los datos de validación o de test y que nos permita obtener el *loss* y las etiquetas predichas para cada token. El *loss* es una métrica que representa si un token es correcto o incorrecto, a un valor mayor el token tendrá una probabilidad mayor de ser incorrecto."
      ],
      "metadata": {
        "id": "IHFyktEaeAzF"
      }
    },
    {
      "cell_type": "code",
      "source": [
        "from torch.nn.functional import cross_entropy\n",
        "\n",
        "def forward_pass_with_label(batch):\n",
        "    # Convertimos los datos en una lista de diccionarios para que puedan ser procesados por el\n",
        "    # data collator.\n",
        "    features = [dict(zip(batch, t)) for t in zip(*batch.values())]\n",
        "    # Padding de las entradas y etiquetas para obtener las predicciones.\n",
        "    new_batch = data_collator(features)\n",
        "    input_ids = new_batch[\"input_ids\"].to(device)\n",
        "    attention_mask = new_batch[\"attention_mask\"].to(device)\n",
        "    labels = new_batch[\"labels\"].to(device)\n",
        "    with torch.no_grad():\n",
        "        # Pasa los datos a través del modelo\n",
        "        output = trainer.model(input_ids, attention_mask)\n",
        "        # Logit.size: [batch_size, sequence_length, classes]\n",
        "        # Predecimos la clase más probable como aquella que tenga el logit más alto.\n",
        "        predicted_label = torch.argmax(output.logits, axis=-1).cpu().numpy()\n",
        "    # Calculamos la loss por token. La los en NER está siendo cross_entroy\n",
        "    loss = cross_entropy(output.logits.view(-1, tags.num_classes),\n",
        "                         labels.view(-1), reduction=\"none\")\n",
        "    # Hacemos el unflatten para ponerlo en formato de salida\n",
        "    loss = loss.view(len(input_ids), -1).cpu().numpy()\n",
        "\n",
        "    return {\"loss\":loss, \"predicted_label\": predicted_label}\n"
      ],
      "metadata": {
        "id": "Afj5CgJ0Whoa"
      },
      "execution_count": null,
      "outputs": []
    },
    {
      "cell_type": "markdown",
      "source": [
        "El dataset de validación procesado anteriormente tiene un campo `ner_tags_str` que habría que eliminar para que no hubiera error al aplicar la función anterior."
      ],
      "metadata": {
        "id": "xzGK9Mp2fCM-"
      }
    },
    {
      "cell_type": "code",
      "source": [
        "#Eliminamos campos innecesarios\n",
        "valid_set = split_datasets_m_encoded[\"validation\"]\n",
        "valid_set = valid_set.map(batched=True, batch_size=32,\n",
        "                      remove_columns=['ner_tags_str'])\n",
        "# Aplicamos la función anterior y la transformamos en un pandas dataframe.\n",
        "valid_set = valid_set.map(forward_pass_with_label, batched=True, batch_size=32)\n",
        "valid_df = valid_set.to_pandas()"
      ],
      "metadata": {
        "id": "7BeFe0EYwwy2"
      },
      "execution_count": null,
      "outputs": []
    },
    {
      "cell_type": "code",
      "source": [
        "valid_df.head(1)"
      ],
      "metadata": {
        "id": "GPIA7K6P4Qy3"
      },
      "execution_count": null,
      "outputs": []
    },
    {
      "cell_type": "markdown",
      "source": [
        "Si observamos el dataframe, se ve que en la columna *labels*, *input_ids* y *predicted_label* contiene valores numéricos, lo que puede provocar problemas durante el análisis de los resultados por dificultad en su interpretabilidad. A continuación vamos a transformar esos valores numéricos por strings."
      ],
      "metadata": {
        "id": "IXYLMvpG4VA_"
      }
    },
    {
      "cell_type": "code",
      "source": [
        "# Creamos el indice -100 en el diccionario indice2tag\n",
        "indice2tag[-100] = \"IGN\"\n",
        "# Convertimos los identificadores de token en su forma string\n",
        "valid_df[\"input_tokens\"] = valid_df[\"input_ids\"].apply(lambda x: tokenizer.convert_ids_to_tokens(x))\n",
        "# Sustituimos las etiquetas predichas por la etiqueta en string\n",
        "valid_df[\"predicted_label\"] = valid_df[\"predicted_label\"].apply(lambda x: [indice2tag[i] for i in x])\n",
        "valid_df[\"labels\"] = valid_df[\"labels\"].apply(lambda x: [indice2tag[i] for i in x])\n",
        "valid_df['loss'] = valid_df.apply(lambda x: x['loss'][:len(x['input_ids'])], axis=1)\n",
        "valid_df['predicted_label'] = valid_df.apply(lambda x: x['predicted_label'][:len(x['input_ids'])], axis=1)\n",
        "valid_df.head(1)"
      ],
      "metadata": {
        "id": "sKITWEuowlkR"
      },
      "execution_count": null,
      "outputs": []
    },
    {
      "cell_type": "markdown",
      "source": [
        "Además, de cara a hacer análisis a nivel de subword, a partir del dataframe anterior vamos a generar un dataframe en el que cada fila sea una subpalabra, con sus atributos asociados como columnas (incluyendo su ´loss´ y su ´predicted_label´"
      ],
      "metadata": {
        "id": "bUttWYCF6PNq"
      }
    },
    {
      "cell_type": "code",
      "source": [
        "df_tokens = valid_df.apply(pd.Series.explode)\n",
        "# Vamos a ignorar los token IGN.\n",
        "df_tokens = df_tokens.query(\"labels != 'IGN'\")\n",
        "df_tokens[\"loss\"] = df_tokens[\"loss\"].astype(float).round(2)\n",
        "df_tokens.head(3)"
      ],
      "metadata": {
        "id": "i48qHrXtxsMH",
        "colab": {
          "base_uri": "https://localhost:8080/",
          "height": 143
        },
        "outputId": "d308004d-9924-431d-e717-e6b531177ee0"
      },
      "execution_count": null,
      "outputs": [
        {
          "output_type": "execute_result",
          "data": {
            "text/plain": [
              "  input_ids attention_mask labels  loss predicted_label input_tokens\n",
              "0     11148              1      O   0.0               O          Dev\n",
              "0     19217              1      O   0.0               O       Engine\n",
              "0         9              1      O   0.0               O            ("
            ],
            "text/html": [
              "\n",
              "  <div id=\"df-011ef703-ba1b-41c4-9672-712a79072c0f\" class=\"colab-df-container\">\n",
              "    <div>\n",
              "<style scoped>\n",
              "    .dataframe tbody tr th:only-of-type {\n",
              "        vertical-align: middle;\n",
              "    }\n",
              "\n",
              "    .dataframe tbody tr th {\n",
              "        vertical-align: top;\n",
              "    }\n",
              "\n",
              "    .dataframe thead th {\n",
              "        text-align: right;\n",
              "    }\n",
              "</style>\n",
              "<table border=\"1\" class=\"dataframe\">\n",
              "  <thead>\n",
              "    <tr style=\"text-align: right;\">\n",
              "      <th></th>\n",
              "      <th>input_ids</th>\n",
              "      <th>attention_mask</th>\n",
              "      <th>labels</th>\n",
              "      <th>loss</th>\n",
              "      <th>predicted_label</th>\n",
              "      <th>input_tokens</th>\n",
              "    </tr>\n",
              "  </thead>\n",
              "  <tbody>\n",
              "    <tr>\n",
              "      <th>0</th>\n",
              "      <td>11148</td>\n",
              "      <td>1</td>\n",
              "      <td>O</td>\n",
              "      <td>0.0</td>\n",
              "      <td>O</td>\n",
              "      <td>Dev</td>\n",
              "    </tr>\n",
              "    <tr>\n",
              "      <th>0</th>\n",
              "      <td>19217</td>\n",
              "      <td>1</td>\n",
              "      <td>O</td>\n",
              "      <td>0.0</td>\n",
              "      <td>O</td>\n",
              "      <td>Engine</td>\n",
              "    </tr>\n",
              "    <tr>\n",
              "      <th>0</th>\n",
              "      <td>9</td>\n",
              "      <td>1</td>\n",
              "      <td>O</td>\n",
              "      <td>0.0</td>\n",
              "      <td>O</td>\n",
              "      <td>(</td>\n",
              "    </tr>\n",
              "  </tbody>\n",
              "</table>\n",
              "</div>\n",
              "    <div class=\"colab-df-buttons\">\n",
              "\n",
              "  <div class=\"colab-df-container\">\n",
              "    <button class=\"colab-df-convert\" onclick=\"convertToInteractive('df-011ef703-ba1b-41c4-9672-712a79072c0f')\"\n",
              "            title=\"Convert this dataframe to an interactive table.\"\n",
              "            style=\"display:none;\">\n",
              "\n",
              "  <svg xmlns=\"http://www.w3.org/2000/svg\" height=\"24px\" viewBox=\"0 -960 960 960\">\n",
              "    <path d=\"M120-120v-720h720v720H120Zm60-500h600v-160H180v160Zm220 220h160v-160H400v160Zm0 220h160v-160H400v160ZM180-400h160v-160H180v160Zm440 0h160v-160H620v160ZM180-180h160v-160H180v160Zm440 0h160v-160H620v160Z\"/>\n",
              "  </svg>\n",
              "    </button>\n",
              "\n",
              "  <style>\n",
              "    .colab-df-container {\n",
              "      display:flex;\n",
              "      gap: 12px;\n",
              "    }\n",
              "\n",
              "    .colab-df-convert {\n",
              "      background-color: #E8F0FE;\n",
              "      border: none;\n",
              "      border-radius: 50%;\n",
              "      cursor: pointer;\n",
              "      display: none;\n",
              "      fill: #1967D2;\n",
              "      height: 32px;\n",
              "      padding: 0 0 0 0;\n",
              "      width: 32px;\n",
              "    }\n",
              "\n",
              "    .colab-df-convert:hover {\n",
              "      background-color: #E2EBFA;\n",
              "      box-shadow: 0px 1px 2px rgba(60, 64, 67, 0.3), 0px 1px 3px 1px rgba(60, 64, 67, 0.15);\n",
              "      fill: #174EA6;\n",
              "    }\n",
              "\n",
              "    .colab-df-buttons div {\n",
              "      margin-bottom: 4px;\n",
              "    }\n",
              "\n",
              "    [theme=dark] .colab-df-convert {\n",
              "      background-color: #3B4455;\n",
              "      fill: #D2E3FC;\n",
              "    }\n",
              "\n",
              "    [theme=dark] .colab-df-convert:hover {\n",
              "      background-color: #434B5C;\n",
              "      box-shadow: 0px 1px 3px 1px rgba(0, 0, 0, 0.15);\n",
              "      filter: drop-shadow(0px 1px 2px rgba(0, 0, 0, 0.3));\n",
              "      fill: #FFFFFF;\n",
              "    }\n",
              "  </style>\n",
              "\n",
              "    <script>\n",
              "      const buttonEl =\n",
              "        document.querySelector('#df-011ef703-ba1b-41c4-9672-712a79072c0f button.colab-df-convert');\n",
              "      buttonEl.style.display =\n",
              "        google.colab.kernel.accessAllowed ? 'block' : 'none';\n",
              "\n",
              "      async function convertToInteractive(key) {\n",
              "        const element = document.querySelector('#df-011ef703-ba1b-41c4-9672-712a79072c0f');\n",
              "        const dataTable =\n",
              "          await google.colab.kernel.invokeFunction('convertToInteractive',\n",
              "                                                    [key], {});\n",
              "        if (!dataTable) return;\n",
              "\n",
              "        const docLinkHtml = 'Like what you see? Visit the ' +\n",
              "          '<a target=\"_blank\" href=https://colab.research.google.com/notebooks/data_table.ipynb>data table notebook</a>'\n",
              "          + ' to learn more about interactive tables.';\n",
              "        element.innerHTML = '';\n",
              "        dataTable['output_type'] = 'display_data';\n",
              "        await google.colab.output.renderOutput(dataTable, element);\n",
              "        const docLink = document.createElement('div');\n",
              "        docLink.innerHTML = docLinkHtml;\n",
              "        element.appendChild(docLink);\n",
              "      }\n",
              "    </script>\n",
              "  </div>\n",
              "\n",
              "\n",
              "<div id=\"df-eab365d5-da08-4844-b03a-7301aa51d6bb\">\n",
              "  <button class=\"colab-df-quickchart\" onclick=\"quickchart('df-eab365d5-da08-4844-b03a-7301aa51d6bb')\"\n",
              "            title=\"Suggest charts\"\n",
              "            style=\"display:none;\">\n",
              "\n",
              "<svg xmlns=\"http://www.w3.org/2000/svg\" height=\"24px\"viewBox=\"0 0 24 24\"\n",
              "     width=\"24px\">\n",
              "    <g>\n",
              "        <path d=\"M19 3H5c-1.1 0-2 .9-2 2v14c0 1.1.9 2 2 2h14c1.1 0 2-.9 2-2V5c0-1.1-.9-2-2-2zM9 17H7v-7h2v7zm4 0h-2V7h2v10zm4 0h-2v-4h2v4z\"/>\n",
              "    </g>\n",
              "</svg>\n",
              "  </button>\n",
              "\n",
              "<style>\n",
              "  .colab-df-quickchart {\n",
              "      --bg-color: #E8F0FE;\n",
              "      --fill-color: #1967D2;\n",
              "      --hover-bg-color: #E2EBFA;\n",
              "      --hover-fill-color: #174EA6;\n",
              "      --disabled-fill-color: #AAA;\n",
              "      --disabled-bg-color: #DDD;\n",
              "  }\n",
              "\n",
              "  [theme=dark] .colab-df-quickchart {\n",
              "      --bg-color: #3B4455;\n",
              "      --fill-color: #D2E3FC;\n",
              "      --hover-bg-color: #434B5C;\n",
              "      --hover-fill-color: #FFFFFF;\n",
              "      --disabled-bg-color: #3B4455;\n",
              "      --disabled-fill-color: #666;\n",
              "  }\n",
              "\n",
              "  .colab-df-quickchart {\n",
              "    background-color: var(--bg-color);\n",
              "    border: none;\n",
              "    border-radius: 50%;\n",
              "    cursor: pointer;\n",
              "    display: none;\n",
              "    fill: var(--fill-color);\n",
              "    height: 32px;\n",
              "    padding: 0;\n",
              "    width: 32px;\n",
              "  }\n",
              "\n",
              "  .colab-df-quickchart:hover {\n",
              "    background-color: var(--hover-bg-color);\n",
              "    box-shadow: 0 1px 2px rgba(60, 64, 67, 0.3), 0 1px 3px 1px rgba(60, 64, 67, 0.15);\n",
              "    fill: var(--button-hover-fill-color);\n",
              "  }\n",
              "\n",
              "  .colab-df-quickchart-complete:disabled,\n",
              "  .colab-df-quickchart-complete:disabled:hover {\n",
              "    background-color: var(--disabled-bg-color);\n",
              "    fill: var(--disabled-fill-color);\n",
              "    box-shadow: none;\n",
              "  }\n",
              "\n",
              "  .colab-df-spinner {\n",
              "    border: 2px solid var(--fill-color);\n",
              "    border-color: transparent;\n",
              "    border-bottom-color: var(--fill-color);\n",
              "    animation:\n",
              "      spin 1s steps(1) infinite;\n",
              "  }\n",
              "\n",
              "  @keyframes spin {\n",
              "    0% {\n",
              "      border-color: transparent;\n",
              "      border-bottom-color: var(--fill-color);\n",
              "      border-left-color: var(--fill-color);\n",
              "    }\n",
              "    20% {\n",
              "      border-color: transparent;\n",
              "      border-left-color: var(--fill-color);\n",
              "      border-top-color: var(--fill-color);\n",
              "    }\n",
              "    30% {\n",
              "      border-color: transparent;\n",
              "      border-left-color: var(--fill-color);\n",
              "      border-top-color: var(--fill-color);\n",
              "      border-right-color: var(--fill-color);\n",
              "    }\n",
              "    40% {\n",
              "      border-color: transparent;\n",
              "      border-right-color: var(--fill-color);\n",
              "      border-top-color: var(--fill-color);\n",
              "    }\n",
              "    60% {\n",
              "      border-color: transparent;\n",
              "      border-right-color: var(--fill-color);\n",
              "    }\n",
              "    80% {\n",
              "      border-color: transparent;\n",
              "      border-right-color: var(--fill-color);\n",
              "      border-bottom-color: var(--fill-color);\n",
              "    }\n",
              "    90% {\n",
              "      border-color: transparent;\n",
              "      border-bottom-color: var(--fill-color);\n",
              "    }\n",
              "  }\n",
              "</style>\n",
              "\n",
              "  <script>\n",
              "    async function quickchart(key) {\n",
              "      const quickchartButtonEl =\n",
              "        document.querySelector('#' + key + ' button');\n",
              "      quickchartButtonEl.disabled = true;  // To prevent multiple clicks.\n",
              "      quickchartButtonEl.classList.add('colab-df-spinner');\n",
              "      try {\n",
              "        const charts = await google.colab.kernel.invokeFunction(\n",
              "            'suggestCharts', [key], {});\n",
              "      } catch (error) {\n",
              "        console.error('Error during call to suggestCharts:', error);\n",
              "      }\n",
              "      quickchartButtonEl.classList.remove('colab-df-spinner');\n",
              "      quickchartButtonEl.classList.add('colab-df-quickchart-complete');\n",
              "    }\n",
              "    (() => {\n",
              "      let quickchartButtonEl =\n",
              "        document.querySelector('#df-eab365d5-da08-4844-b03a-7301aa51d6bb button');\n",
              "      quickchartButtonEl.style.display =\n",
              "        google.colab.kernel.accessAllowed ? 'block' : 'none';\n",
              "    })();\n",
              "  </script>\n",
              "</div>\n",
              "\n",
              "    </div>\n",
              "  </div>\n"
            ],
            "application/vnd.google.colaboratory.intrinsic+json": {
              "type": "dataframe",
              "variable_name": "df_tokens",
              "summary": "{\n  \"name\": \"df_tokens\",\n  \"rows\": 40057,\n  \"fields\": [\n    {\n      \"column\": \"input_ids\",\n      \"properties\": {\n        \"dtype\": \"date\",\n        \"min\": \"4\",\n        \"max\": \"50234\",\n        \"num_unique_values\": 3176,\n        \"samples\": [\n          \"30862\",\n          \"21922\",\n          \"9154\"\n        ],\n        \"semantic_type\": \"\",\n        \"description\": \"\"\n      }\n    },\n    {\n      \"column\": \"attention_mask\",\n      \"properties\": {\n        \"dtype\": \"date\",\n        \"min\": \"1\",\n        \"max\": \"1\",\n        \"num_unique_values\": 1,\n        \"samples\": [\n          \"1\"\n        ],\n        \"semantic_type\": \"\",\n        \"description\": \"\"\n      }\n    },\n    {\n      \"column\": \"labels\",\n      \"properties\": {\n        \"dtype\": \"category\",\n        \"num_unique_values\": 3,\n        \"samples\": [\n          \"O\"\n        ],\n        \"semantic_type\": \"\",\n        \"description\": \"\"\n      }\n    },\n    {\n      \"column\": \"loss\",\n      \"properties\": {\n        \"dtype\": \"number\",\n        \"std\": 0.7356204135794263,\n        \"min\": 0.0,\n        \"max\": 13.49,\n        \"num_unique_values\": 630,\n        \"samples\": [\n          2.88\n        ],\n        \"semantic_type\": \"\",\n        \"description\": \"\"\n      }\n    },\n    {\n      \"column\": \"predicted_label\",\n      \"properties\": {\n        \"dtype\": \"category\",\n        \"num_unique_values\": 3,\n        \"samples\": [\n          \"O\"\n        ],\n        \"semantic_type\": \"\",\n        \"description\": \"\"\n      }\n    },\n    {\n      \"column\": \"input_tokens\",\n      \"properties\": {\n        \"dtype\": \"category\",\n        \"num_unique_values\": 3176,\n        \"samples\": [\n          \"strict\"\n        ],\n        \"semantic_type\": \"\",\n        \"description\": \"\"\n      }\n    }\n  ]\n}"
            }
          },
          "metadata": {},
          "execution_count": 221
        }
      ]
    },
    {
      "cell_type": "markdown",
      "source": [
        "Una vez tengamos los datos preparados, podemos empezar a hacer algunos análisis de error."
      ],
      "metadata": {
        "id": "bgaW9Jqp7I1o"
      }
    },
    {
      "cell_type": "markdown",
      "source": [
        "\n",
        "\n",
        "##### Losses per token"
      ],
      "metadata": {
        "id": "jU4TId80xxKh"
      }
    },
    {
      "cell_type": "markdown",
      "source": [
        "En primer lugar, mostraremos un análisis de error típico, que es analizar el valor agregado de la *loss* para cada token del conjunto de datos. Esto permite identificar si hay errores de predicción altos tanto en tokens frecuentes (con el valor medio) como poco frecuentes ( con la suma y el conteo de ocurrencias del token)."
      ],
      "metadata": {
        "id": "jxo915nF8n8a"
      }
    },
    {
      "cell_type": "markdown",
      "source": [
        "Para realizar este análisis vamos a calcular el número de veces que aparece cada token en los datos, así como la suma total de su *loss* y el valor medio."
      ],
      "metadata": {
        "id": "40WIwfA17WfI"
      }
    },
    {
      "cell_type": "code",
      "source": [
        "df_tokens_loss_token = df_tokens.groupby(\"input_tokens\")[[\"loss\"]].agg([\"count\", \"mean\", \"sum\"]).droplevel(level=0, axis=1)# Elimnamos columnas con más de un nivel"
      ],
      "metadata": {
        "id": "SsO4aO9B-ROv"
      },
      "execution_count": null,
      "outputs": []
    },
    {
      "cell_type": "markdown",
      "source": [
        "###### Tokens con loss total más alta"
      ],
      "metadata": {
        "id": "1kXg1fZWADiY"
      }
    },
    {
      "cell_type": "markdown",
      "source": [
        "Por ejemplo, podríamos mostrar los tokens que tengan un valor total de *loss* más alto:"
      ],
      "metadata": {
        "id": "X54CoRK2-Y1b"
      }
    },
    {
      "cell_type": "code",
      "source": [
        "(\n",
        "    df_tokens_loss_token\n",
        "    .sort_values(by=[\"sum\"], ascending=False)\n",
        "    .reset_index()\n",
        "    .round(2)\n",
        "    .head(20)\n",
        ")"
      ],
      "metadata": {
        "id": "VMk9oFBix4Yd"
      },
      "execution_count": null,
      "outputs": []
    },
    {
      "cell_type": "markdown",
      "source": [
        "Observando esa tabla se pueden llegar a algunas conclusiones:\n",
        "\n",
        "1. **Tokens funcionales comunes**\n",
        "Tokens como `and`, `the`, `of`, `to`, `in`, `a`, `on`, `be`:\n",
        "  - Son muy frecuentes.\n",
        "  - Tienen un **loss promedio moderado** (entre 0.15 y 0.22).\n",
        "  - Aunque no son individualmente problemáticos, su **alta frecuencia los hace acumular mucho loss total**.\n",
        "  - Posible causa: el modelo puede tener dificultades para identificar correctamente los límites de las entidades cuando están cerca de estas palabras.\n",
        "\n",
        "2. **Preposiciones y conectores relevantes**\n",
        "Tokens como `with`, `for`, `our`:\n",
        "  - Tienen **loss promedio más alto** (entre 0.25 y 0.29).\n",
        "  - Estos tokens suelen estar cerca de entidades, y pueden introducir **ambigüedad contextual**.\n",
        "  - El modelo puede tener dudas sobre si lo que sigue debe ser etiquetado como entidad.\n",
        "\n",
        "3. **Tokens de contenido informativo**\n",
        "Tokens como `development`, `work`, `develop`, `data`, `team`, `management`, `business`:\n",
        "  - Tienen un **loss promedio elevado** (de 0.32 hasta 0.82).\n",
        "  - Aunque aparecen menos, su impacto por token es alto.\n",
        "  - Suelen formar parte de **entidades compuestas o polisémicas** (ej.: \"business development\").\n",
        "  - Posible causa: el modelo falla en **reconocer los límites de la entidad o aplicar la etiqueta correcta**.\n",
        "\n"
      ],
      "metadata": {
        "id": "k1mOui9eyEiw"
      }
    },
    {
      "cell_type": "markdown",
      "source": [
        "###### Tokens con avg loss"
      ],
      "metadata": {
        "id": "WU-xeTKSAO7I"
      }
    },
    {
      "cell_type": "markdown",
      "source": [
        "Vamos a ordenar los datos por avg loss más alto, pero filtrando el número de veces que haya aparecido el token como mínimo, ya que esto evitará mostrar errores poco frecuentes."
      ],
      "metadata": {
        "id": "QoJJ_OoIAdZK"
      }
    },
    {
      "cell_type": "code",
      "source": [
        "filtrado = df_tokens_loss_token.sort_values(by=[\"mean\"], ascending=False).reset_index().round(2)\n",
        "min_freq = 20\n",
        "filtrado.loc[filtrado[\"count\"]>min_freq].head(15)"
      ],
      "metadata": {
        "id": "U0QzoVfAAcVE"
      },
      "execution_count": null,
      "outputs": []
    },
    {
      "cell_type": "markdown",
      "source": [
        "##### Losses per label"
      ],
      "metadata": {
        "id": "A6kvlP42yzEJ"
      }
    },
    {
      "cell_type": "markdown",
      "source": [
        "En segundo lugar, mostraremos las etiquetas con un  *loss*  más alto. En el caso de este notebook, en el que hemos entrenado un sistema NER que sólo tiene que predecir una etiqueta, no aporta mucha información, pero nos puede ayudar a identificar la magnitud de problemas a la hora de predecir entidades de más de un token analizando la etiqueta \"I-ETIQUETA\".\n"
      ],
      "metadata": {
        "id": "fdKu_OU6IV6g"
      }
    },
    {
      "cell_type": "markdown",
      "source": [
        "Para realizar este análisis vamos a calcular el número de veces que aparece cada etiqueta en los datos, calculando la suma total de su *loss* y el valor medio."
      ],
      "metadata": {
        "id": "d4jAVWkMIV6g"
      }
    },
    {
      "cell_type": "code",
      "source": [
        "df_tokens_loss_label = df_tokens.groupby(\"labels\")[[\"loss\"]].agg([\"count\", \"mean\", \"sum\"]).droplevel(level=0, axis=1)# Elimnamos columnas con más de un nivel"
      ],
      "metadata": {
        "id": "TwrYJ3raIV6g"
      },
      "execution_count": null,
      "outputs": []
    },
    {
      "cell_type": "code",
      "source": [
        "\n",
        "(\n",
        "    df_tokens_loss_label\n",
        "    .sort_values(by=\"mean\", ascending=False)\n",
        "    .reset_index()\n",
        "    .round(2)\n",
        "    .T\n",
        ")\n"
      ],
      "metadata": {
        "colab": {
          "base_uri": "https://localhost:8080/"
        },
        "id": "znGGiLBFy0iQ",
        "outputId": "ff0ad7df-0487-42f9-f189-b0f9fdf19743"
      },
      "execution_count": null,
      "outputs": [
        {
          "output_type": "execute_result",
          "data": {
            "text/plain": [
              "              0        1        2\n",
              "labels  B-SKILL  I-SKILL        O\n",
              "count      1070     3797    35190\n",
              "mean       1.19     1.08     0.06\n",
              "sum     1270.65   4113.4  2212.36"
            ],
            "text/html": [
              "\n",
              "  <div id=\"df-cb733375-726b-437c-814d-362fa5832d4e\" class=\"colab-df-container\">\n",
              "    <div>\n",
              "<style scoped>\n",
              "    .dataframe tbody tr th:only-of-type {\n",
              "        vertical-align: middle;\n",
              "    }\n",
              "\n",
              "    .dataframe tbody tr th {\n",
              "        vertical-align: top;\n",
              "    }\n",
              "\n",
              "    .dataframe thead th {\n",
              "        text-align: right;\n",
              "    }\n",
              "</style>\n",
              "<table border=\"1\" class=\"dataframe\">\n",
              "  <thead>\n",
              "    <tr style=\"text-align: right;\">\n",
              "      <th></th>\n",
              "      <th>0</th>\n",
              "      <th>1</th>\n",
              "      <th>2</th>\n",
              "    </tr>\n",
              "  </thead>\n",
              "  <tbody>\n",
              "    <tr>\n",
              "      <th>labels</th>\n",
              "      <td>B-SKILL</td>\n",
              "      <td>I-SKILL</td>\n",
              "      <td>O</td>\n",
              "    </tr>\n",
              "    <tr>\n",
              "      <th>count</th>\n",
              "      <td>1070</td>\n",
              "      <td>3797</td>\n",
              "      <td>35190</td>\n",
              "    </tr>\n",
              "    <tr>\n",
              "      <th>mean</th>\n",
              "      <td>1.19</td>\n",
              "      <td>1.08</td>\n",
              "      <td>0.06</td>\n",
              "    </tr>\n",
              "    <tr>\n",
              "      <th>sum</th>\n",
              "      <td>1270.65</td>\n",
              "      <td>4113.4</td>\n",
              "      <td>2212.36</td>\n",
              "    </tr>\n",
              "  </tbody>\n",
              "</table>\n",
              "</div>\n",
              "    <div class=\"colab-df-buttons\">\n",
              "\n",
              "  <div class=\"colab-df-container\">\n",
              "    <button class=\"colab-df-convert\" onclick=\"convertToInteractive('df-cb733375-726b-437c-814d-362fa5832d4e')\"\n",
              "            title=\"Convert this dataframe to an interactive table.\"\n",
              "            style=\"display:none;\">\n",
              "\n",
              "  <svg xmlns=\"http://www.w3.org/2000/svg\" height=\"24px\" viewBox=\"0 -960 960 960\">\n",
              "    <path d=\"M120-120v-720h720v720H120Zm60-500h600v-160H180v160Zm220 220h160v-160H400v160Zm0 220h160v-160H400v160ZM180-400h160v-160H180v160Zm440 0h160v-160H620v160ZM180-180h160v-160H180v160Zm440 0h160v-160H620v160Z\"/>\n",
              "  </svg>\n",
              "    </button>\n",
              "\n",
              "  <style>\n",
              "    .colab-df-container {\n",
              "      display:flex;\n",
              "      gap: 12px;\n",
              "    }\n",
              "\n",
              "    .colab-df-convert {\n",
              "      background-color: #E8F0FE;\n",
              "      border: none;\n",
              "      border-radius: 50%;\n",
              "      cursor: pointer;\n",
              "      display: none;\n",
              "      fill: #1967D2;\n",
              "      height: 32px;\n",
              "      padding: 0 0 0 0;\n",
              "      width: 32px;\n",
              "    }\n",
              "\n",
              "    .colab-df-convert:hover {\n",
              "      background-color: #E2EBFA;\n",
              "      box-shadow: 0px 1px 2px rgba(60, 64, 67, 0.3), 0px 1px 3px 1px rgba(60, 64, 67, 0.15);\n",
              "      fill: #174EA6;\n",
              "    }\n",
              "\n",
              "    .colab-df-buttons div {\n",
              "      margin-bottom: 4px;\n",
              "    }\n",
              "\n",
              "    [theme=dark] .colab-df-convert {\n",
              "      background-color: #3B4455;\n",
              "      fill: #D2E3FC;\n",
              "    }\n",
              "\n",
              "    [theme=dark] .colab-df-convert:hover {\n",
              "      background-color: #434B5C;\n",
              "      box-shadow: 0px 1px 3px 1px rgba(0, 0, 0, 0.15);\n",
              "      filter: drop-shadow(0px 1px 2px rgba(0, 0, 0, 0.3));\n",
              "      fill: #FFFFFF;\n",
              "    }\n",
              "  </style>\n",
              "\n",
              "    <script>\n",
              "      const buttonEl =\n",
              "        document.querySelector('#df-cb733375-726b-437c-814d-362fa5832d4e button.colab-df-convert');\n",
              "      buttonEl.style.display =\n",
              "        google.colab.kernel.accessAllowed ? 'block' : 'none';\n",
              "\n",
              "      async function convertToInteractive(key) {\n",
              "        const element = document.querySelector('#df-cb733375-726b-437c-814d-362fa5832d4e');\n",
              "        const dataTable =\n",
              "          await google.colab.kernel.invokeFunction('convertToInteractive',\n",
              "                                                    [key], {});\n",
              "        if (!dataTable) return;\n",
              "\n",
              "        const docLinkHtml = 'Like what you see? Visit the ' +\n",
              "          '<a target=\"_blank\" href=https://colab.research.google.com/notebooks/data_table.ipynb>data table notebook</a>'\n",
              "          + ' to learn more about interactive tables.';\n",
              "        element.innerHTML = '';\n",
              "        dataTable['output_type'] = 'display_data';\n",
              "        await google.colab.output.renderOutput(dataTable, element);\n",
              "        const docLink = document.createElement('div');\n",
              "        docLink.innerHTML = docLinkHtml;\n",
              "        element.appendChild(docLink);\n",
              "      }\n",
              "    </script>\n",
              "  </div>\n",
              "\n",
              "\n",
              "<div id=\"df-398177cb-f530-44a7-a5d6-8ff3a19c6ced\">\n",
              "  <button class=\"colab-df-quickchart\" onclick=\"quickchart('df-398177cb-f530-44a7-a5d6-8ff3a19c6ced')\"\n",
              "            title=\"Suggest charts\"\n",
              "            style=\"display:none;\">\n",
              "\n",
              "<svg xmlns=\"http://www.w3.org/2000/svg\" height=\"24px\"viewBox=\"0 0 24 24\"\n",
              "     width=\"24px\">\n",
              "    <g>\n",
              "        <path d=\"M19 3H5c-1.1 0-2 .9-2 2v14c0 1.1.9 2 2 2h14c1.1 0 2-.9 2-2V5c0-1.1-.9-2-2-2zM9 17H7v-7h2v7zm4 0h-2V7h2v10zm4 0h-2v-4h2v4z\"/>\n",
              "    </g>\n",
              "</svg>\n",
              "  </button>\n",
              "\n",
              "<style>\n",
              "  .colab-df-quickchart {\n",
              "      --bg-color: #E8F0FE;\n",
              "      --fill-color: #1967D2;\n",
              "      --hover-bg-color: #E2EBFA;\n",
              "      --hover-fill-color: #174EA6;\n",
              "      --disabled-fill-color: #AAA;\n",
              "      --disabled-bg-color: #DDD;\n",
              "  }\n",
              "\n",
              "  [theme=dark] .colab-df-quickchart {\n",
              "      --bg-color: #3B4455;\n",
              "      --fill-color: #D2E3FC;\n",
              "      --hover-bg-color: #434B5C;\n",
              "      --hover-fill-color: #FFFFFF;\n",
              "      --disabled-bg-color: #3B4455;\n",
              "      --disabled-fill-color: #666;\n",
              "  }\n",
              "\n",
              "  .colab-df-quickchart {\n",
              "    background-color: var(--bg-color);\n",
              "    border: none;\n",
              "    border-radius: 50%;\n",
              "    cursor: pointer;\n",
              "    display: none;\n",
              "    fill: var(--fill-color);\n",
              "    height: 32px;\n",
              "    padding: 0;\n",
              "    width: 32px;\n",
              "  }\n",
              "\n",
              "  .colab-df-quickchart:hover {\n",
              "    background-color: var(--hover-bg-color);\n",
              "    box-shadow: 0 1px 2px rgba(60, 64, 67, 0.3), 0 1px 3px 1px rgba(60, 64, 67, 0.15);\n",
              "    fill: var(--button-hover-fill-color);\n",
              "  }\n",
              "\n",
              "  .colab-df-quickchart-complete:disabled,\n",
              "  .colab-df-quickchart-complete:disabled:hover {\n",
              "    background-color: var(--disabled-bg-color);\n",
              "    fill: var(--disabled-fill-color);\n",
              "    box-shadow: none;\n",
              "  }\n",
              "\n",
              "  .colab-df-spinner {\n",
              "    border: 2px solid var(--fill-color);\n",
              "    border-color: transparent;\n",
              "    border-bottom-color: var(--fill-color);\n",
              "    animation:\n",
              "      spin 1s steps(1) infinite;\n",
              "  }\n",
              "\n",
              "  @keyframes spin {\n",
              "    0% {\n",
              "      border-color: transparent;\n",
              "      border-bottom-color: var(--fill-color);\n",
              "      border-left-color: var(--fill-color);\n",
              "    }\n",
              "    20% {\n",
              "      border-color: transparent;\n",
              "      border-left-color: var(--fill-color);\n",
              "      border-top-color: var(--fill-color);\n",
              "    }\n",
              "    30% {\n",
              "      border-color: transparent;\n",
              "      border-left-color: var(--fill-color);\n",
              "      border-top-color: var(--fill-color);\n",
              "      border-right-color: var(--fill-color);\n",
              "    }\n",
              "    40% {\n",
              "      border-color: transparent;\n",
              "      border-right-color: var(--fill-color);\n",
              "      border-top-color: var(--fill-color);\n",
              "    }\n",
              "    60% {\n",
              "      border-color: transparent;\n",
              "      border-right-color: var(--fill-color);\n",
              "    }\n",
              "    80% {\n",
              "      border-color: transparent;\n",
              "      border-right-color: var(--fill-color);\n",
              "      border-bottom-color: var(--fill-color);\n",
              "    }\n",
              "    90% {\n",
              "      border-color: transparent;\n",
              "      border-bottom-color: var(--fill-color);\n",
              "    }\n",
              "  }\n",
              "</style>\n",
              "\n",
              "  <script>\n",
              "    async function quickchart(key) {\n",
              "      const quickchartButtonEl =\n",
              "        document.querySelector('#' + key + ' button');\n",
              "      quickchartButtonEl.disabled = true;  // To prevent multiple clicks.\n",
              "      quickchartButtonEl.classList.add('colab-df-spinner');\n",
              "      try {\n",
              "        const charts = await google.colab.kernel.invokeFunction(\n",
              "            'suggestCharts', [key], {});\n",
              "      } catch (error) {\n",
              "        console.error('Error during call to suggestCharts:', error);\n",
              "      }\n",
              "      quickchartButtonEl.classList.remove('colab-df-spinner');\n",
              "      quickchartButtonEl.classList.add('colab-df-quickchart-complete');\n",
              "    }\n",
              "    (() => {\n",
              "      let quickchartButtonEl =\n",
              "        document.querySelector('#df-398177cb-f530-44a7-a5d6-8ff3a19c6ced button');\n",
              "      quickchartButtonEl.style.display =\n",
              "        google.colab.kernel.accessAllowed ? 'block' : 'none';\n",
              "    })();\n",
              "  </script>\n",
              "</div>\n",
              "\n",
              "    </div>\n",
              "  </div>\n"
            ],
            "application/vnd.google.colaboratory.intrinsic+json": {
              "type": "dataframe",
              "summary": "{\n  \"name\": \")\",\n  \"rows\": 4,\n  \"fields\": [\n    {\n      \"column\": 0,\n      \"properties\": {\n        \"dtype\": \"string\",\n        \"num_unique_values\": 4,\n        \"samples\": [\n          1070,\n          1270.65,\n          \"B-SKILL\"\n        ],\n        \"semantic_type\": \"\",\n        \"description\": \"\"\n      }\n    },\n    {\n      \"column\": 1,\n      \"properties\": {\n        \"dtype\": \"string\",\n        \"num_unique_values\": 4,\n        \"samples\": [\n          3797,\n          4113.4,\n          \"I-SKILL\"\n        ],\n        \"semantic_type\": \"\",\n        \"description\": \"\"\n      }\n    },\n    {\n      \"column\": 2,\n      \"properties\": {\n        \"dtype\": \"string\",\n        \"num_unique_values\": 4,\n        \"samples\": [\n          35190,\n          2212.36,\n          \"O\"\n        ],\n        \"semantic_type\": \"\",\n        \"description\": \"\"\n      }\n    }\n  ]\n}"
            }
          },
          "metadata": {},
          "execution_count": 161
        }
      ]
    },
    {
      "cell_type": "markdown",
      "source": [
        "La loss más grande es la relaccionada con la etiqueta I-SKILL, lo que podría significar que el modelo identifica bien lso comienzos de entidades pero tiene problemas para detectar las entidades completas."
      ],
      "metadata": {
        "id": "NmWmpRoiy6TK"
      }
    },
    {
      "cell_type": "markdown",
      "source": [
        "##### Matriz de confusión"
      ],
      "metadata": {
        "id": "xk11kYIszFF4"
      }
    },
    {
      "cell_type": "markdown",
      "source": [
        "También se puede generar una matriz de confusión pque permita evaluar cuantas veces se equivocó a la hora de asignar las etiqetas en los tokens y ver con que clase fueron clasificadas por el modelo."
      ],
      "metadata": {
        "id": "V8B5_27HI1sb"
      }
    },
    {
      "cell_type": "code",
      "source": [
        "import matplotlib.pyplot as plt\n",
        "\n",
        "from sklearn.metrics import ConfusionMatrixDisplay, confusion_matrix\n",
        "\n",
        "def plot_confusion_matrix(y_preds, y_true, labels, normalizado = \"true\"):\n",
        "    cm = confusion_matrix(y_true, y_preds, normalize=normalizado)\n",
        "    fig, ax = plt.subplots(figsize=(6, 6))\n",
        "    disp = ConfusionMatrixDisplay(confusion_matrix=cm, display_labels=labels)\n",
        "    disp.plot(cmap=\"Blues\", values_format=\".2f\", ax=ax, colorbar=False)\n",
        "    plt.title(\"Confusion matrix\")\n",
        "    plt.show()\n",
        "\n",
        "\n",
        "plot_confusion_matrix(df_tokens[\"labels\"], df_tokens[\"predicted_label\"],\n",
        "                      tags.names,normalizado=\"true\")"
      ],
      "metadata": {
        "colab": {
          "base_uri": "https://localhost:8080/"
        },
        "id": "WlMkMXcizIWd",
        "outputId": "dddc28e8-865e-43df-e078-c2de489c7a08"
      },
      "execution_count": null,
      "outputs": [
        {
          "output_type": "display_data",
          "data": {
            "text/plain": [
              "<Figure size 600x600 with 1 Axes>"
            ],
            "image/png": "[encoded data removed]"
          },
          "metadata": {}
        }
      ]
    },
    {
      "cell_type": "markdown",
      "source": [
        "Por ejemplo, en la matriz de confusión se observa que hay un 23% de etiquetas de tipo B-SKILL, que representan el inicio de una entidad,  que es clasificada como I-SKILL.\n",
        "\n",
        "En el caso de la categoría O, se clasifica correctamente en un 70%, pero hay un 23% de falsos positivos como I-SKILL, lo cual sugiere que el modelo está detectando entidades donde no las hay.\n",
        "\n",
        "Se podría buscar en que elementos está ocurriendo este comportamiento para intentar inferir el motivo de esta actuación."
      ],
      "metadata": {
        "id": "_TtYeprgzbzM"
      }
    },
    {
      "cell_type": "code",
      "source": [
        "df_tokens[(df_tokens.labels==\"B-SKILL\") &  (df_tokens.predicted_label ==\"I-SKILL\")]"
      ],
      "metadata": {
        "colab": {
          "base_uri": "https://localhost:8080/"
        },
        "id": "gA0I3rdRmeah",
        "outputId": "4395f477-891f-43b9-d189-e6b1dbaf7b6b"
      },
      "execution_count": null,
      "outputs": [
        {
          "output_type": "execute_result",
          "data": {
            "text/plain": [
              "     input_ids attention_mask   labels  loss predicted_label input_tokens\n",
              "29       11713              1  B-SKILL  2.44         I-SKILL       commun\n",
              "29        7555              1  B-SKILL  2.21         I-SKILL          del\n",
              "44       28872              1  B-SKILL  1.87         I-SKILL      problem\n",
              "118        420              1  B-SKILL  2.20         I-SKILL         ment\n",
              "135      45552              1  B-SKILL  3.23         I-SKILL       deploy\n",
              "355        446              1  B-SKILL  3.84         I-SKILL           pl\n",
              "430       1601              1  B-SKILL  3.14         I-SKILL         work\n",
              "495      11145              1  B-SKILL  1.74         I-SKILL         make\n",
              "1301     43442              1  B-SKILL  1.10         I-SKILL        hands\n",
              "1375      3211              1  B-SKILL  3.49         I-SKILL         code\n",
              "1375     43442              1  B-SKILL  1.37         I-SKILL        hands\n",
              "1494     16770              1  B-SKILL  1.47         I-SKILL     Evaluate\n",
              "1710      2211              1  B-SKILL  1.11         I-SKILL         oper\n",
              "1926      8522              1  B-SKILL  4.53         I-SKILL         unit\n",
              "1988     16714              1  B-SKILL  1.47         I-SKILL      develop\n",
              "2102     24220              1  B-SKILL  2.87         I-SKILL      running\n",
              "2165     32375              1  B-SKILL  4.57         I-SKILL  integration\n",
              "2165      3431              1  B-SKILL  4.56         I-SKILL          dis\n",
              "2326      1826              1  B-SKILL  3.71         I-SKILL          new\n",
              "2329     41571              1  B-SKILL  0.81         I-SKILL      driving\n",
              "2545     39943              1  B-SKILL  2.07         I-SKILL   confidence\n",
              "2598     29309              1  B-SKILL  3.50         I-SKILL        coord\n",
              "2606     23939              1  B-SKILL  1.42         I-SKILL        multi\n",
              "2606     11145              1  B-SKILL  0.85         I-SKILL         make\n",
              "2646     11139              1  B-SKILL  2.76         I-SKILL         plan\n",
              "2673     36236              1  B-SKILL  3.71         I-SKILL   coordinate\n",
              "2703     26460              1  B-SKILL  0.98         I-SKILL         lead\n",
              "2710     43543              1  B-SKILL  1.32         I-SKILL        negot\n",
              "2753      8656              1  B-SKILL  2.50         I-SKILL         high\n",
              "2780        72              1  B-SKILL  2.26         I-SKILL            g\n",
              "2843      8190              1  B-SKILL  1.18         I-SKILL       contin\n",
              "2866      5992              1  B-SKILL  5.84         I-SKILL          det\n",
              "2988      4608              1  B-SKILL  0.93         I-SKILL         hand\n",
              "3002       483              1  B-SKILL  0.87         I-SKILL          out\n",
              "3163     10613              1  B-SKILL  1.25         I-SKILL      service"
            ],
            "text/html": [
              "\n",
              "  <div id=\"df-f00de6c2-bc67-4482-b364-ed8c859ccb2a\" class=\"colab-df-container\">\n",
              "    <div>\n",
              "<style scoped>\n",
              "    .dataframe tbody tr th:only-of-type {\n",
              "        vertical-align: middle;\n",
              "    }\n",
              "\n",
              "    .dataframe tbody tr th {\n",
              "        vertical-align: top;\n",
              "    }\n",
              "\n",
              "    .dataframe thead th {\n",
              "        text-align: right;\n",
              "    }\n",
              "</style>\n",
              "<table border=\"1\" class=\"dataframe\">\n",
              "  <thead>\n",
              "    <tr style=\"text-align: right;\">\n",
              "      <th></th>\n",
              "      <th>input_ids</th>\n",
              "      <th>attention_mask</th>\n",
              "      <th>labels</th>\n",
              "      <th>loss</th>\n",
              "      <th>predicted_label</th>\n",
              "      <th>input_tokens</th>\n",
              "    </tr>\n",
              "  </thead>\n",
              "  <tbody>\n",
              "    <tr>\n",
              "      <th>29</th>\n",
              "      <td>11713</td>\n",
              "      <td>1</td>\n",
              "      <td>B-SKILL</td>\n",
              "      <td>2.44</td>\n",
              "      <td>I-SKILL</td>\n",
              "      <td>commun</td>\n",
              "    </tr>\n",
              "    <tr>\n",
              "      <th>29</th>\n",
              "      <td>7555</td>\n",
              "      <td>1</td>\n",
              "      <td>B-SKILL</td>\n",
              "      <td>2.21</td>\n",
              "      <td>I-SKILL</td>\n",
              "      <td>del</td>\n",
              "    </tr>\n",
              "    <tr>\n",
              "      <th>44</th>\n",
              "      <td>28872</td>\n",
              "      <td>1</td>\n",
              "      <td>B-SKILL</td>\n",
              "      <td>1.87</td>\n",
              "      <td>I-SKILL</td>\n",
              "      <td>problem</td>\n",
              "    </tr>\n",
              "    <tr>\n",
              "      <th>118</th>\n",
              "      <td>420</td>\n",
              "      <td>1</td>\n",
              "      <td>B-SKILL</td>\n",
              "      <td>2.20</td>\n",
              "      <td>I-SKILL</td>\n",
              "      <td>ment</td>\n",
              "    </tr>\n",
              "    <tr>\n",
              "      <th>135</th>\n",
              "      <td>45552</td>\n",
              "      <td>1</td>\n",
              "      <td>B-SKILL</td>\n",
              "      <td>3.23</td>\n",
              "      <td>I-SKILL</td>\n",
              "      <td>deploy</td>\n",
              "    </tr>\n",
              "    <tr>\n",
              "      <th>355</th>\n",
              "      <td>446</td>\n",
              "      <td>1</td>\n",
              "      <td>B-SKILL</td>\n",
              "      <td>3.84</td>\n",
              "      <td>I-SKILL</td>\n",
              "      <td>pl</td>\n",
              "    </tr>\n",
              "    <tr>\n",
              "      <th>430</th>\n",
              "      <td>1601</td>\n",
              "      <td>1</td>\n",
              "      <td>B-SKILL</td>\n",
              "      <td>3.14</td>\n",
              "      <td>I-SKILL</td>\n",
              "      <td>work</td>\n",
              "    </tr>\n",
              "    <tr>\n",
              "      <th>495</th>\n",
              "      <td>11145</td>\n",
              "      <td>1</td>\n",
              "      <td>B-SKILL</td>\n",
              "      <td>1.74</td>\n",
              "      <td>I-SKILL</td>\n",
              "      <td>make</td>\n",
              "    </tr>\n",
              "    <tr>\n",
              "      <th>1301</th>\n",
              "      <td>43442</td>\n",
              "      <td>1</td>\n",
              "      <td>B-SKILL</td>\n",
              "      <td>1.10</td>\n",
              "      <td>I-SKILL</td>\n",
              "      <td>hands</td>\n",
              "    </tr>\n",
              "    <tr>\n",
              "      <th>1375</th>\n",
              "      <td>3211</td>\n",
              "      <td>1</td>\n",
              "      <td>B-SKILL</td>\n",
              "      <td>3.49</td>\n",
              "      <td>I-SKILL</td>\n",
              "      <td>code</td>\n",
              "    </tr>\n",
              "    <tr>\n",
              "      <th>1375</th>\n",
              "      <td>43442</td>\n",
              "      <td>1</td>\n",
              "      <td>B-SKILL</td>\n",
              "      <td>1.37</td>\n",
              "      <td>I-SKILL</td>\n",
              "      <td>hands</td>\n",
              "    </tr>\n",
              "    <tr>\n",
              "      <th>1494</th>\n",
              "      <td>16770</td>\n",
              "      <td>1</td>\n",
              "      <td>B-SKILL</td>\n",
              "      <td>1.47</td>\n",
              "      <td>I-SKILL</td>\n",
              "      <td>Evaluate</td>\n",
              "    </tr>\n",
              "    <tr>\n",
              "      <th>1710</th>\n",
              "      <td>2211</td>\n",
              "      <td>1</td>\n",
              "      <td>B-SKILL</td>\n",
              "      <td>1.11</td>\n",
              "      <td>I-SKILL</td>\n",
              "      <td>oper</td>\n",
              "    </tr>\n",
              "    <tr>\n",
              "      <th>1926</th>\n",
              "      <td>8522</td>\n",
              "      <td>1</td>\n",
              "      <td>B-SKILL</td>\n",
              "      <td>4.53</td>\n",
              "      <td>I-SKILL</td>\n",
              "      <td>unit</td>\n",
              "    </tr>\n",
              "    <tr>\n",
              "      <th>1988</th>\n",
              "      <td>16714</td>\n",
              "      <td>1</td>\n",
              "      <td>B-SKILL</td>\n",
              "      <td>1.47</td>\n",
              "      <td>I-SKILL</td>\n",
              "      <td>develop</td>\n",
              "    </tr>\n",
              "    <tr>\n",
              "      <th>2102</th>\n",
              "      <td>24220</td>\n",
              "      <td>1</td>\n",
              "      <td>B-SKILL</td>\n",
              "      <td>2.87</td>\n",
              "      <td>I-SKILL</td>\n",
              "      <td>running</td>\n",
              "    </tr>\n",
              "    <tr>\n",
              "      <th>2165</th>\n",
              "      <td>32375</td>\n",
              "      <td>1</td>\n",
              "      <td>B-SKILL</td>\n",
              "      <td>4.57</td>\n",
              "      <td>I-SKILL</td>\n",
              "      <td>integration</td>\n",
              "    </tr>\n",
              "    <tr>\n",
              "      <th>2165</th>\n",
              "      <td>3431</td>\n",
              "      <td>1</td>\n",
              "      <td>B-SKILL</td>\n",
              "      <td>4.56</td>\n",
              "      <td>I-SKILL</td>\n",
              "      <td>dis</td>\n",
              "    </tr>\n",
              "    <tr>\n",
              "      <th>2326</th>\n",
              "      <td>1826</td>\n",
              "      <td>1</td>\n",
              "      <td>B-SKILL</td>\n",
              "      <td>3.71</td>\n",
              "      <td>I-SKILL</td>\n",
              "      <td>new</td>\n",
              "    </tr>\n",
              "    <tr>\n",
              "      <th>2329</th>\n",
              "      <td>41571</td>\n",
              "      <td>1</td>\n",
              "      <td>B-SKILL</td>\n",
              "      <td>0.81</td>\n",
              "      <td>I-SKILL</td>\n",
              "      <td>driving</td>\n",
              "    </tr>\n",
              "    <tr>\n",
              "      <th>2545</th>\n",
              "      <td>39943</td>\n",
              "      <td>1</td>\n",
              "      <td>B-SKILL</td>\n",
              "      <td>2.07</td>\n",
              "      <td>I-SKILL</td>\n",
              "      <td>confidence</td>\n",
              "    </tr>\n",
              "    <tr>\n",
              "      <th>2598</th>\n",
              "      <td>29309</td>\n",
              "      <td>1</td>\n",
              "      <td>B-SKILL</td>\n",
              "      <td>3.50</td>\n",
              "      <td>I-SKILL</td>\n",
              "      <td>coord</td>\n",
              "    </tr>\n",
              "    <tr>\n",
              "      <th>2606</th>\n",
              "      <td>23939</td>\n",
              "      <td>1</td>\n",
              "      <td>B-SKILL</td>\n",
              "      <td>1.42</td>\n",
              "      <td>I-SKILL</td>\n",
              "      <td>multi</td>\n",
              "    </tr>\n",
              "    <tr>\n",
              "      <th>2606</th>\n",
              "      <td>11145</td>\n",
              "      <td>1</td>\n",
              "      <td>B-SKILL</td>\n",
              "      <td>0.85</td>\n",
              "      <td>I-SKILL</td>\n",
              "      <td>make</td>\n",
              "    </tr>\n",
              "    <tr>\n",
              "      <th>2646</th>\n",
              "      <td>11139</td>\n",
              "      <td>1</td>\n",
              "      <td>B-SKILL</td>\n",
              "      <td>2.76</td>\n",
              "      <td>I-SKILL</td>\n",
              "      <td>plan</td>\n",
              "    </tr>\n",
              "    <tr>\n",
              "      <th>2673</th>\n",
              "      <td>36236</td>\n",
              "      <td>1</td>\n",
              "      <td>B-SKILL</td>\n",
              "      <td>3.71</td>\n",
              "      <td>I-SKILL</td>\n",
              "      <td>coordinate</td>\n",
              "    </tr>\n",
              "    <tr>\n",
              "      <th>2703</th>\n",
              "      <td>26460</td>\n",
              "      <td>1</td>\n",
              "      <td>B-SKILL</td>\n",
              "      <td>0.98</td>\n",
              "      <td>I-SKILL</td>\n",
              "      <td>lead</td>\n",
              "    </tr>\n",
              "    <tr>\n",
              "      <th>2710</th>\n",
              "      <td>43543</td>\n",
              "      <td>1</td>\n",
              "      <td>B-SKILL</td>\n",
              "      <td>1.32</td>\n",
              "      <td>I-SKILL</td>\n",
              "      <td>negot</td>\n",
              "    </tr>\n",
              "    <tr>\n",
              "      <th>2753</th>\n",
              "      <td>8656</td>\n",
              "      <td>1</td>\n",
              "      <td>B-SKILL</td>\n",
              "      <td>2.50</td>\n",
              "      <td>I-SKILL</td>\n",
              "      <td>high</td>\n",
              "    </tr>\n",
              "    <tr>\n",
              "      <th>2780</th>\n",
              "      <td>72</td>\n",
              "      <td>1</td>\n",
              "      <td>B-SKILL</td>\n",
              "      <td>2.26</td>\n",
              "      <td>I-SKILL</td>\n",
              "      <td>g</td>\n",
              "    </tr>\n",
              "    <tr>\n",
              "      <th>2843</th>\n",
              "      <td>8190</td>\n",
              "      <td>1</td>\n",
              "      <td>B-SKILL</td>\n",
              "      <td>1.18</td>\n",
              "      <td>I-SKILL</td>\n",
              "      <td>contin</td>\n",
              "    </tr>\n",
              "    <tr>\n",
              "      <th>2866</th>\n",
              "      <td>5992</td>\n",
              "      <td>1</td>\n",
              "      <td>B-SKILL</td>\n",
              "      <td>5.84</td>\n",
              "      <td>I-SKILL</td>\n",
              "      <td>det</td>\n",
              "    </tr>\n",
              "    <tr>\n",
              "      <th>2988</th>\n",
              "      <td>4608</td>\n",
              "      <td>1</td>\n",
              "      <td>B-SKILL</td>\n",
              "      <td>0.93</td>\n",
              "      <td>I-SKILL</td>\n",
              "      <td>hand</td>\n",
              "    </tr>\n",
              "    <tr>\n",
              "      <th>3002</th>\n",
              "      <td>483</td>\n",
              "      <td>1</td>\n",
              "      <td>B-SKILL</td>\n",
              "      <td>0.87</td>\n",
              "      <td>I-SKILL</td>\n",
              "      <td>out</td>\n",
              "    </tr>\n",
              "    <tr>\n",
              "      <th>3163</th>\n",
              "      <td>10613</td>\n",
              "      <td>1</td>\n",
              "      <td>B-SKILL</td>\n",
              "      <td>1.25</td>\n",
              "      <td>I-SKILL</td>\n",
              "      <td>service</td>\n",
              "    </tr>\n",
              "  </tbody>\n",
              "</table>\n",
              "</div>\n",
              "    <div class=\"colab-df-buttons\">\n",
              "\n",
              "  <div class=\"colab-df-container\">\n",
              "    <button class=\"colab-df-convert\" onclick=\"convertToInteractive('df-f00de6c2-bc67-4482-b364-ed8c859ccb2a')\"\n",
              "            title=\"Convert this dataframe to an interactive table.\"\n",
              "            style=\"display:none;\">\n",
              "\n",
              "  <svg xmlns=\"http://www.w3.org/2000/svg\" height=\"24px\" viewBox=\"0 -960 960 960\">\n",
              "    <path d=\"M120-120v-720h720v720H120Zm60-500h600v-160H180v160Zm220 220h160v-160H400v160Zm0 220h160v-160H400v160ZM180-400h160v-160H180v160Zm440 0h160v-160H620v160ZM180-180h160v-160H180v160Zm440 0h160v-160H620v160Z\"/>\n",
              "  </svg>\n",
              "    </button>\n",
              "\n",
              "  <style>\n",
              "    .colab-df-container {\n",
              "      display:flex;\n",
              "      gap: 12px;\n",
              "    }\n",
              "\n",
              "    .colab-df-convert {\n",
              "      background-color: #E8F0FE;\n",
              "      border: none;\n",
              "      border-radius: 50%;\n",
              "      cursor: pointer;\n",
              "      display: none;\n",
              "      fill: #1967D2;\n",
              "      height: 32px;\n",
              "      padding: 0 0 0 0;\n",
              "      width: 32px;\n",
              "    }\n",
              "\n",
              "    .colab-df-convert:hover {\n",
              "      background-color: #E2EBFA;\n",
              "      box-shadow: 0px 1px 2px rgba(60, 64, 67, 0.3), 0px 1px 3px 1px rgba(60, 64, 67, 0.15);\n",
              "      fill: #174EA6;\n",
              "    }\n",
              "\n",
              "    .colab-df-buttons div {\n",
              "      margin-bottom: 4px;\n",
              "    }\n",
              "\n",
              "    [theme=dark] .colab-df-convert {\n",
              "      background-color: #3B4455;\n",
              "      fill: #D2E3FC;\n",
              "    }\n",
              "\n",
              "    [theme=dark] .colab-df-convert:hover {\n",
              "      background-color: #434B5C;\n",
              "      box-shadow: 0px 1px 3px 1px rgba(0, 0, 0, 0.15);\n",
              "      filter: drop-shadow(0px 1px 2px rgba(0, 0, 0, 0.3));\n",
              "      fill: #FFFFFF;\n",
              "    }\n",
              "  </style>\n",
              "\n",
              "    <script>\n",
              "      const buttonEl =\n",
              "        document.querySelector('#df-f00de6c2-bc67-4482-b364-ed8c859ccb2a button.colab-df-convert');\n",
              "      buttonEl.style.display =\n",
              "        google.colab.kernel.accessAllowed ? 'block' : 'none';\n",
              "\n",
              "      async function convertToInteractive(key) {\n",
              "        const element = document.querySelector('#df-f00de6c2-bc67-4482-b364-ed8c859ccb2a');\n",
              "        const dataTable =\n",
              "          await google.colab.kernel.invokeFunction('convertToInteractive',\n",
              "                                                    [key], {});\n",
              "        if (!dataTable) return;\n",
              "\n",
              "        const docLinkHtml = 'Like what you see? Visit the ' +\n",
              "          '<a target=\"_blank\" href=https://colab.research.google.com/notebooks/data_table.ipynb>data table notebook</a>'\n",
              "          + ' to learn more about interactive tables.';\n",
              "        element.innerHTML = '';\n",
              "        dataTable['output_type'] = 'display_data';\n",
              "        await google.colab.output.renderOutput(dataTable, element);\n",
              "        const docLink = document.createElement('div');\n",
              "        docLink.innerHTML = docLinkHtml;\n",
              "        element.appendChild(docLink);\n",
              "      }\n",
              "    </script>\n",
              "  </div>\n",
              "\n",
              "\n",
              "<div id=\"df-de200811-acec-413e-a91a-70e729d0574a\">\n",
              "  <button class=\"colab-df-quickchart\" onclick=\"quickchart('df-de200811-acec-413e-a91a-70e729d0574a')\"\n",
              "            title=\"Suggest charts\"\n",
              "            style=\"display:none;\">\n",
              "\n",
              "<svg xmlns=\"http://www.w3.org/2000/svg\" height=\"24px\"viewBox=\"0 0 24 24\"\n",
              "     width=\"24px\">\n",
              "    <g>\n",
              "        <path d=\"M19 3H5c-1.1 0-2 .9-2 2v14c0 1.1.9 2 2 2h14c1.1 0 2-.9 2-2V5c0-1.1-.9-2-2-2zM9 17H7v-7h2v7zm4 0h-2V7h2v10zm4 0h-2v-4h2v4z\"/>\n",
              "    </g>\n",
              "</svg>\n",
              "  </button>\n",
              "\n",
              "<style>\n",
              "  .colab-df-quickchart {\n",
              "      --bg-color: #E8F0FE;\n",
              "      --fill-color: #1967D2;\n",
              "      --hover-bg-color: #E2EBFA;\n",
              "      --hover-fill-color: #174EA6;\n",
              "      --disabled-fill-color: #AAA;\n",
              "      --disabled-bg-color: #DDD;\n",
              "  }\n",
              "\n",
              "  [theme=dark] .colab-df-quickchart {\n",
              "      --bg-color: #3B4455;\n",
              "      --fill-color: #D2E3FC;\n",
              "      --hover-bg-color: #434B5C;\n",
              "      --hover-fill-color: #FFFFFF;\n",
              "      --disabled-bg-color: #3B4455;\n",
              "      --disabled-fill-color: #666;\n",
              "  }\n",
              "\n",
              "  .colab-df-quickchart {\n",
              "    background-color: var(--bg-color);\n",
              "    border: none;\n",
              "    border-radius: 50%;\n",
              "    cursor: pointer;\n",
              "    display: none;\n",
              "    fill: var(--fill-color);\n",
              "    height: 32px;\n",
              "    padding: 0;\n",
              "    width: 32px;\n",
              "  }\n",
              "\n",
              "  .colab-df-quickchart:hover {\n",
              "    background-color: var(--hover-bg-color);\n",
              "    box-shadow: 0 1px 2px rgba(60, 64, 67, 0.3), 0 1px 3px 1px rgba(60, 64, 67, 0.15);\n",
              "    fill: var(--button-hover-fill-color);\n",
              "  }\n",
              "\n",
              "  .colab-df-quickchart-complete:disabled,\n",
              "  .colab-df-quickchart-complete:disabled:hover {\n",
              "    background-color: var(--disabled-bg-color);\n",
              "    fill: var(--disabled-fill-color);\n",
              "    box-shadow: none;\n",
              "  }\n",
              "\n",
              "  .colab-df-spinner {\n",
              "    border: 2px solid var(--fill-color);\n",
              "    border-color: transparent;\n",
              "    border-bottom-color: var(--fill-color);\n",
              "    animation:\n",
              "      spin 1s steps(1) infinite;\n",
              "  }\n",
              "\n",
              "  @keyframes spin {\n",
              "    0% {\n",
              "      border-color: transparent;\n",
              "      border-bottom-color: var(--fill-color);\n",
              "      border-left-color: var(--fill-color);\n",
              "    }\n",
              "    20% {\n",
              "      border-color: transparent;\n",
              "      border-left-color: var(--fill-color);\n",
              "      border-top-color: var(--fill-color);\n",
              "    }\n",
              "    30% {\n",
              "      border-color: transparent;\n",
              "      border-left-color: var(--fill-color);\n",
              "      border-top-color: var(--fill-color);\n",
              "      border-right-color: var(--fill-color);\n",
              "    }\n",
              "    40% {\n",
              "      border-color: transparent;\n",
              "      border-right-color: var(--fill-color);\n",
              "      border-top-color: var(--fill-color);\n",
              "    }\n",
              "    60% {\n",
              "      border-color: transparent;\n",
              "      border-right-color: var(--fill-color);\n",
              "    }\n",
              "    80% {\n",
              "      border-color: transparent;\n",
              "      border-right-color: var(--fill-color);\n",
              "      border-bottom-color: var(--fill-color);\n",
              "    }\n",
              "    90% {\n",
              "      border-color: transparent;\n",
              "      border-bottom-color: var(--fill-color);\n",
              "    }\n",
              "  }\n",
              "</style>\n",
              "\n",
              "  <script>\n",
              "    async function quickchart(key) {\n",
              "      const quickchartButtonEl =\n",
              "        document.querySelector('#' + key + ' button');\n",
              "      quickchartButtonEl.disabled = true;  // To prevent multiple clicks.\n",
              "      quickchartButtonEl.classList.add('colab-df-spinner');\n",
              "      try {\n",
              "        const charts = await google.colab.kernel.invokeFunction(\n",
              "            'suggestCharts', [key], {});\n",
              "      } catch (error) {\n",
              "        console.error('Error during call to suggestCharts:', error);\n",
              "      }\n",
              "      quickchartButtonEl.classList.remove('colab-df-spinner');\n",
              "      quickchartButtonEl.classList.add('colab-df-quickchart-complete');\n",
              "    }\n",
              "    (() => {\n",
              "      let quickchartButtonEl =\n",
              "        document.querySelector('#df-de200811-acec-413e-a91a-70e729d0574a button');\n",
              "      quickchartButtonEl.style.display =\n",
              "        google.colab.kernel.accessAllowed ? 'block' : 'none';\n",
              "    })();\n",
              "  </script>\n",
              "</div>\n",
              "\n",
              "    </div>\n",
              "  </div>\n"
            ],
            "application/vnd.google.colaboratory.intrinsic+json": {
              "type": "dataframe",
              "repr_error": "0"
            }
          },
          "metadata": {},
          "execution_count": 174
        }
      ]
    },
    {
      "cell_type": "markdown",
      "source": [
        "##### Secuencias con más losses\n",
        "\n"
      ],
      "metadata": {
        "id": "2XqDhhSVziDg"
      }
    },
    {
      "cell_type": "markdown",
      "source": [
        "De cara a trabajar a nivel de frase, también se podrían recuperar las frases que tienen una ´loss´ mayor, que son aquellas que el modelo ha tenido más dificultad para extraer entidades con seguridad."
      ],
      "metadata": {
        "id": "xkviv35QnIjx"
      }
    },
    {
      "cell_type": "markdown",
      "source": [
        "Para calculamos el loss total para cada frase como la suma de las loss de cada unos de los tokens que la componen y generamos el campo ´text´ para mostrar resultados fácilmente:"
      ],
      "metadata": {
        "id": "tWGxme3NoCZV"
      }
    },
    {
      "cell_type": "code",
      "source": [
        "# Calculamos la loss total.\n",
        "valid_df[\"total_loss\"] = valid_df[\"loss\"].apply(sum)\n",
        "\n",
        "# Generamos el texto\n",
        "def reconstruct_text_from_input_ids(input_ids, labels, tokenizer):\n",
        "    tokens = tokenizer.convert_ids_to_tokens(input_ids)\n",
        "    words = []\n",
        "    current_word = \"\"\n",
        "    for i, (token, label) in enumerate(zip(tokens, labels)):\n",
        "        if token in [\"[CLS]\", \"[SEP]\"]:\n",
        "            continue  # ignoramos tokens especiales\n",
        "\n",
        "        # BERT-style: ## indica subtoken\n",
        "        if token.startswith(\"##\"):\n",
        "            current_word += token[2:]\n",
        "\n",
        "        # RoBERTa-style: Ġ indica inicio de palabra\n",
        "        elif token.startswith(\"Ġ\"):\n",
        "            if current_word:\n",
        "                words.append(current_word)\n",
        "            current_word = token[1:]\n",
        "\n",
        "        # Token sin prefijos: nuevo token\n",
        "        else:\n",
        "            if current_word:\n",
        "                words.append(current_word)\n",
        "            current_word = token\n",
        "\n",
        "    if current_word:\n",
        "        words.append(current_word)\n",
        "\n",
        "    return \" \".join(words)\n",
        "\n",
        "\n",
        "valid_df[\"text\"] = valid_df.apply(\n",
        "    lambda row: reconstruct_text_from_input_ids(row[\"input_ids\"], row[\"labels\"], tokenizer),\n",
        "    axis=1\n",
        ")# Cojemos el top-10 y los mostramos en pantalla:"
      ],
      "metadata": {
        "id": "n4U3wP8voM7_"
      },
      "execution_count": null,
      "outputs": []
    },
    {
      "cell_type": "markdown",
      "source": [
        "Vamos a coger el top-10 de frases peor predichas:"
      ],
      "metadata": {
        "id": "0IzACyFGo25a"
      }
    },
    {
      "cell_type": "code",
      "source": [
        "df_10worst = valid_df.sort_values(by=\"total_loss\", ascending=False)[0:10]"
      ],
      "metadata": {
        "id": "HRrIPsVto6l6"
      },
      "execution_count": null,
      "outputs": []
    },
    {
      "cell_type": "markdown",
      "source": [
        "Mostramos en pantalla esas frases."
      ],
      "metadata": {
        "id": "zP8l9tAhHAAx"
      }
    },
    {
      "cell_type": "code",
      "source": [
        "import gradio as gr\n",
        "from transformers import pipeline\n",
        "import spacy\n",
        "from spacy.tokens import Doc, Span\n",
        "from spacy import displacy\n",
        "\n",
        "ner_pipeline  = pipeline(\"token-classification\", model=\"luisgasco/model_ner_master\", aggregation_strategy = \"simple\")\n",
        "# Carga vocabulario vacío\n",
        "nlp = spacy.blank(\"en\")\n",
        "\n",
        "def render_entities(text):\n",
        "    # Obtener predicciones del modelo\n",
        "    preds = ner_pipeline(text)\n",
        "\n",
        "    ents = []\n",
        "    for ent in preds:\n",
        "        ents.append({\n",
        "            \"start\": int(ent[\"start\"]),\n",
        "            \"end\": int(ent[\"end\"]),\n",
        "            \"label\": str(ent[\"entity_group\"])\n",
        "        })\n",
        "\n",
        "    # Estructura para displacy (modo manual)\n",
        "    ex = {\n",
        "        \"text\": text,\n",
        "        \"ents\": ents,\n",
        "        \"title\": None\n",
        "    }\n",
        "\n",
        "    # Renderizar con displaCy sin usar spaCy Doc\n",
        "    html = displacy.render(ex, style=\"ent\", manual=True, jupyter=True)\n",
        "\n",
        "    return f\"<div style='padding:1em;font-size:1.1em'>{html}</div>\"\n",
        "for texto, loss in zip(df_10worst.text.to_list(), df_10worst.total_loss.to_list()):\n",
        "  print(\"Frase con loss {}:\".format(loss))\n",
        "  render_entities(texto)"
      ],
      "metadata": {
        "colab": {
          "base_uri": "https://localhost:8080/"
        },
        "id": "rhWMV3tRoSOD",
        "outputId": "42efcb10-d447-4eb8-9bb3-a0e2df129852"
      },
      "execution_count": null,
      "outputs": [
        {
          "output_type": "stream",
          "name": "stdout",
          "text": [
            "Frase con loss 95.56111145019531:\n"
          ]
        },
        {
          "output_type": "display_data",
          "data": {
            "text/plain": [
              "<IPython.core.display.HTML object>"
            ],
            "text/html": [
              "<span class=\"tex2jax_ignore\"><div class=\"entities\" style=\"line-height: 2.5; direction: ltr\">This post doc position will research software arch itect ures for mobile ub iquit ous and wear able comput ing and will Âķ make a technical review of phys iological sensors ( EE G Heart rate G SR ) to be used for the Âĳ in - the - wild ÂĴ platform Âķ particip ate in the\n",
              "<mark class=\"entity\" style=\"background: #ddd; padding: 0.45em 0.6em; margin: 0 0.25em; line-height: 1; border-radius: 0.35em;\">\n",
              "     design of exper iments\n",
              "    <span style=\"font-size: 0.8em; font-weight: bold; line-height: 1; border-radius: 0.35em; vertical-align: middle; margin-left: 0.5rem\">SKILL</span>\n",
              "</mark>\n",
              " and data analysis appro ach Âķ analy se\n",
              "<mark class=\"entity\" style=\"background: #ddd; padding: 0.45em 0.6em; margin: 0 0.25em; line-height: 1; border-radius: 0.35em;\">\n",
              "     data\n",
              "    <span style=\"font-size: 0.8em; font-weight: bold; line-height: 1; border-radius: 0.35em; vertical-align: middle; margin-left: 0.5rem\">SKILL</span>\n",
              "</mark>\n",
              " from two Âĳ in - the - wild ÂĴ exper iments with special emphasis on\n",
              "<mark class=\"entity\" style=\"background: #ddd; padding: 0.45em 0.6em; margin: 0 0.25em; line-height: 1; border-radius: 0.35em;\">\n",
              "     handling missing / no\n",
              "    <span style=\"font-size: 0.8em; font-weight: bold; line-height: 1; border-radius: 0.35em; vertical-align: middle; margin-left: 0.5rem\">SKILL</span>\n",
              "</mark>\n",
              " is\n",
              "<mark class=\"entity\" style=\"background: #ddd; padding: 0.45em 0.6em; margin: 0 0.25em; line-height: 1; border-radius: 0.35em;\">\n",
              "    y data\n",
              "    <span style=\"font-size: 0.8em; font-weight: bold; line-height: 1; border-radius: 0.35em; vertical-align: middle; margin-left: 0.5rem\">SKILL</span>\n",
              "</mark>\n",
              " and multi - modal integration Âķ fac ilit ate technology transfer to the company Âķ\n",
              "<mark class=\"entity\" style=\"background: #ddd; padding: 0.45em 0.6em; margin: 0 0.25em; line-height: 1; border-radius: 0.35em;\">\n",
              "     document\n",
              "    <span style=\"font-size: 0.8em; font-weight: bold; line-height: 1; border-radius: 0.35em; vertical-align: middle; margin-left: 0.5rem\">SKILL</span>\n",
              "</mark>\n",
              " and dis semin ate\n",
              "<mark class=\"entity\" style=\"background: #ddd; padding: 0.45em 0.6em; margin: 0 0.25em; line-height: 1; border-radius: 0.35em;\">\n",
              "     research results\n",
              "    <span style=\"font-size: 0.8em; font-weight: bold; line-height: 1; border-radius: 0.35em; vertical-align: middle; margin-left: 0.5rem\">SKILL</span>\n",
              "</mark>\n",
              " through technical reports and scientific papers .</div></span>"
            ]
          },
          "metadata": {}
        },
        {
          "output_type": "stream",
          "name": "stdout",
          "text": [
            "Frase con loss 90.4747314453125:\n"
          ]
        },
        {
          "output_type": "display_data",
          "data": {
            "text/plain": [
              "<IPython.core.display.HTML object>"
            ],
            "text/html": [
              "<span class=\"tex2jax_ignore\"><div class=\"entities\" style=\"line-height: 2.5; direction: ltr\">Research methods should mostly be in the form of quant itative ( prim arily secondary ) data collection and analysis com plemented with framework and method ology development and qual itative data collection and analysis .</div></span>"
            ]
          },
          "metadata": {}
        },
        {
          "output_type": "stream",
          "name": "stdout",
          "text": [
            "Frase con loss 90.27406311035156:\n"
          ]
        },
        {
          "output_type": "display_data",
          "data": {
            "text/plain": [
              "<IPython.core.display.HTML object>"
            ],
            "text/html": [
              "<span class=\"tex2jax_ignore\"><div class=\"entities\" style=\"line-height: 2.5; direction: ltr\">The c andidate will prim arily focus on :\n",
              "<mark class=\"entity\" style=\"background: #ddd; padding: 0.45em 0.6em; margin: 0 0.25em; line-height: 1; border-radius: 0.35em;\">\n",
              "     Develop\n",
              "    <span style=\"font-size: 0.8em; font-weight: bold; line-height: 1; border-radius: 0.35em; vertical-align: middle; margin-left: 0.5rem\">SKILL</span>\n",
              "</mark>\n",
              " and\n",
              "<mark class=\"entity\" style=\"background: #ddd; padding: 0.45em 0.6em; margin: 0 0.25em; line-height: 1; border-radius: 0.35em;\">\n",
              "     apply a\n",
              "    <span style=\"font-size: 0.8em; font-weight: bold; line-height: 1; border-radius: 0.35em; vertical-align: middle; margin-left: 0.5rem\">SKILL</span>\n",
              "</mark>\n",
              " quant\n",
              "<mark class=\"entity\" style=\"background: #ddd; padding: 0.45em 0.6em; margin: 0 0.25em; line-height: 1; border-radius: 0.35em;\">\n",
              "     itative\n",
              "    <span style=\"font-size: 0.8em; font-weight: bold; line-height: 1; border-radius: 0.35em; vertical-align: middle; margin-left: 0.5rem\">SKILL</span>\n",
              "</mark>\n",
              " prote om\n",
              "<mark class=\"entity\" style=\"background: #ddd; padding: 0.45em 0.6em; margin: 0 0.25em; line-height: 1; border-radius: 0.35em;\">\n",
              "    ics\n",
              "    <span style=\"font-size: 0.8em; font-weight: bold; line-height: 1; border-radius: 0.35em; vertical-align: middle; margin-left: 0.5rem\">SKILL</span>\n",
              "</mark>\n",
              " screen for un biased ident ification and dynamic analysis of ub iquit in - like molecules such as SUM O in response to cellular st ressor in cancer cell lines .</div></span>"
            ]
          },
          "metadata": {}
        },
        {
          "output_type": "stream",
          "name": "stdout",
          "text": [
            "Frase con loss 73.05766296386719:\n"
          ]
        },
        {
          "output_type": "display_data",
          "data": {
            "text/plain": [
              "<IPython.core.display.HTML object>"
            ],
            "text/html": [
              "<span class=\"tex2jax_ignore\"><div class=\"entities\" style=\"line-height: 2.5; direction: ltr\">Exper ience working in the global south ( &lt; LOC ATION &gt; &lt; LOC ATION &gt; &lt; LOC ATION &gt; .</div></span>"
            ]
          },
          "metadata": {}
        },
        {
          "output_type": "stream",
          "name": "stdout",
          "text": [
            "Frase con loss 64.80673217773438:\n"
          ]
        },
        {
          "output_type": "display_data",
          "data": {
            "text/plain": [
              "<IPython.core.display.HTML object>"
            ],
            "text/html": [
              "<span class=\"tex2jax_ignore\"><div class=\"entities\" style=\"line-height: 2.5; direction: ltr\">He or she will also be an external face for small scale enter prise inn ovation at &lt; OR GAN IZ ATION &gt; .</div></span>"
            ]
          },
          "metadata": {}
        },
        {
          "output_type": "stream",
          "name": "stdout",
          "text": [
            "Frase con loss 63.24270248413086:\n"
          ]
        },
        {
          "output_type": "display_data",
          "data": {
            "text/plain": [
              "<IPython.core.display.HTML object>"
            ],
            "text/html": [
              "<span class=\"tex2jax_ignore\"><div class=\"entities\" style=\"line-height: 2.5; direction: ltr\">ARM C ortex - A / M ) as well as with the integration of d rivers to Linux in the hard ware and upper software layers ( e . g .</div></span>"
            ]
          },
          "metadata": {}
        },
        {
          "output_type": "stream",
          "name": "stdout",
          "text": [
            "Frase con loss 62.028404235839844:\n"
          ]
        },
        {
          "output_type": "display_data",
          "data": {
            "text/plain": [
              "<IPython.core.display.HTML object>"
            ],
            "text/html": [
              "<span class=\"tex2jax_ignore\"><div class=\"entities\" style=\"line-height: 2.5; direction: ltr\">Your primary respons ib ili ÂŃ ties will be to : -\n",
              "<mark class=\"entity\" style=\"background: #ddd; padding: 0.45em 0.6em; margin: 0 0.25em; line-height: 1; border-radius: 0.35em;\">\n",
              "     Prov ide technical support\n",
              "    <span style=\"font-size: 0.8em; font-weight: bold; line-height: 1; border-radius: 0.35em; vertical-align: middle; margin-left: 0.5rem\">SKILL</span>\n",
              "</mark>\n",
              " to our custom ers and our sales organization -\n",
              "<mark class=\"entity\" style=\"background: #ddd; padding: 0.45em 0.6em; margin: 0 0.25em; line-height: 1; border-radius: 0.35em;\">\n",
              "     Drive str ateg ic customer development projects\n",
              "    <span style=\"font-size: 0.8em; font-weight: bold; line-height: 1; border-radius: 0.35em; vertical-align: middle; margin-left: 0.5rem\">SKILL</span>\n",
              "</mark>\n",
              " -\n",
              "<mark class=\"entity\" style=\"background: #ddd; padding: 0.45em 0.6em; margin: 0 0.25em; line-height: 1; border-radius: 0.35em;\">\n",
              "     Drive str ateg ic internal projects\n",
              "    <span style=\"font-size: 0.8em; font-weight: bold; line-height: 1; border-radius: 0.35em; vertical-align: middle; margin-left: 0.5rem\">SKILL</span>\n",
              "</mark>\n",
              " main ly in the area of pow ders mil k and cre ams - Particip ate in\n",
              "<mark class=\"entity\" style=\"background: #ddd; padding: 0.45em 0.6em; margin: 0 0.25em; line-height: 1; border-radius: 0.35em;\">\n",
              "     launch\n",
              "    <span style=\"font-size: 0.8em; font-weight: bold; line-height: 1; border-radius: 0.35em; vertical-align: middle; margin-left: 0.5rem\">SKILL</span>\n",
              "</mark>\n",
              " ing\n",
              "<mark class=\"entity\" style=\"background: #ddd; padding: 0.45em 0.6em; margin: 0 0.25em; line-height: 1; border-radius: 0.35em;\">\n",
              "     new s\n",
              "    <span style=\"font-size: 0.8em; font-weight: bold; line-height: 1; border-radius: 0.35em; vertical-align: middle; margin-left: 0.5rem\">SKILL</span>\n",
              "</mark>\n",
              " olutions and ing red i ÂŃ ents in close co operation with other parts of our organization -\n",
              "<mark class=\"entity\" style=\"background: #ddd; padding: 0.45em 0.6em; margin: 0 0.25em; line-height: 1; border-radius: 0.35em;\">\n",
              "     Contin\n",
              "    <span style=\"font-size: 0.8em; font-weight: bold; line-height: 1; border-radius: 0.35em; vertical-align: middle; margin-left: 0.5rem\">SKILL</span>\n",
              "</mark>\n",
              " uously\n",
              "<mark class=\"entity\" style=\"background: #ddd; padding: 0.45em 0.6em; margin: 0 0.25em; line-height: 1; border-radius: 0.35em;\">\n",
              "     build technical\n",
              "    <span style=\"font-size: 0.8em; font-weight: bold; line-height: 1; border-radius: 0.35em; vertical-align: middle; margin-left: 0.5rem\">SKILL</span>\n",
              "</mark>\n",
              " know - how and com ÂŃ pet encies within the area Qual ifications</div></span>"
            ]
          },
          "metadata": {}
        },
        {
          "output_type": "stream",
          "name": "stdout",
          "text": [
            "Frase con loss 59.56953430175781:\n"
          ]
        },
        {
          "output_type": "display_data",
          "data": {
            "text/plain": [
              "<IPython.core.display.HTML object>"
            ],
            "text/html": [
              "<span class=\"tex2jax_ignore\"><div class=\"entities\" style=\"line-height: 2.5; direction: ltr\">âĺ ŀ You want to get inv olved in a project that is still young ;</div></span>"
            ]
          },
          "metadata": {}
        },
        {
          "output_type": "stream",
          "name": "stdout",
          "text": [
            "Frase con loss 59.04324722290039:\n"
          ]
        },
        {
          "output_type": "display_data",
          "data": {
            "text/plain": [
              "<IPython.core.display.HTML object>"
            ],
            "text/html": [
              "<span class=\"tex2jax_ignore\"><div class=\"entities\" style=\"line-height: 2.5; direction: ltr\">Over - all it is your respons ibility to\n",
              "<mark class=\"entity\" style=\"background: #ddd; padding: 0.45em 0.6em; margin: 0 0.25em; line-height: 1; border-radius: 0.35em;\">\n",
              "     ensure an efficient process\n",
              "    <span style=\"font-size: 0.8em; font-weight: bold; line-height: 1; border-radius: 0.35em; vertical-align: middle; margin-left: 0.5rem\">SKILL</span>\n",
              "</mark>\n",
              " and you have 100 % overview of project pl ans resource coord ination time sched ules and project econom y .</div></span>"
            ]
          },
          "metadata": {}
        },
        {
          "output_type": "stream",
          "name": "stdout",
          "text": [
            "Frase con loss 53.338993072509766:\n"
          ]
        },
        {
          "output_type": "display_data",
          "data": {
            "text/plain": [
              "<IPython.core.display.HTML object>"
            ],
            "text/html": [
              "<span class=\"tex2jax_ignore\"><div class=\"entities\" style=\"line-height: 2.5; direction: ltr\">If you are looking for a\n",
              "<mark class=\"entity\" style=\"background: #ddd; padding: 0.45em 0.6em; margin: 0 0.25em; line-height: 1; border-radius: 0.35em;\">\n",
              "     sense\n",
              "    <span style=\"font-size: 0.8em; font-weight: bold; line-height: 1; border-radius: 0.35em; vertical-align: middle; margin-left: 0.5rem\">SKILL</span>\n",
              "</mark>\n",
              " of purpose and want to make a real impact then we want to talk to you at &lt; OR GAN IZ ATION &gt; .</div></span>"
            ]
          },
          "metadata": {}
        }
      ]
    },
    {
      "cell_type": "markdown",
      "source": [
        "###### Representacion más visual"
      ],
      "metadata": {
        "id": "Le6J0FhXHPRK"
      }
    },
    {
      "cell_type": "markdown",
      "source": [
        "Es muy difícil analizar, por ese motivo vamos a generar una función para visualizar los resultados de forma más atractiva y ver como se han detectado las entidades las frases."
      ],
      "metadata": {
        "id": "h6dNQJQiHDBa"
      }
    },
    {
      "cell_type": "code",
      "source": [
        "import spacy\n",
        "from spacy import displacy\n",
        "from transformers import AutoTokenizer, AutoModelForTokenClassification, pipeline\n",
        "\n",
        "ner_map = {'0': '0',\n",
        "           'B-SKILL': 'B-SKILL',\n",
        "           'I-SKILL': 'I-SKILL'}\n",
        "\n",
        "options = {\"ents\": [\"SKILL\"],\n",
        "           \"colors\": {\"SKILL\": \"lightblue\"}}\n",
        "\n",
        "tokenizer = AutoTokenizer.from_pretrained(\"luisgasco/model_ner_master\")\n",
        "model = AutoModelForTokenClassification.from_pretrained(\"luisgasco/model_ner_master\")\n",
        "ner_pipeline = pipeline(task='ner', model=model, tokenizer = tokenizer)\n",
        "nlp = spacy.blank(\"es\")\n",
        "\n",
        "def apply_ner(text: str):\n",
        "    classifications = ner_pipeline(text)\n",
        "\n",
        "    entities = []\n",
        "    for i in range(len(classifications)):\n",
        "        if classifications[i]['entity'] != 0:\n",
        "            if ner_map[classifications[i]['entity']][0] == 'B':\n",
        "                j = i + 1\n",
        "                while j < len(classifications) and ner_map[classifications[j]['entity']][0] == 'I':\n",
        "                    j += 1\n",
        "                entities.append((ner_map[classifications[i]['entity']].split('-')[1], classifications[i]['start'],\n",
        "                                 classifications[j - 1]['end']))\n",
        "    doc = nlp(text)\n",
        "\n",
        "    ents = []\n",
        "    for ee in entities:\n",
        "        ents.append(doc.char_span(ee[1], ee[2], ee[0]))\n",
        "    doc.ents = ents\n",
        "\n",
        "    displacy_html = displacy.render(doc, style=\"ent\", options=options,jupyter=True)\n",
        "    return displacy_html"
      ],
      "metadata": {
        "id": "Dq1FzMRLqnGA"
      },
      "execution_count": null,
      "outputs": []
    },
    {
      "cell_type": "markdown",
      "source": [
        "Utilizando la función anterior e iterando, podemos visualizar los resultados de forma más visual, identificando que algunos de los errores pueden ser debidos a spans muy largos, falsos positivos o otro tipo de causas.\n",
        "\n",
        "> Hay espacios de más entre términos porque no ha gestionado la unión de las subwords."
      ],
      "metadata": {
        "id": "mJU8VOJItbMI"
      }
    },
    {
      "cell_type": "code",
      "source": [
        "from IPython.core.display import display, HTML\n",
        "\n",
        "for texto, loss in zip(df_10worst.text.to_list(), df_10worst.total_loss.to_list()):\n",
        "  display(HTML('<hr class=\"rounded\">'))\n",
        "  display(HTML('<a> Frase con loss {} </a>'.format(loss)))\n",
        "  print(texto)\n",
        "  render_entities(texto)"
      ],
      "metadata": {
        "id": "fOZ7uyZ7HVGR"
      },
      "execution_count": null,
      "outputs": []
    },
    {
      "cell_type": "markdown",
      "source": [
        "## Reutilización"
      ],
      "metadata": {
        "id": "1zPwfi8LDoFY"
      }
    },
    {
      "cell_type": "markdown",
      "source": [
        "Una vez que hemos entrenado y guardado un modelo NER, el uso de `pipeline` nos ofrece una forma **rápida, limpia y eficiente** de reutilizarlo sin tener que reconstruir todo el flujo manualmente, incluyendo la unión de etietas B-I en un único \"entity_group\".\n",
        "\n"
      ],
      "metadata": {
        "id": "v2ZijfqqEHUJ"
      }
    },
    {
      "cell_type": "markdown",
      "source": [
        "La etiqueta de aggregation_strategy puede ser: **\"max\", \"simple\",\"first\",\"avarage\" y None** (esta ultima devuelve las etiquetas B-I)"
      ],
      "metadata": {
        "id": "fqdVsM-atuXZ"
      }
    },
    {
      "cell_type": "code",
      "source": [
        "from transformers import pipeline\n",
        "classifier = pipeline(\"token-classification\", model=\"luisgasco/model_ner_master\", aggregation_strategy = \"simple\")\n",
        "text = \"You are good communicating things and in managing teams\"\n",
        "predictions_example = classifier(text)"
      ],
      "metadata": {
        "id": "PYW8fNdTrUSL"
      },
      "execution_count": null,
      "outputs": []
    },
    {
      "cell_type": "code",
      "source": [
        "predictions_example"
      ],
      "metadata": {
        "id": "iqvjl4FStknW"
      },
      "execution_count": null,
      "outputs": []
    },
    {
      "cell_type": "markdown",
      "source": [
        "De cara a mejorar la interfaz y la interacción con el modelo, podemos utilizar una aplicación web [gradio](https://www.gradio.app/) para mostrar la salida del modelo de una forma más atractiva."
      ],
      "metadata": {
        "id": "1f3Ds3gwDpgF"
      }
    },
    {
      "cell_type": "code",
      "source": [
        "import gradio as gr\n",
        "from transformers import pipeline\n",
        "import spacy\n",
        "from spacy.tokens import Doc, Span\n",
        "from spacy import displacy\n",
        "\n",
        "ner_pipeline  = pipeline(\"token-classification\", model=\"luisgasco/model_ner_master\", aggregation_strategy = \"simple\")\n",
        "# Carga vocabulario vacío\n",
        "nlp = spacy.blank(\"en\")\n",
        "\n",
        "def render_entities(text):\n",
        "    # Obtener predicciones del modelo\n",
        "    preds = ner_pipeline(text)\n",
        "\n",
        "    ents = []\n",
        "    for ent in preds:\n",
        "        ents.append({\n",
        "            \"start\": int(ent[\"start\"]),\n",
        "            \"end\": int(ent[\"end\"]),\n",
        "            \"label\": str(ent[\"entity_group\"])\n",
        "        })\n",
        "\n",
        "    # Estructura para displacy (modo manual)\n",
        "    ex = {\n",
        "        \"text\": text,\n",
        "        \"ents\": ents,\n",
        "        \"title\": None\n",
        "    }\n",
        "\n",
        "    # Renderizar con displaCy sin usar spaCy Doc\n",
        "    html = displacy.render(ex, style=\"ent\", manual=True, jupyter=False)\n",
        "\n",
        "    return f\"<div style='padding:1em;font-size:1.1em'>{html}</div>\"\n",
        "\n",
        "# Gradio Interface\n",
        "gr.Interface(\n",
        "    fn=render_entities,\n",
        "    inputs=gr.Textbox(lines=4, placeholder=\"You are good communicating things and in managing teams\"),\n",
        "    outputs=gr.HTML(label=\"Entidades reconocidas\"),\n",
        "    title=\"🧠 Token Classification Visualizer (displaCy + Gradio)\",\n",
        "    description=\"Visualiza las entidades reconocidas por un modelo Hugging Face con el estilo de displaCy.\"\n",
        ").launch()"
      ],
      "metadata": {
        "id": "XgsTlsa_r7kO"
      },
      "execution_count": null,
      "outputs": []
    }
  ]
}