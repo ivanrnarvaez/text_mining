{
  "nbformat": 4,
  "nbformat_minor": 0,
  "metadata": {
    "colab": {
      "provenance": [],
      "include_colab_link": true
    },
    "kernelspec": {
      "name": "python3",
      "display_name": "Python 3"
    }
  },
  "cells": [
    {
      "cell_type": "markdown",
      "metadata": {
        "id": "view-in-github",
        "colab_type": "text"
      },
      "source": [
        "<a href=\"https://colab.research.google.com/github/ivanrnarvaez/text_mining/blob/main/1_TecnicasNLP_master_alumnos.ipynb\" target=\"_parent\"><img src=\"https://colab.research.google.com/assets/colab-badge.svg\" alt=\"Open In Colab\"/></a>"
      ]
    },
    {
      "cell_type": "markdown",
      "metadata": {
        "id": "G_RKycgu-3GD"
      },
      "source": [
        "# Técnicas Básicas de NLP en el Text Mining\n",
        "\n",
        "En el ámbito del Text Mining (TM) y el Procesamiento del Lenguaje Natural (NLP), es común utilizar tanto librerías generales de Data Mining, como scikit-learn o TensorFlow, como también herramientas especializadas diseñadas específicamente para trabajar con texto.\n",
        "\n",
        "Estas librerías específicas permiten realizar tareas clave como el preprocesamiento de texto, la transformación de texto en vectores numéricos, y la implementación de modelos de NLP en producción.\n",
        "\n",
        "En este notebook, presentaremos dos librerías populares para el trabajo con texto, explorando algunas de sus funcionalidades principales y aplicando técnicas básicas de procesamiento del lenguaje natural utilizando dichas herramientas."
      ]
    },
    {
      "cell_type": "markdown",
      "metadata": {
        "id": "lkKFmU6Z_Nuv"
      },
      "source": [
        "En primer lugar, instalaremos os las librerías de programación que utilizaremos en este notebook:\n",
        "- [**NLTK**](https://www.nltk.org//): NLTK es una de las librerías principales para trabajar con textos que fue creada por la Universidad de Pennsylvania en el año 2001. Aunque su uso principal ha estado unido  a entornos de investigación y educación, las facilidades en su uso y sus características la convierten en una de las librerías con un mayor número de recursos de aprendizaje como libros, foros o tutoriales. Contiene una gran cantidad de conjuntos de datos típicos para el aprendizaje de NLP y es muy utilizada en tareas para el preprocesado de texto antes de introducirlo en algoritmos de Inteligencia Artificial.\n",
        "\n",
        "  Sólo lo utilizaremos en este tutorial para mostrar como tokenizar y mostrar los stopwords."
      ]
    },
    {
      "cell_type": "code",
      "metadata": {
        "id": "YbD6Enj5_M_a",
        "collapsed": true
      },
      "source": [
        "# Instalamos nltk\n",
        "!pip install nltk\n",
        "# Importamos\n",
        "import nltk\n",
        "# Complementos de la librería necesarios para su funcionamiento.\n",
        "# Todas las opciones aquí https://www.nltk.org/nltk_data/\n",
        "nltk.download('punkt')\n",
        "nltk.download('stopwords')\n",
        "nltk.download('punkt_tab')"
      ],
      "execution_count": null,
      "outputs": []
    },
    {
      "cell_type": "markdown",
      "source": [
        "- [**Spacy**](https://spacy.io/): A diferencia de NLTK, que surgió y fue diseñada para ser utilizada en entornos de investigación, Spacy se centra en proporcionar herramientas que puedan ser incorporadas en entornos de producción con facilidad. De hecho, su fácil interconexión con otras librerías del mundo de la ciencia de datos, junto a la incorporación de modelos pre-entrenados y su facilidad para trabajar con múltiples idiomas, la han convertido en una de las librarías más usadas  en la actualidad.\n",
        "\n",
        "    Para utilizarla, descargamos la librería y los modelos pre-entretados *en_core_web_sm* y *es_core_web_sm*, modelos de preprocesado de texto en inglés y español respectivamente.\n"
      ],
      "metadata": {
        "id": "DHQmVOgz12bh"
      }
    },
    {
      "cell_type": "code",
      "source": [
        "# Instalamos textacy\n",
        "!pip install textacy\n",
        "# Instalamos spacy y uno de sus modelos\n",
        "!pip install spacy\n",
        "# Descargamos modelos pre-entrenados de spacy.\n",
        "!python -m spacy download en_core_web_sm\n",
        "!python -m spacy download es_core_news_sm"
      ],
      "metadata": {
        "id": "tZHsQNR21c13",
        "collapsed": true
      },
      "execution_count": null,
      "outputs": []
    },
    {
      "cell_type": "markdown",
      "source": [
        "Descargamos el conjunto de datos con el que trabajaremos en este notebook:"
      ],
      "metadata": {
        "id": "O6HgfclUcsGh"
      }
    },
    {
      "cell_type": "code",
      "source": [
        "# Descargamos datos del repositorio de github\n",
        "!wget \"https://github.com/luisgasco/ntic_master_datos/raw/main/datasets/datos_twitter_master.tsv\""
      ],
      "metadata": {
        "collapsed": true,
        "id": "qVdhMNDPcs3b"
      },
      "execution_count": null,
      "outputs": []
    },
    {
      "cell_type": "code",
      "source": [
        "# Librerías tpipicas\n",
        "import pandas as pd"
      ],
      "metadata": {
        "id": "OWl6P7LC1fk6"
      },
      "execution_count": null,
      "outputs": []
    },
    {
      "cell_type": "markdown",
      "metadata": {
        "id": "wCSPqbcfADMU"
      },
      "source": [
        "\n",
        "## Corpus y corpora\n",
        "\n"
      ]
    },
    {
      "cell_type": "markdown",
      "metadata": {
        "id": "MPOvW4j6J2k9"
      },
      "source": [
        "Todo proceso de análisis textual comienza con un conjunto de documentos, comúnmente denominado **corpus** (o *corpora*, en plural). Un corpus suele estar compuesto por texto en bruto y, en algunos casos, incluye metadatos adicionales, aunque esto no es un requisito.\n",
        "\n",
        "En este notebook trabajaremos con un corpus compuesto por mensajes publicados en la red social **Twitter**. Este conjunto de datos ya viene anotado y se encuentra distribuido en formato TSV (valores separados por tabulaciones).\n",
        "\n",
        "\n",
        "En primer lugar lo leeremos de la ruta donde se ha descargado `/content/datos_twitter_master.tsv`:\n"
      ]
    },
    {
      "cell_type": "code",
      "metadata": {
        "id": "63vDxqL1_NIQ"
      },
      "source": [
        "tweets_df = pd.read_csv(___________________, sep = \"\\t\") #'/content/datos_twitter_master.tsv'\n",
        "tweets_df.head(3)"
      ],
      "execution_count": null,
      "outputs": []
    },
    {
      "cell_type": "markdown",
      "metadata": {
        "id": "2XKCz2OkK7Dw"
      },
      "source": [
        "El dataset está compuesto por un conjunto de filas, donde **cada fila representa un documento**. A cada documento pueden asociarse uno o varios metadatos, como por ejemplo el autor, la fecha de publicación, el idioma, o etiquetas anotadas manualmente.\n",
        "\n",
        "En nuestro caso, el corpus contiene únicamente una columna de metadatos llamada `molestia`, que podría indicar una categoría o anotación del contenido. Sin embargo, en otros corpus podríamos encontrar muchos más atributos.\n",
        "\n",
        "El contenido textual de los documentos puede descomponerse en **párrafos**, **frases** o **palabras**, dependiendo del tipo de análisis que se quiera realizar. Dado que en este caso los documentos son mensajes breves (tweets), trabajaremos directamente con el texto completo de cada documento.\n"
      ]
    },
    {
      "cell_type": "markdown",
      "metadata": {
        "id": "1YjLBJyWaJx0"
      },
      "source": [
        "En primer lugar, vamos a mirar el número de tweets que contiene nuestro corpus:"
      ]
    },
    {
      "cell_type": "code",
      "metadata": {
        "id": "gAOAowZpaIgr"
      },
      "source": [
        "print(\"El corpus news_summary contiene un total de {} documentos\".format(_________________))#tweets_df.shape[0]"
      ],
      "execution_count": null,
      "outputs": []
    },
    {
      "cell_type": "markdown",
      "metadata": {
        "id": "Q4qnmYM1AEOt"
      },
      "source": [
        "## Tokenización"
      ]
    },
    {
      "cell_type": "markdown",
      "metadata": {
        "id": "8CIwmkQzaYOD"
      },
      "source": [
        "El texto bruto está compuesto por una secuencia de caracteres. Antes de su análisis los textos son divididos en fragmentos más pequeños conocidos como tokens. Un token puede ser tanto una palabra, como un símbolo de puntuación, un número o un emoticono, en el caso de estar analizando datos de redes sociales.\n",
        "\n",
        "El proceso de división del texto en tokens se llama tokenización. A continuación, veremos cómo realizar la tokenización de un único documento del corpus utilizando dos librerías muy utilizadas en NLP: spaCy y NLTK."
      ]
    },
    {
      "cell_type": "markdown",
      "source": [
        "Para los ejemplos trabajaremos con el tweet 5 del corpus (índice 4):"
      ],
      "metadata": {
        "id": "PMSENSEeeLwj"
      }
    },
    {
      "cell_type": "code",
      "source": [
        "documento_4 = __________________________  # tweets_df.tweet_text.iloc[4]"
      ],
      "metadata": {
        "id": "p3bTY8ozeMAt"
      },
      "execution_count": null,
      "outputs": []
    },
    {
      "cell_type": "markdown",
      "metadata": {
        "id": "S5Q35k2varmO"
      },
      "source": [
        "##### ***NLTK***\n",
        "\n",
        "La función de tokenización estándar de NLTK se llama word_tokenize. Podemos ver más información dentro de la web de documentación de NLTK (dentro del módulo word_tokenize [texto del enlace](https://www.nltk.org/api/nltk.tokenize.html))\n",
        "\n",
        "\n",
        "También podemos utilizar la línea de código `?libreria.modulo.funcion` para que nos aparezca la ayuda de la función en la parte derecha de la pantalla."
      ]
    },
    {
      "cell_type": "code",
      "metadata": {
        "id": "RRtb67v8jRis"
      },
      "source": [
        "?nltk.tokenize.word_tokenize"
      ],
      "execution_count": null,
      "outputs": []
    },
    {
      "cell_type": "markdown",
      "source": [
        "En primer lugar, segmentaremos el documento en frases utilizando la función `sent_tokenize()`:"
      ],
      "metadata": {
        "id": "lYQCMwGdeo2w"
      }
    },
    {
      "cell_type": "code",
      "metadata": {
        "id": "SI4BYnwsAOMd"
      },
      "source": [
        "from nltk.tokenize import word_tokenize\n",
        "from nltk.tokenize import sent_tokenize\n",
        "# Seleccionamos el documento 5 del corpus\n",
        "print(f\"Documento: {documento_4}\")\n",
        "# Segmentar las frases de la noticia 5 (indice 4)\n",
        "sentences = ______________________________  # sent_tokenize(documento_4)"
      ],
      "execution_count": null,
      "outputs": []
    },
    {
      "cell_type": "code",
      "source": [
        "for num,sentence in enumerate(sentences):\n",
        "    print('La oración número {} es: \\n {}'.format(num, sentence))"
      ],
      "metadata": {
        "id": "4KGdFLWiHttr"
      },
      "execution_count": null,
      "outputs": []
    },
    {
      "cell_type": "markdown",
      "metadata": {
        "id": "Pb9frcvnlu88"
      },
      "source": [
        "Podemos segmentar todos los tokens de un documento de forma global, sin segmentar por oraciones previamente utilizando `word_tokenize()`:"
      ]
    },
    {
      "cell_type": "code",
      "metadata": {
        "id": "RzXvGAfylvO1"
      },
      "source": [
        "# Segmentar los tokens de la noticia 5 (indice 4)\n",
        "tokens = ______________________   # word_tokenize(documento_4)\n",
        "for num,token in enumerate(tokens):\n",
        "    print('El token {} es {} '.format(num,token))"
      ],
      "execution_count": null,
      "outputs": []
    },
    {
      "cell_type": "markdown",
      "source": [
        "Observamos que la función `word_tokenize()` **no maneja correctamente algunos caracteres especiales presentes en los tweets, como emojis, menciones, hashtags o URLs.**\n",
        "\n",
        "Para este tipo de textos, NLTK ofrece una herramienta especializada llamada `TweetTokenizer()`, diseñada específicamente para procesar el lenguaje informal y los elementos característicos de plataformas como Twitter."
      ],
      "metadata": {
        "id": "JHYbTyLp935K"
      }
    },
    {
      "cell_type": "code",
      "source": [
        "from nltk.tokenize import TweetTokenizer\n",
        "tweet_tokenizer = ________________________   # TweetTokenizer()\n",
        "tokens = tweet_tokenizer.tokenize(documento_4)\n",
        "for num,token in enumerate(tokens):\n",
        "    print('El token {} es {} '.format(num,token))"
      ],
      "metadata": {
        "id": "ZS2PCtTR94F-"
      },
      "execution_count": null,
      "outputs": []
    },
    {
      "cell_type": "markdown",
      "metadata": {
        "id": "i-QhTx6RasMt"
      },
      "source": [
        "##### ***Spacy***"
      ]
    },
    {
      "cell_type": "markdown",
      "metadata": {
        "id": "xxc32p8qmJDQ"
      },
      "source": [
        "En Spacy el funcionamiento es algo distinto:\n",
        "En primer lugar es necesario cargar un objeto spacy pre-entrenado proporcionado por los creadores de la librería (o por cualquier otro usuario que lo haya compartido).\n",
        "\n",
        "![Picture1.png](data:image/png;base64,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)\n",
        "Los modelos incorporados con Spacy se pueden encontrar en su[ web](https://spacy.io/usage/facts-figures#benchmarks). Estos objetos permiten procesar documentos completos y acceder a diferentes niveles de análisis como los tokens, PoS, o lemmas.\n",
        "\n",
        "\n",
        "En primer lugar cargamos el modelo:"
      ]
    },
    {
      "cell_type": "code",
      "metadata": {
        "id": "DZdyDrbomVUO"
      },
      "source": [
        "import spacy\n",
        "# Cargamos el modelo preentrenado con textos en inglés\n",
        "nlp= ___________________________   # spacy.load('en_core_web_sm' )"
      ],
      "execution_count": null,
      "outputs": []
    },
    {
      "cell_type": "markdown",
      "metadata": {
        "id": "xrx9Xn0KnGyl"
      },
      "source": [
        "A continuación, vamos a coger el mismo subset de noticias y vamos a aplicar el objeto nlp creado anteriormente a cada uno de los documentos"
      ]
    },
    {
      "cell_type": "code",
      "metadata": {
        "id": "qrM0ISjvmIZm"
      },
      "source": [
        "# Obtener una lista de objetos de tipo spacy procesados por spacy\n",
        "documento_4 = _____________________   # nlp(documento_4)"
      ],
      "execution_count": null,
      "outputs": []
    },
    {
      "cell_type": "markdown",
      "source": [
        "Esto devuelve un objeto de tipo `Doc` representa una secuencia procesada de texto que contiene múltiples capas de anotación lingüística. Este objeto es fundamental dentro del framework de spaCy, ya que encapsula toda la información derivada del texto procesado como sus tokens, e información relativa a estos."
      ],
      "metadata": {
        "id": "lCk5dt09G8Na"
      }
    },
    {
      "cell_type": "code",
      "metadata": {
        "id": "ONfvB5PS5E49"
      },
      "source": [
        "type(documento_4)"
      ],
      "execution_count": null,
      "outputs": []
    },
    {
      "cell_type": "markdown",
      "source": [
        "Una vez procesado, se puede obtener el número de tokens del documente simplemente usando la función `len()` dobre el objeto `Doc`."
      ],
      "metadata": {
        "id": "q886T_xbH1xf"
      }
    },
    {
      "cell_type": "code",
      "source": [
        "len(__________)  #documento_4"
      ],
      "metadata": {
        "id": "Uu-Bh_LAH3dH"
      },
      "execution_count": null,
      "outputs": []
    },
    {
      "cell_type": "markdown",
      "source": [
        "Para calcular el número de tokens de cada uno de los docmentos del corpus, podemos procesar con Spacy todos los documentos de nuestro corpus,  y posteriormente aplicar la función len() a cada objeto generado:"
      ],
      "metadata": {
        "id": "D19BknN_Hm3V"
      }
    },
    {
      "cell_type": "code",
      "source": [
        "tweets_df[\"doc_spacy\"] = tweets_df.tweet_text.apply(lambda x: ____________________ )   # nlp(x.lower())"
      ],
      "metadata": {
        "id": "Y7YDdGDnHqJU"
      },
      "execution_count": null,
      "outputs": []
    },
    {
      "cell_type": "code",
      "source": [
        "tweets_df[\"num_tokens\"] = tweets_df.doc_spacy.______________________   # map(len)"
      ],
      "metadata": {
        "id": "p9qCRDaEIQT_"
      },
      "execution_count": null,
      "outputs": []
    },
    {
      "cell_type": "markdown",
      "source": [
        "El objeto docs tiene diferentes atributos y métodos útiles. Por ejemplo, podemos acceder a cada una de las frases dle documento:"
      ],
      "metadata": {
        "id": "z_2NtXvegrNx"
      }
    },
    {
      "cell_type": "code",
      "metadata": {
        "id": "quJmRuthoEXj"
      },
      "source": [
        "# Segmentamos el texto de la noticia 4 en oraciones:\n",
        "for num,sentence in enumerate(documento_4.sents):\n",
        "    print('La oración número {} es: \\n {}'.format(num, sentence))"
      ],
      "execution_count": null,
      "outputs": []
    },
    {
      "cell_type": "markdown",
      "metadata": {
        "id": "1dPa45oUoC3i"
      },
      "source": [
        "Así como mostrar los tokens de cada una de las frases.\n"
      ]
    },
    {
      "cell_type": "code",
      "metadata": {
        "id": "CzTqVstsasWD"
      },
      "source": [
        "# Además también podemos dividir cada frase en tokens para la noticia 4:\n",
        "for num,sentence in enumerate(documento_4.sents):\n",
        "    print('La oración {} tiene {} tokens'.format(num, len(sentence)))\n",
        "    tokens=[word for word in sentence]\n",
        "    print(tokens)"
      ],
      "execution_count": null,
      "outputs": []
    },
    {
      "cell_type": "markdown",
      "source": [
        "### Visualización número de tokens en un corpus"
      ],
      "metadata": {
        "id": "lLyQ02t5JPsC"
      }
    },
    {
      "cell_type": "markdown",
      "source": [
        "Con la información que hemos obtenido hasta ahora, ya podemos realizar una primera visualización para **estudiar el contenido de nuestros documentos**.\n",
        "\n",
        "Una forma sencilla de comenzar es **comparando la longitud (en número de tokens)** de los textos según la categoría a la que pertenecen. Esto nos puede ayudar a identificar patrones o diferencias generales entre clases.\n",
        "\n",
        "Por ejemplo, podemos analizar cómo varía la longitud de los textos según la etiqueta presente en la columna `molestia`."
      ],
      "metadata": {
        "id": "0wXjzbdPI07-"
      }
    },
    {
      "cell_type": "code",
      "source": [
        "# Importamos las librerías matplotlib y seaborn:\n",
        "import matplotlib.pyplot as plt\n",
        "import seaborn as sns\n",
        "\n",
        "fig = plt.figure(figsize=(14,12))\n",
        "sns.set_style(\"darkgrid\")\n",
        "\n",
        "sns.displot(data=tweets_df, x=\"num_tokens\", hue=\"molestia\", kde=True, legend=True)\n",
        "plt.legend([\"Molestia\", \"No molestia\"])\n",
        "# Definimos el título de los ejes:\n",
        "plt.xlabel('Caracteres', fontsize=16)\n",
        "plt.ylabel('Densidad', fontsize=16)\n",
        "\n",
        "# Finalmente mostramos el gráfico:\n",
        "plt.show()\n",
        "\n"
      ],
      "metadata": {
        "id": "bpYO02bDI4L2"
      },
      "execution_count": null,
      "outputs": []
    },
    {
      "cell_type": "markdown",
      "metadata": {
        "id": "55HccBd5AOa3"
      },
      "source": [
        "## Unigramas, Bigramas y N-gramas"
      ]
    },
    {
      "cell_type": "markdown",
      "metadata": {
        "id": "hnyihnvCkRLr"
      },
      "source": [
        "Los n-gramas son secuencias de n tokens consecutivos provenientes de un texto. La combinación de n-gramas puede proporcionar información sobre la temática de un texto. Generalmente se generan unigramas, que son iguales que los tokens del texto. Los Bigramas, que son combinaciones pareadas de tokens y los trigramas que son triadas de tokens.\n",
        "\n",
        "Este tipo de análisis resulta muy útil en tareas exploratorias, ya que permite identificar términos frecuentes y patrones temáticos de manera sencilla.\n",
        "\n",
        "> ⚠️ Nota: _spaCy_ no incluye actualmente una funcionalidad integrada para extraer n-gramas. Para ello, utilizaremos una librería complementaria compatible con spaCy llamada textacy.\n"
      ]
    },
    {
      "cell_type": "markdown",
      "metadata": {
        "id": "lzYvbIaJqJNO"
      },
      "source": [
        "Utilizaremos la librería textacy para extraer esta información:"
      ]
    },
    {
      "cell_type": "code",
      "metadata": {
        "id": "dPCkHZswqCCw"
      },
      "source": [
        "import textacy"
      ],
      "execution_count": null,
      "outputs": []
    },
    {
      "cell_type": "code",
      "metadata": {
        "id": "6WHlU1oimcRi",
        "colab": {
          "base_uri": "https://localhost:8080/"
        },
        "outputId": "d6a5a3af-f6b8-49f0-f316-cb948f9d7731"
      },
      "source": [
        " # Calculamos los bigramas, trigramas y 4 gramas de la noticia 4\n",
        "print(\"Bigramas: \", list(textacy.extract.ngrams(__________________, _______________, min_freq=1, filter_stops = False, filter_punct =False))) # documento_4,2\n",
        "print(\"Trigramas: \", list(textacy.extract.ngrams(__________________, _______________, min_freq=1, filter_stops = False, filter_punct =False))) # documento_4,3\n",
        "print(\"4-gramas: \", list(textacy.extract.ngrams(__________________, _______________, min_freq=1, filter_stops = False, filter_punct =False)))  # documento_4,4\n"
      ],
      "execution_count": null,
      "outputs": [
        {
          "output_type": "stream",
          "name": "stdout",
          "text": [
            "Bigramas:  [Please would, would you, you keep, keep the, the noise, noise down, down?, ? We, We're, 're rehearsing, rehearsing in, in Dartington, Dartington 🎻, 🎻 @torbayairshow, @torbayairshow https://t.co/9ixrtuZHGK]\n",
            "Trigramas:  [Please would you, would you keep, you keep the, keep the noise, the noise down, noise down?, down? We, ? We're, We're rehearsing, 're rehearsing in, rehearsing in Dartington, in Dartington 🎻, Dartington 🎻 @torbayairshow, 🎻 @torbayairshow https://t.co/9ixrtuZHGK]\n",
            "4-gramas:  [Please would you keep, would you keep the, you keep the noise, keep the noise down, the noise down?, noise down? We, down? We're, ? We're rehearsing, We're rehearsing in, 're rehearsing in Dartington, rehearsing in Dartington 🎻, in Dartington 🎻 @torbayairshow, Dartington 🎻 @torbayairshow https://t.co/9ixrtuZHGK]\n"
          ]
        }
      ]
    },
    {
      "cell_type": "markdown",
      "source": [
        "Este análisis nos permite observar cómo un documento puede ser descompuesto en fragmentos de tokens consecutivos, lo cual podría identificar patrones, frases repetidas o temáticas relevantes de forma más precisa que analizando palabras individuales.\n",
        "\n",
        "Vamos a ver esto llevando a cabo un análisis de los tokens, bigramas y trigramas más utilizados en el corpus."
      ],
      "metadata": {
        "id": "OyDl9xbSiH4X"
      }
    },
    {
      "cell_type": "markdown",
      "source": [
        "Definimos una función para extraer y contabilizar los ngramas de una lista de documentos, previamente procesados por Spacy:"
      ],
      "metadata": {
        "id": "QjySAW2bAnji"
      }
    },
    {
      "cell_type": "code",
      "source": [
        "from collections import Counter\n",
        "\n",
        "def extract_and_count_ngrams(docs, n):\n",
        "   all_ngrams = []\n",
        "   for doc in docs:\n",
        "      # Obtenemos los ngrams del documento\n",
        "      ngrams = list(textacy.extract.ngrams(doc, n, min_freq=1, filter_stops=False, filter_punct=False))\n",
        "      # Convertimos el Span (los elementos del objeto Doc) a texto (string)\n",
        "      all_ngrams.extend([\" \".join([token.text for token in ng]) for ng in ngrams])\n",
        "   return Counter(all_ngrams)\n"
      ],
      "metadata": {
        "id": "a4p2QmhMAntB"
      },
      "execution_count": null,
      "outputs": []
    },
    {
      "cell_type": "code",
      "source": [
        "unigramas_total = extract_and_count_ngrams(tweets_df[\"doc_spacy\"].to_list(),_____________)   # 1\n",
        "bigramas_total = extract_and_count_ngrams(tweets_df[\"doc_spacy\"].to_list(),____________)    # 2\n",
        "trigramas_total = extract_and_count_ngrams(tweets_df[\"doc_spacy\"].to_list(),______________)    # 3"
      ],
      "metadata": {
        "id": "ItzToBh5Il0l"
      },
      "execution_count": null,
      "outputs": []
    },
    {
      "cell_type": "markdown",
      "source": [
        "Generamos una función para visualizar el top n-grams:"
      ],
      "metadata": {
        "id": "nCJGuwEFpW03"
      }
    },
    {
      "cell_type": "code",
      "source": [
        "import matplotlib.pyplot as plt\n",
        "import seaborn as sns\n",
        "\n",
        "def visualize_top_ngrams(ngram_counts, top_n=30, title=\"Top N-grams\"):\n",
        "    \"\"\"Visualizes the top N n-grams using a bar plot.\n",
        "\n",
        "    Args:\n",
        "        ngram_counts (Counter): A Counter object containing n-gram counts.\n",
        "        top_n (int): The number of top n-grams to display.\n",
        "        title (str): The title of the plot.\n",
        "    \"\"\"\n",
        "    top_ngrams = ngram_counts.most_common(top_n)\n",
        "    x_names = [ngram for ngram, count in top_ngrams]\n",
        "    y_values = [count for ngram, count in top_ngrams]\n",
        "\n",
        "    plt.figure(figsize=(14, 8))\n",
        "    sns.set_style(\"darkgrid\")\n",
        "\n",
        "    ax = sns.barplot(x=x_names, y=y_values)\n",
        "    plt.xticks(rotation=90, ha='right', fontsize=20)\n",
        "    plt.xlabel(\"N-grams\", fontsize=14)\n",
        "    plt.ylabel(\"Frequency\", fontsize=14)\n",
        "    plt.title(title, fontsize=16)\n",
        "    ax.tick_params(axis='x', which='both', length=0)\n",
        "\n",
        "    plt.tight_layout()  # Adjust layout to prevent labels from overlapping\n",
        "    plt.show()"
      ],
      "metadata": {
        "id": "CbUYm04mpTuu",
        "collapsed": true
      },
      "execution_count": null,
      "outputs": []
    },
    {
      "cell_type": "code",
      "source": [
        "visualize_top_ngrams(_________________, title=\"Top 30 Unigrams\")  # unigramas_total"
      ],
      "metadata": {
        "id": "nmGqU-O4IuUM"
      },
      "execution_count": null,
      "outputs": []
    },
    {
      "cell_type": "code",
      "source": [
        "visualize_top_ngrams(bigramas_total, title=\"Top 30 Bigrams\")"
      ],
      "metadata": {
        "id": "Fr7A1FsqIvsb"
      },
      "execution_count": null,
      "outputs": []
    },
    {
      "cell_type": "code",
      "source": [
        "visualize_top_ngrams(trigramas_total, title=\"Top 30 Trigrams\")"
      ],
      "metadata": {
        "id": "wl9QJfRQIwj_"
      },
      "execution_count": null,
      "outputs": []
    },
    {
      "cell_type": "markdown",
      "source": [
        "Al observar la gráfica de unigramas, se puede notar la presencia de muchos términos altamente frecuentes que **no aportan información semántica relevant**e, **como símbolos de puntuación** o **palabras vacías** (por ejemplo, the, a, of, etc.). Estas palabras son comunes en cualquier texto, pero no nos ayudan a comprender su contenido. También aparecen muchos vervos auxiliares conjugados, muy específicos para entender el contenido del texto.  Estos elementos tan frecuentes, que no aportan información semántica se podrían eliminar.\n",
        "```\n",
        "import string\n",
        "from nltk.corpus import stopwords\n",
        "punctuations = string.punctuation\n",
        "stop_words = stopwords.words('english')\n",
        "```\n",
        "\n",
        "Además, las conjugaciones o plurales pueden ser normalizados utilizando técnicas de lematización, como veremos más adelante.\n",
        "\n",
        "\n",
        "\n",
        "Por otra parte, si analizamos las gráficas de bigramas y trigramas, comenzamos a ver combinaciones de palabras que sí nos dan más pistas sobre la temática de los documentos. El unigrama \"noise\" por sí solo es ambiguo y podría referirse a distintos tipos de ruido (ruido acústico, ruido mediático...). En cambio, en los bigramas y trigramas aparecen expresiones como \"too much noise\" o \"keep the noise down\", que sugieren con mayor claridad que los textos están relacionados con quejas sobre el ruido."
      ],
      "metadata": {
        "id": "xVzZHIDElMjC"
      }
    },
    {
      "cell_type": "markdown",
      "metadata": {
        "id": "oAGXKfq1Adq0"
      },
      "source": [
        "## Lematización\n"
      ]
    },
    {
      "cell_type": "markdown",
      "source": [
        "La lematización es el proceso de reducir una palabra a su forma canónica o base, conocida como lema. En el caso del español, por ejemplo, los verbos pueden presentar múltiples formas debido a la **flexión verbal** (conjugación), que varía en número, persona, tiempo verbal, etc.\n",
        "\n",
        "Llevar las palabras a su lema es útil para **reducir la dimensionalidad** en tareas de análisis y modelado, ya que nos permite agrupar distintas formas de una misma palabra bajo una única representación semántica.\n",
        "\n",
        "Este proceso se realiza mediante **diccionarios jerárquicos**, como *WordNet* (que tradicionalmente se utliizaba con la librería nltk), o bien mediante modelos estadísticos o de aprendizaje automático, como es el caso de **spaCy**, el que utlizaremos en el ejerciico.\n",
        "\n",
        "\n"
      ],
      "metadata": {
        "id": "mkBSH47ZmNIr"
      }
    },
    {
      "cell_type": "markdown",
      "metadata": {
        "id": "cevlXnLVknz0"
      },
      "source": [
        "Para lematizar en spaCy, una vez que el documento ha sido procesado con el objeto nlp, spaCy permite acceder fácilmente al lema de cada token a través del atributo .lemma_.\n",
        "\n",
        "Cada token procesado en spaCy contiene este y muchos otros atributos lingüísticos. En este caso, podemos iterar sobre los tokens del documento y extraer sus lemas de la siguiente manera:"
      ]
    },
    {
      "cell_type": "code",
      "metadata": {
        "id": "Cy9rVMwHknz1"
      },
      "source": [
        "for word in documento_4:\n",
        "  print(word.text, \"---->\", word.__________)   # lemma_"
      ],
      "execution_count": null,
      "outputs": []
    },
    {
      "cell_type": "markdown",
      "metadata": {
        "id": "1X1hrzTrAkyG"
      },
      "source": [
        "## Part-Of-Speech Tagging"
      ]
    },
    {
      "cell_type": "markdown",
      "metadata": {
        "id": "23_6p5X35y_3"
      },
      "source": [
        "El *Part-Of-Speech Tagging* o la asignación de categorías gramaticales a una frase es el proceso en el que a una lista de palabras es etiquetada con su categoría gramatical, es decir que identifica si la palabra es un nombre, un adjetivo, un verbo, un adverbio, etc.\n",
        "\n",
        "La asignación de etiquetas gramaticales es interesante cuando se quiere hacer análisis gramatical de una oración, para saber si una palabra tiene una acepción u otra, o incluso para extraer características artificiales cuando se quiere hacer una clasificación textual o similar.\n"
      ]
    },
    {
      "cell_type": "markdown",
      "metadata": {
        "id": "o8k58QvD_q1Y"
      },
      "source": [
        "El listado de etiquetas POS utilizadas en Spacy es el siguiente:\n",
        "\n",
        "\n",
        "\n",
        "```\n",
        "SPACY_POS_LIST = [\"ADJ\", \"ADP\", \"ADV\", \"AUX\", \"CONJ\", \"CCONJ\",\n",
        "                  \"DET\", \"INTJ\", \"NOUN\", \"NUM\", \"PART\", \"PRON\",\n",
        "                  \"PROPN\", \"PUNCT\", \"SCONJ\", \"SYM\", \"VERB\", \"X\", \"SPACE\"]\n",
        "```\n",
        "\n",
        "Si se necesita recordar que significa una de las abreviaciones se puede utilizar el código:\n",
        "\n",
        "```\n",
        "spacy.explain(\"NN\")\n",
        "# 'noun, singular or mass'\n",
        "```\n",
        "\n",
        "\n"
      ]
    },
    {
      "cell_type": "code",
      "metadata": {
        "id": "n9q07Fg9Hng8"
      },
      "source": [
        "spacy.explain(\"INTJ\")"
      ],
      "execution_count": null,
      "outputs": []
    },
    {
      "cell_type": "markdown",
      "source": [
        "Del mismo modo que ocurría en la lematización, para obtener el *Part-of-Speech* sólo tenemos que iterar por los tokens del documento y acceder al atributo `pos_`."
      ],
      "metadata": {
        "id": "sFBOXBlmnz8o"
      }
    },
    {
      "cell_type": "code",
      "metadata": {
        "id": "syle9jPL5zMy"
      },
      "source": [
        "# Cogemos un subset de las noticias para acelerar el proceso:\n",
        "\n",
        "for w in documento_4:\n",
        "    print( \"The word '{}' is a {} \".format(w.text, w._________))  # pos_"
      ],
      "execution_count": null,
      "outputs": []
    },
    {
      "cell_type": "markdown",
      "metadata": {
        "id": "iu1-q-c15zeo"
      },
      "source": [
        "## Named-entiy recognition"
      ]
    },
    {
      "cell_type": "markdown",
      "metadata": {
        "id": "hvPUPLeBD1BB"
      },
      "source": [
        "La extración de entidades de un documento es una labor esencial en la análitica de textos. En algunas ocasiones puede ser interesante si se nombra a una persona, a una ciudad, un país o incluso a un medicamento, en el caso de los textos clínicos.\n",
        "\n",
        "Existen sistemas NER (Named-entity recognition) específicos en diversos campos de aplicación. Los modelos pre-entrenados de Spacy disponen de modelos para detectar entidades de ámbito general, aunque existen modelos mucho más espcificos para reconocer entidades muy específicos como por ejemplo síntomas en textos clinicos."
      ]
    },
    {
      "cell_type": "markdown",
      "metadata": {
        "id": "bHpihd1A3qHJ"
      },
      "source": [
        "EAcceder a esta información en Spacy es sencillo. Cuando procesamos un documento con el modelo importado, automáticamente se le aplica un conjunto de instrucciones internamente para detectar tokens, lemas... y también las entidades nombradas, a las que se puede acceder iterando sobre el atributo `ents` y extrayendo la etiqueta."
      ]
    },
    {
      "cell_type": "code",
      "metadata": {
        "id": "rDsyKsi14bCZ",
        "colab": {
          "base_uri": "https://localhost:8080/"
        },
        "outputId": "f1b8d7bf-80c2-4be8-cb72-f670bef41bc0"
      },
      "source": [
        "# Segmentamos los tokens\n",
        "tokens = nlp(\"John was born in Chicken, Alaska, and studies at Cranberry Lemon University. John likes to go to Starbucks.\")\n",
        "print([(X.text, X.label_) for X in tokens.ents])"
      ],
      "execution_count": null,
      "outputs": [
        {
          "output_type": "stream",
          "name": "stdout",
          "text": [
            "[('John', 'PERSON'), ('Chicken', 'GPE'), ('Alaska', 'GPE'), ('Cranberry Lemon University', 'ORG'), ('John', 'PERSON'), ('Starbucks', 'ORG')]\n"
          ]
        }
      ]
    },
    {
      "cell_type": "markdown",
      "metadata": {
        "id": "8v4QB7Le4cV8"
      },
      "source": [
        "Además, spacy incorpora un módulo para visualizar estas entidades en un gráfico."
      ]
    },
    {
      "cell_type": "code",
      "metadata": {
        "id": "F2T6yJ6q5z4j"
      },
      "source": [
        "from spacy import displacy\n",
        "displacy.render(tokens, jupyter=True, style='ent')\n"
      ],
      "execution_count": null,
      "outputs": []
    },
    {
      "cell_type": "markdown",
      "source": [
        "Sobre nuestro documento de prueba:"
      ],
      "metadata": {
        "id": "w66LjzXAJB7L"
      }
    },
    {
      "cell_type": "code",
      "source": [
        "displacy.render(documento_4, jupyter=True, style='ent')\n"
      ],
      "metadata": {
        "id": "LzReMKbPobvi"
      },
      "execution_count": null,
      "outputs": []
    },
    {
      "cell_type": "markdown",
      "metadata": {
        "id": "XYIyf8SJ50J7"
      },
      "source": [
        "## Estructura de la frase"
      ]
    },
    {
      "cell_type": "code",
      "metadata": {
        "id": "iBPA59QO5_sR"
      },
      "source": [
        "from spacy import displacy\n",
        "tokens = nlp(\"John was born in Chicken, Alaska, and studies at Cranberry Lemon University. John likes to go to Starbucks.\")\n",
        "displacy.render(tokens,style='dep',jupyter=True)"
      ],
      "execution_count": null,
      "outputs": []
    },
    {
      "cell_type": "code",
      "source": [
        "displacy.render(documento_4, jupyter=True, style='dep')\n"
      ],
      "metadata": {
        "id": "-IfBX4hgpB7a"
      },
      "execution_count": null,
      "outputs": []
    }
  ]
}