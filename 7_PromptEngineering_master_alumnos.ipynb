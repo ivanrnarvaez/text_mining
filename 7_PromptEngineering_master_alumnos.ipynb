{
  "cells": [
    {
      "cell_type": "markdown",
      "id": "b4e189d9",
      "metadata": {
        "id": "b4e189d9"
      },
      "source": [
        "# Prompt Engineering con OpenAI\n",
        "\n",
        "En este notebook veremos como utilizar la API de OpenAI para aplicar diferentes técnicas de prompt engineering:"
      ]
    },
    {
      "cell_type": "code",
      "execution_count": 1,
      "id": "50c0d526",
      "metadata": {
        "colab": {
          "base_uri": "https://localhost:8080/"
        },
        "id": "50c0d526",
        "outputId": "7665e87d-b459-47da-f31e-369fe1d50289"
      },
      "outputs": [
        {
          "output_type": "stream",
          "name": "stdout",
          "text": [
            "\u001b[?25l   \u001b[90m━━━━━━━━━━━━━━━━━━━━━━━━━━━━━━━━━━━━━━━━\u001b[0m \u001b[32m0.0/1.6 MB\u001b[0m \u001b[31m?\u001b[0m eta \u001b[36m-:--:--\u001b[0m\r\u001b[2K   \u001b[91m━━━━━━━━━━━━━━━━━━━━━━━━━━━━━━━━━━━━━━━\u001b[0m\u001b[91m╸\u001b[0m \u001b[32m1.6/1.6 MB\u001b[0m \u001b[31m84.1 MB/s\u001b[0m eta \u001b[36m0:00:01\u001b[0m\r\u001b[2K   \u001b[90m━━━━━━━━━━━━━━━━━━━━━━━━━━━━━━━━━━━━━━━━\u001b[0m \u001b[32m1.6/1.6 MB\u001b[0m \u001b[31m40.4 MB/s\u001b[0m eta \u001b[36m0:00:00\u001b[0m\n",
            "\u001b[?25h"
          ]
        }
      ],
      "source": [
        "# 👉 Ejecuta esta celda una sola vez para instalar dependencias\n",
        "!pip install -q openai ipywidgets python-dotenv\n"
      ]
    },
    {
      "cell_type": "markdown",
      "source": [
        "Accedemos a la web de la [API de OpenAI](https://platform.openai.com/docs/overview) para obtener una API KEY que podamos utlizar"
      ],
      "metadata": {
        "id": "Y4WVB_bLrTb6"
      },
      "id": "Y4WVB_bLrTb6"
    },
    {
      "cell_type": "code",
      "execution_count": 2,
      "id": "572e4ed6",
      "metadata": {
        "colab": {
          "base_uri": "https://localhost:8080/"
        },
        "id": "572e4ed6",
        "outputId": "09c64409-b9e3-4bff-aeb8-3ce820936df5"
      },
      "outputs": [
        {
          "output_type": "stream",
          "name": "stdout",
          "text": [
            "🔑 OpenAI API key: ··········\n",
            "✅ Clave configurada.\n"
          ]
        }
      ],
      "source": [
        "# 👉 Introduce tu clave de OpenAI (se guarda solo en la sesión actual)\n",
        "import os, getpass\n",
        "os.environ[\"OPENAI_API_KEY\"] = getpass.getpass(\"🔑 OpenAI API key: \")\n",
        "print(\"✅ Clave configurada.\")\n"
      ]
    },
    {
      "cell_type": "markdown",
      "id": "a26d5d88",
      "metadata": {
        "id": "a26d5d88"
      },
      "source": [
        "## 1. Introducción al Prompt Engineering  \n",
        "El **prompt engineering** es la práctica de diseñar instrucciones (prompts) para maximizar la **utilidad, precisión y seguridad** de las respuestas de los modelos de lenguaje de gran escala (LLMs).\n",
        "\n",
        "Problemas que aborda:\n",
        "- **Alucinaciones**: las respuestas inventadas o incorrectas.  \n",
        "- **Ambigüedad**: enunciados poco claros generan salidas inconsistentes.  \n",
        "- **Dependencia de contexto**: la falta de información relevante degrada la calidad.  \n",
        "\n",
        "A continuación probaremos un ejemplo simple.\n"
      ]
    },
    {
      "cell_type": "code",
      "execution_count": 3,
      "id": "cc46a85c",
      "metadata": {
        "id": "cc46a85c"
      },
      "outputs": [],
      "source": [
        "from openai import OpenAI\n",
        "import os\n",
        "\n",
        "client = OpenAI()\n",
        "\n",
        "def ask(prompt, model=\"gpt-4.1-nano\", max_tokens=150):\n",
        "    response = client.chat.completions.create(\n",
        "        model=model,\n",
        "        messages=[{\"role\":\"user\",\"content\":prompt}],\n",
        "        seed=42\n",
        "        #temperature=0.7,\n",
        "        #max_tokens=max_tokens\n",
        "    )\n",
        "    return response.choices[0].message.content.strip()\n"
      ]
    },
    {
      "cell_type": "code",
      "source": [
        "ejemplo = \"¿Qué es el prompt engineering en una frase corta y clara?\"\n",
        "print(ask(ejemplo))"
      ],
      "metadata": {
        "id": "tjiiro2drmNw",
        "outputId": "adb72d7f-a2e5-421b-c5be-578da7005b2d",
        "colab": {
          "base_uri": "https://localhost:8080/"
        }
      },
      "id": "tjiiro2drmNw",
      "execution_count": 4,
      "outputs": [
        {
          "output_type": "stream",
          "name": "stdout",
          "text": [
            "El prompt engineering es el proceso de diseñar y optimizar las instrucciones para que un modelo de inteligencia artificial genere respuestas precisas y relevantes.\n"
          ]
        }
      ]
    },
    {
      "cell_type": "markdown",
      "id": "c332a988",
      "metadata": {
        "id": "c332a988"
      },
      "source": [
        "## 2. Instruction‑Based Prompting  \n",
        "Como hemos visto en la teoría, un **prompt** bien estructurado puede incluir varios bloques:  \n",
        "\n",
        "| Bloque | Descripción | Ejemplo |\n",
        "| --- | --- | --- |\n",
        "| **Persona** | Rol o estilo de la IA | «Eres un profesor paciente…» |\n",
        "| **Instrucción** | Tarea a realizar | «Explica la fotosíntesis…» |\n",
        "| **Contexto** | Información adicional | «Para estudiantes de 12 años…» |\n",
        "| **Formato** | Forma de la salida | «Responde en bullets…» |\n",
        "| **Audiencia** | A quién va dirigido | «Dirígete a tus alumnos…» |\n",
        "| **Tono** | Voz deseada | «Usa tono informal…» |\n",
        "| **Datos** | Ejemplos, tablas, etc. | (opcional) |\n",
        "\n",
        "La construcción del prompt es **iterativa**. Veamos un ejemplo paso a paso.\n"
      ]
    },
    {
      "cell_type": "code",
      "execution_count": 5,
      "id": "9e293cdc",
      "metadata": {
        "id": "9e293cdc",
        "outputId": "2382a082-e258-4d48-a81e-28a9fbd46156",
        "colab": {
          "base_uri": "https://localhost:8080/",
          "height": 1000,
          "referenced_widgets": [
            "f33cb51055394fb8b46f9c646a087aa2",
            "d505b9547301431fb28166531c595599",
            "de73044a9a7c42c8a2a3a9137bbf8888",
            "8ea998a6ce5a4142adb3dcfe89595197",
            "39c97a2b9cda40c1b9567062d530ed66",
            "44b27fdb3fa043a5a6d1f001e388a86d",
            "82d9ef076d4448ca92449825e5250db2",
            "6d3d5a5805434432b2ec6a45dab29323",
            "b7b50ec607f747a0bd337e99cfdef3c3",
            "8b88a6bea0c14d57bd3444ba88713eeb",
            "ea1b36179bbc418192a7a3d4cbfb8259",
            "7f3928b3c5774bca9ed76e97ff72b1b9",
            "913e685b4c34430fa90388684d631dfc",
            "9677241d12f04af7baa2c061ce8bdf7b",
            "2d681d8efeb2422d9db1db7c3f44f211",
            "b7bb1a441ed34b0fb433dcfc234fb8e5",
            "10f5cf2e54bc486d880cb967d3f17342",
            "65c76d95b15842adb04945ca88a7b2ca",
            "f6d86f2091d9443faf6e761c30d8f9ef",
            "a8b0388fdfcd4b828616cdacd2531c46",
            "9ea35321aa354c0c8598244e7b9b66f3",
            "c807c0ccfa684954a9c98bea2dd68928",
            "d57d529bccdd4776b6cfd04de64a05c4",
            "b45799b43125425293f125e02f95d0eb",
            "1dddd0dbda344790b5f84c541f572ee0"
          ]
        }
      },
      "outputs": [
        {
          "output_type": "display_data",
          "data": {
            "text/plain": [
              "VBox(children=(Text(value='Eres un experto en IA experto en comunicación adaptada al nivel de tu audiencia.', …"
            ],
            "application/vnd.jupyter.widget-view+json": {
              "version_major": 2,
              "version_minor": 0,
              "model_id": "f33cb51055394fb8b46f9c646a087aa2"
            }
          },
          "metadata": {}
        }
      ],
      "source": [
        "import ipywidgets as widgets\n",
        "from IPython.display import display, Markdown\n",
        "\n",
        "persona     = widgets.Text(value='Eres un experto en IA experto en comunicación adaptada al nivel de tu audiencia.', description='Persona')\n",
        "instruccion = widgets.Textarea(value='Explica la Self-Attention de la arquitectura Transformers', description='Instrucción')\n",
        "contexto    = widgets.Textarea(value='', description='Contexto')\n",
        "formato     = widgets.Text(value='Explica el proceso en pasos numerados.', description='Formato')\n",
        "audiencia   = widgets.Text(value='Estudiantes de primaria', description='Audiencia')\n",
        "tono        = widgets.Text(value='Tono gracioso.', description='Tono')\n",
        "btn = widgets.Button(description=\"Generar respuesta\")\n",
        "\n",
        "out = widgets.Output()\n",
        "\n",
        "def build_prompt(_):\n",
        "    prompt = \"\\n\".join([persona.value,\n",
        "                         instruccion.value,\n",
        "                         contexto.value,\n",
        "                         formato.value,\n",
        "                         audiencia.value,\n",
        "                         tono.value]).strip()\n",
        "    with out:\n",
        "        out.clear_output()\n",
        "        display(Markdown(f\"**Prompt generado:**\\n```\\n{prompt}\\n```\"))\n",
        "        respuesta = ask(prompt)\n",
        "        display(Markdown(f\"**Respuesta del modelo:**\\n{respuesta}\"))\n",
        "\n",
        "btn.on_click(build_prompt)\n",
        "\n",
        "display(widgets.VBox([persona, instruccion, contexto, formato, audiencia, tono, btn, out]))\n"
      ]
    },
    {
      "cell_type": "markdown",
      "id": "910c3ead",
      "metadata": {
        "id": "910c3ead"
      },
      "source": [
        "## 3. In‑Context Learning (ICL)  \n",
        "En lugar de entrenar el modelo de nuevo, se **enseña con ejemplos en el mismo prompt**:\n",
        "\n",
        "- **Zero‑shot**: sin ejemplos.  \n",
        "- **One‑shot**: un ejemplo.  \n",
        "- **Few‑shot**: varios ejemplos.\n",
        "\n",
        "El modelo aprende del patrón observado para **generalizar** a la nueva consulta.\n"
      ]
    },
    {
      "cell_type": "code",
      "execution_count": 6,
      "id": "6fd0f948",
      "metadata": {
        "id": "6fd0f948",
        "outputId": "0e623d66-2918-4054-9d84-d7d33d9b076d",
        "colab": {
          "base_uri": "https://localhost:8080/"
        }
      },
      "outputs": [
        {
          "output_type": "stream",
          "name": "stdout",
          "text": [
            "Zero-shot: \n",
            " Un servidor web es como una biblioteca: cuando buscas un libro (una página web), la biblioteca (el servidor) busca en su estante (su almacenamiento) el libro solicitado y te lo entrega para que puedas leerlo en tu casa (tu navegador). Así, el servidor web almacena y entrega la información que los usuarios piden, permitiendo que puedas acceder a las páginas y contenidos en internet.\n",
            "One-shot: \n",
            " Concepto: \"Servidor web\" → Analogía: \"Es como un restaurante que recibe pedidos de comida (las solicitudes de los navegadores) y les sirve el plato correspondiente (las páginas web).\"\n",
            "Few-shot: \n",
            " Concepto: \"Servidor web\" → Analogía: \"Es como una oficina de atención en un restaurante, donde los clientes (usuarios) hacen sus pedidos (las solicitudes) y el personal (el servidor) prepara y entrega la comida (la página web) en función de lo solicitado.\"\n"
          ]
        }
      ],
      "source": [
        "import json\n",
        "\n",
        "ej_bio = [\n",
        "   'Concepto: \"CPU\" → Analogía: \"Es como el cerebro que decide qué hacer en una fábrica.\"',\n",
        "   'Concepto: \"Red neuronal\" → Analogía: \"Es como un grupo de trabajadores que votan cuál es la mejor solución.\"'\n",
        "]\n",
        "\n",
        "texto_desafio = (\n",
        "    \"servidor web\",\n",
        "    \"GPU\"\n",
        ")\n",
        "\n",
        "# Zero-shot (sin ejemplos)\n",
        "ej_zero = []\n",
        "\n",
        "# One-shot (un ejemplo sencillo)\n",
        "ej_one = [ej_bio[0]]\n",
        "\n",
        "# Few-shot (varios ejemplos, incluido uno con alias y evento)\n",
        "ej_few = ej_bio\n",
        "\n",
        "concepto = texto_desafio[0]\n",
        "prompt = f\"Crear una analogía para explicar el concepto{concepto}.\\n\"\n",
        "ejemplos_one = f\"Aquí tienes un ejemplo:\\n {ej_one}\"\n",
        "ejemplos_few = f\"Aquí tienes algunos ejemplos:\\n {ej_few}\"\n",
        "\n",
        "print(\"Zero-shot: \\n\", ask(prompt))\n",
        "print(\"One-shot: \\n\", ask(prompt+ejemplos_one))\n",
        "print(\"Few-shot: \\n\", ask(prompt+ejemplos_few))\n"
      ]
    },
    {
      "cell_type": "markdown",
      "source": [],
      "metadata": {
        "id": "2YRxNd--svY-"
      },
      "id": "2YRxNd--svY-"
    },
    {
      "cell_type": "markdown",
      "id": "8dfa0454",
      "metadata": {
        "id": "8dfa0454"
      },
      "source": [
        "## 4. Técnicas Avanzadas  \n",
        "\n",
        "### 4.1 Chain‑of‑Thought (CoT)  \n",
        "Se le pide al modelo que **razone paso a paso** antes de entregar la respuesta final.\n"
      ]
    },
    {
      "cell_type": "code",
      "execution_count": 7,
      "id": "47d4201f",
      "metadata": {
        "id": "47d4201f"
      },
      "outputs": [],
      "source": [
        "# Demostración CoT\n",
        "prompt = '''\n",
        "Eres un experto matemático.\n",
        "Si tengo 3 manzanas y compro 5 más, y luego regalo 4, ¿cuántas me quedan?\n",
        "\n",
        "'''\n",
        "\n",
        "cot_prompt = '''\n",
        "Eres un experto matemático.\n",
        "Si tengo 3 manzanas y compro 5 más, y luego regalo 4, ¿cuántas me quedan?\n",
        "\n",
        "Think step by step\n",
        "'''\n",
        "\n"
      ]
    },
    {
      "cell_type": "markdown",
      "source": [
        "Incluso sin utilizar el \"think step by step\", el modelo ya ha sido entrenado para detectar este tipo de situación y aplicar reasoning durante el entrenamiento."
      ],
      "metadata": {
        "id": "2xXzeMC6vC2H"
      },
      "id": "2xXzeMC6vC2H"
    },
    {
      "cell_type": "code",
      "source": [
        "print(ask(prompt))\n"
      ],
      "metadata": {
        "colab": {
          "base_uri": "https://localhost:8080/"
        },
        "id": "RokSaEKgu7wm",
        "outputId": "883918d1-732c-42d7-9ecc-40bfe7db9a5e"
      },
      "id": "RokSaEKgu7wm",
      "execution_count": 8,
      "outputs": [
        {
          "output_type": "stream",
          "name": "stdout",
          "text": [
            "Primero, tienes 3 manzanas. Luego compras 5 más, así que tienes:  \n",
            "3 + 5 = 8 manzanas.  \n",
            "\n",
            "Luego, regalas 4, por lo que te quedan:  \n",
            "8 - 4 = 4 manzanas.  \n",
            "\n",
            "Respuesta: **Te quedan 4 manzanas.**\n"
          ]
        }
      ]
    },
    {
      "cell_type": "code",
      "source": [
        "print(ask(cot_prompt))\n"
      ],
      "metadata": {
        "colab": {
          "base_uri": "https://localhost:8080/"
        },
        "id": "BuyRWufPu1iU",
        "outputId": "ca82068c-5342-46ff-ee07-0855ea2f0252"
      },
      "id": "BuyRWufPu1iU",
      "execution_count": 9,
      "outputs": [
        {
          "output_type": "stream",
          "name": "stdout",
          "text": [
            "Claro, te explicaré paso a paso:\n",
            "\n",
            "1. Empiezas con 3 manzanas.\n",
            "2. Compras 5 más, así que ahora tienes 3 + 5 = 8 manzanas.\n",
            "3. Luego, regalas 4 manzanas, así que ahora tienes 8 - 4 = 4 manzanas.\n",
            "\n",
            "Respuesta: Te quedan **4 manzanas**.\n"
          ]
        }
      ]
    },
    {
      "cell_type": "markdown",
      "source": [
        "### Podemos proporcioar al prompt una guía de como llevar a cabo la tarea (Chain of Thought Guiado)"
      ],
      "metadata": {
        "id": "B6kzjZ9cva31"
      },
      "id": "B6kzjZ9cva31"
    },
    {
      "cell_type": "code",
      "source": [
        "frase = \"El anticuerpo monoclonal Rituximab, utilizado en el tratamiento del linfoma no Hodgkin, actúa uniéndose al antígeno CD20 presente en la superficie de células B malignas, inhibiendo su proliferación.\""
      ],
      "metadata": {
        "id": "OGENeVkcwWix"
      },
      "id": "OGENeVkcwWix",
      "execution_count": 11,
      "outputs": []
    },
    {
      "cell_type": "code",
      "source": [
        "prompt = f'''\n",
        "Dado el siguiente texto biomédico:\n",
        "\n",
        "{frase}\n",
        "\n",
        "Identifica primero las entidades relevantes y luego las relaciones entre ellas.\n",
        "Sigue estos pasos de razonamiento:\n",
        "\n",
        "1. **Detecta todas las entidades biomédicas** mencionadas en el texto (por ejemplo, enfermedades, genes, proteínas, medicamentos, procedimientos).\n",
        "2. **Clasifica** cada entidad con su tipo (por ejemplo, \"ENFERMEDAD\", \"GEN\", \"MEDICAMENTO\", \"PROTEINA\", \"PROCEDIMIENTO\").\n",
        "3. **Identifica las relaciones** que se mencionan entre las entidades (por ejemplo, \"trata\", \"causa\", \"inhibe\", \"asocia con\", \"codifica\", etc.).\n",
        "4. Escribe el resultado en dos partes:\n",
        "   - Una lista de entidades (cada una con su texto y tipo).\n",
        "   - Una lista de relaciones (cada una indicando entidad origen, relación y entidad destino).\n",
        "\n",
        "Devuelve una respuesta en formato JSON como este:\n",
        "\n",
        "```json\n",
        "{{\n",
        "    \"entidades\": [\n",
        "        {{\n",
        "            \"texto\": \"nombre de la entidad\",\n",
        "            \"tipo\": \"tipo de entidad\",\n",
        "            \"comentarios\": \"comentarios sobre la eleccion\"\n",
        "        }}\n",
        "    ],\n",
        "    \"relaciones\": [\n",
        "        {{\n",
        "            \"origen\": \"texto de entidad origen\",\n",
        "            \"relacion\": \"tipo de relación\",\n",
        "            \"destino\": \"texto de entidad destino\"\n",
        "        }}\n",
        "    ]\n",
        "}}\n",
        "```\n",
        "\n",
        "Ejemplo:\n",
        "\"El fármaco Imatinib inhibe la actividad de la proteína BCR-ABL, asociada a la leucemia mieloide crónica.\"\n",
        "\n",
        "**Paso a paso:**\n",
        "\n",
        "**1. Detectar entidades:**\n",
        "- Imatinib\n",
        "- BCR-ABL\n",
        "- leucemia mieloide crónica\n",
        "\n",
        "**2. Clasificar entidades:**\n",
        "- Imatinib → MEDICAMENTO\n",
        "- BCR-ABL → PROTEINA\n",
        "- leucemia mieloide crónica → ENFERMEDAD\n",
        "\n",
        "**3. Identificar relaciones:**\n",
        "- Imatinib inhibe BCR-ABL\n",
        "- BCR-ABL se asocia con leucemia mieloide crónica\n",
        "\n",
        "**4. Resultado final en JSON:**\n",
        "\n",
        "```json\n",
        "{{\n",
        "    \"entidades\": [\n",
        "        {{ \"texto\": \"Imatinib\", \"tipo\": \"MEDICAMENTO\", \"comentarios\": \"Seha elegido porque..\" }},\n",
        "        {{ \"texto\": \"BCR-ABL\", \"tipo\": \"PROTEINA\", \"comentarios\": \"Ejemplo de porque se ha elegido\" }},\n",
        "        {{ \"texto\": \"leucemia mieloide crónica\", \"tipo\": \"ENFERMEDAD\", \"comentarios\": \"Ejemplo de porque se ha elegido\" }}\n",
        "    ],\n",
        "    \"relaciones\": [\n",
        "        {{ \"origen\": \"Imatinib\", \"relacion\": \"inhibe\", \"destino\": \"BCR-ABL\" }},\n",
        "        {{ \"origen\": \"BCR-ABL\", \"relacion\": \"asociada a\", \"destino\": \"leucemia mieloide crónica\" }}\n",
        "    ]\n",
        "}}\n",
        "```\n",
        "'''"
      ],
      "metadata": {
        "id": "ocCVjYvTvhBU"
      },
      "id": "ocCVjYvTvhBU",
      "execution_count": 12,
      "outputs": []
    },
    {
      "cell_type": "code",
      "source": [
        "result = ask(prompt)"
      ],
      "metadata": {
        "id": "EsW_V1v8wMn-"
      },
      "id": "EsW_V1v8wMn-",
      "execution_count": 13,
      "outputs": []
    },
    {
      "cell_type": "code",
      "source": [
        "import json\n",
        "json.loads(result)"
      ],
      "metadata": {
        "colab": {
          "base_uri": "https://localhost:8080/"
        },
        "id": "NxszT0FRwhjd",
        "outputId": "929a73c1-ec3c-4e68-9ef9-b0bb8ccdb866"
      },
      "id": "NxszT0FRwhjd",
      "execution_count": 14,
      "outputs": [
        {
          "output_type": "execute_result",
          "data": {
            "text/plain": [
              "{'entidades': [{'texto': 'Rituximab',\n",
              "   'tipo': 'MEDICAMENTO',\n",
              "   'comentarios': 'Es un anticuerpo monoclonal utilizado en tratamiento.'},\n",
              "  {'texto': 'linfoma no Hodgkin',\n",
              "   'tipo': 'ENFERMEDAD',\n",
              "   'comentarios': 'Es la enfermedad tratada con Rituximab.'},\n",
              "  {'texto': 'anticuerpo monoclonal',\n",
              "   'tipo': 'PROTEINA',\n",
              "   'comentarios': 'Rituximab es un anticuerpo monoclonal.'},\n",
              "  {'texto': 'antígeno CD20',\n",
              "   'tipo': 'PROTEINA',\n",
              "   'comentarios': 'Es la proteína a la que se une Rituximab.'},\n",
              "  {'texto': 'superficie de células B malignas',\n",
              "   'tipo': 'PROTEINA',\n",
              "   'comentarios': 'Lugar donde se encuentra el antígeno CD20.'}],\n",
              " 'relaciones': [{'origen': 'Rituximab',\n",
              "   'relacion': 'se une a',\n",
              "   'destino': 'antígeno CD20'},\n",
              "  {'origen': 'antígeno CD20',\n",
              "   'relacion': 'está presente en',\n",
              "   'destino': 'superficie de células B malignas'},\n",
              "  {'origen': 'Rituximab',\n",
              "   'relacion': 'utilizado en el tratamiento de',\n",
              "   'destino': 'linfoma no Hodgkin'},\n",
              "  {'origen': 'Rituximab',\n",
              "   'relacion': 'actúa uniéndose a',\n",
              "   'destino': 'antígeno CD20'},\n",
              "  {'origen': 'Rituximab',\n",
              "   'relacion': 'inhibe',\n",
              "   'destino': 'proliferación de células B malignas'}]}"
            ]
          },
          "metadata": {},
          "execution_count": 14
        }
      ]
    },
    {
      "cell_type": "markdown",
      "id": "2109df32",
      "metadata": {
        "id": "2109df32"
      },
      "source": [
        "## 5. Usos de Prompt Engineering  \n",
        "\n",
        "- **Pre‑anotación de datos**: acelerar el etiquetado en NLP.  \n"
      ]
    },
    {
      "cell_type": "markdown",
      "source": [
        "Sin formato, no lo entiende bien:"
      ],
      "metadata": {
        "id": "AjeBfKIOtS3E"
      },
      "id": "AjeBfKIOtS3E"
    },
    {
      "cell_type": "code",
      "execution_count": 15,
      "id": "2c4a08b6",
      "metadata": {
        "id": "2c4a08b6",
        "colab": {
          "base_uri": "https://localhost:8080/"
        },
        "outputId": "65e5f973-4aa6-46d3-d565-f3d639faa5ba"
      },
      "outputs": [
        {
          "output_type": "stream",
          "name": "stdout",
          "text": [
            "Uber planea lanzar coches autónomos en LOCALIZACION Madrid el próximo año, afirma su PERSONA CEO Dara Khosrowshahi.\n"
          ]
        }
      ],
      "source": [
        "texto = \"Uber planea lanzar coches autónomos en Madrid el próximo año, afirma su CEO Dara Khosrowshahi.\"\n",
        "etiquetado_prompt = f'''\n",
        "Etiqueta las entidades PERSONA, ORGANIZACION y LOCALIZACION en el texto.\n",
        "Texto: {texto}\n",
        "'''\n",
        "print(ask(etiquetado_prompt))\n"
      ]
    },
    {
      "cell_type": "code",
      "source": [
        "texto = \"Uber planea lanzar coches autónomos en Madrid el próximo año, afirma su CEO Dara Khosrowshahi.\"\n",
        "etiquetado_prompt = f'''\n",
        "Etiqueta las entidades PERSONA, ORGANIZACION y LOCALIZACION en el texto.\n",
        "Devuelve un JSON con las entidades y su categoría.\n",
        "Texto: {texto}\n",
        "'''\n",
        "print(ask(etiquetado_prompt))\n",
        "\n"
      ],
      "metadata": {
        "colab": {
          "base_uri": "https://localhost:8080/"
        },
        "id": "3Ste6F3otU70",
        "outputId": "f32ac500-fc8b-4f5a-f983-b2b378c74e73"
      },
      "id": "3Ste6F3otU70",
      "execution_count": 16,
      "outputs": [
        {
          "output_type": "stream",
          "name": "stdout",
          "text": [
            "{\n",
            "  \"entidades\": [\n",
            "    {\n",
            "      \"nombre\": \"Uber\",\n",
            "      \"categoría\": \"ORGANIZACION\"\n",
            "    },\n",
            "    {\n",
            "      \"nombre\": \"Madrid\",\n",
            "      \"categoría\": \"LOCALIZACION\"\n",
            "    },\n",
            "    {\n",
            "      \"nombre\": \"Dara Khosrowshahi\",\n",
            "      \"categoría\": \"PERSONA\"\n",
            "    }\n",
            "  ]\n",
            "}\n"
          ]
        }
      ]
    },
    {
      "cell_type": "markdown",
      "source": [
        "Podeos definir json específico para asegurar formato:"
      ],
      "metadata": {
        "id": "S5Zk4BRltb3t"
      },
      "id": "S5Zk4BRltb3t"
    },
    {
      "cell_type": "code",
      "source": [
        "texto = \"Uber planea lanzar coches autónomos en Madrid el próximo año, afirma su CEO Dara Khosrowshahi.\"\n",
        "etiquetado_prompt = f'''\n",
        "Etiqueta las entidades PERSONA, ORGANIZACION y LOCALIZACION en el texto.\n",
        "Devuelve una estructura json como la siguiente. No añadas más información además del json:\n",
        "```json\n",
        "[\n",
        "    {{\n",
        "        \"texto\": \"nombre de la entidad extraída\",\n",
        "        \"tipo\": \"categoría asignada\"\n",
        "    }}\n",
        "]\n",
        "```\n",
        "\n",
        "Texto: {texto}\n",
        "'''\n",
        "resultado = ask(etiquetado_prompt)\n"
      ],
      "metadata": {
        "id": "JsDcw5mGtbZU"
      },
      "id": "JsDcw5mGtbZU",
      "execution_count": 17,
      "outputs": []
    },
    {
      "cell_type": "code",
      "source": [
        "print(resultado)\n"
      ],
      "metadata": {
        "colab": {
          "base_uri": "https://localhost:8080/"
        },
        "id": "VqR-p4_QuSsv",
        "outputId": "825a8328-95fb-4887-971f-1db2c7743514"
      },
      "id": "VqR-p4_QuSsv",
      "execution_count": 18,
      "outputs": [
        {
          "output_type": "stream",
          "name": "stdout",
          "text": [
            "[\n",
            "    {\n",
            "        \"texto\": \"Uber\",\n",
            "        \"tipo\": \"ORGANIZACION\"\n",
            "    },\n",
            "    {\n",
            "        \"texto\": \"Madrid\",\n",
            "        \"tipo\": \"LOCALIZACION\"\n",
            "    },\n",
            "    {\n",
            "        \"texto\": \"Dara Khosrowshahi\",\n",
            "        \"tipo\": \"PERSONA\"\n",
            "    }\n",
            "]\n"
          ]
        }
      ]
    },
    {
      "cell_type": "code",
      "source": [
        "eval(resultado)[0][\"texto\"]"
      ],
      "metadata": {
        "colab": {
          "base_uri": "https://localhost:8080/",
          "height": 35
        },
        "id": "XEHQulbiuVHK",
        "outputId": "1407b0e5-df05-482f-aae9-ac0c81ea0e4b"
      },
      "id": "XEHQulbiuVHK",
      "execution_count": 19,
      "outputs": [
        {
          "output_type": "execute_result",
          "data": {
            "text/plain": [
              "'Uber'"
            ],
            "application/vnd.google.colaboratory.intrinsic+json": {
              "type": "string"
            }
          },
          "metadata": {},
          "execution_count": 19
        }
      ]
    },
    {
      "cell_type": "markdown",
      "source": [
        "- **Generación de datos sintéticos**: crear ejemplos adicionales para mejorar modelos.  \n"
      ],
      "metadata": {
        "id": "Qw-HqR1etGcV"
      },
      "id": "Qw-HqR1etGcV"
    },
    {
      "cell_type": "code",
      "execution_count": 20,
      "id": "8fe7d717",
      "metadata": {
        "id": "8fe7d717",
        "colab": {
          "base_uri": "https://localhost:8080/"
        },
        "outputId": "bfc29ab6-6674-4467-f5ea-ad28fa3eaac3"
      },
      "outputs": [
        {
          "output_type": "stream",
          "name": "stdout",
          "text": [
            "1. ¡Estoy muy satisfecho con la rapidez y la calidad de la entrega, definitivamente volveré a ordenar aquí!  \n",
            "2. La comida llegó caliente y en perfectas condiciones, excelente servicio y muy recomendable.  \n",
            "3. La atención del repartidor fue muy amable y la entrega se realizó en tiempo récord, muy feliz con el servicio.\n"
          ]
        }
      ],
      "source": [
        "sint_prompt = '''\n",
        "Genera 3 oraciones adicionales que expresen satisfacción del cliente con un servicio de entrega de comida.\n",
        "'''\n",
        "print(ask(sint_prompt))\n"
      ]
    }
  ],
  "metadata": {
    "colab": {
      "provenance": []
    },
    "language_info": {
      "name": "python"
    },
    "kernelspec": {
      "name": "python3",
      "display_name": "Python 3"
    },
    "widgets": {
      "application/vnd.jupyter.widget-state+json": {
        "f33cb51055394fb8b46f9c646a087aa2": {
          "model_module": "@jupyter-widgets/controls",
          "model_name": "VBoxModel",
          "model_module_version": "1.5.0",
          "state": {
            "_dom_classes": [],
            "_model_module": "@jupyter-widgets/controls",
            "_model_module_version": "1.5.0",
            "_model_name": "VBoxModel",
            "_view_count": null,
            "_view_module": "@jupyter-widgets/controls",
            "_view_module_version": "1.5.0",
            "_view_name": "VBoxView",
            "box_style": "",
            "children": [
              "IPY_MODEL_d505b9547301431fb28166531c595599",
              "IPY_MODEL_de73044a9a7c42c8a2a3a9137bbf8888",
              "IPY_MODEL_8ea998a6ce5a4142adb3dcfe89595197",
              "IPY_MODEL_39c97a2b9cda40c1b9567062d530ed66",
              "IPY_MODEL_44b27fdb3fa043a5a6d1f001e388a86d",
              "IPY_MODEL_82d9ef076d4448ca92449825e5250db2",
              "IPY_MODEL_6d3d5a5805434432b2ec6a45dab29323",
              "IPY_MODEL_b7b50ec607f747a0bd337e99cfdef3c3"
            ],
            "layout": "IPY_MODEL_8b88a6bea0c14d57bd3444ba88713eeb"
          }
        },
        "d505b9547301431fb28166531c595599": {
          "model_module": "@jupyter-widgets/controls",
          "model_name": "TextModel",
          "model_module_version": "1.5.0",
          "state": {
            "_dom_classes": [],
            "_model_module": "@jupyter-widgets/controls",
            "_model_module_version": "1.5.0",
            "_model_name": "TextModel",
            "_view_count": null,
            "_view_module": "@jupyter-widgets/controls",
            "_view_module_version": "1.5.0",
            "_view_name": "TextView",
            "continuous_update": true,
            "description": "Persona",
            "description_tooltip": null,
            "disabled": false,
            "layout": "IPY_MODEL_ea1b36179bbc418192a7a3d4cbfb8259",
            "placeholder": "​",
            "style": "IPY_MODEL_7f3928b3c5774bca9ed76e97ff72b1b9",
            "value": "Eres un experto en IA experto en comunicación adaptada al nivel de tu audiencia."
          }
        },
        "de73044a9a7c42c8a2a3a9137bbf8888": {
          "model_module": "@jupyter-widgets/controls",
          "model_name": "TextareaModel",
          "model_module_version": "1.5.0",
          "state": {
            "_dom_classes": [],
            "_model_module": "@jupyter-widgets/controls",
            "_model_module_version": "1.5.0",
            "_model_name": "TextareaModel",
            "_view_count": null,
            "_view_module": "@jupyter-widgets/controls",
            "_view_module_version": "1.5.0",
            "_view_name": "TextareaView",
            "continuous_update": true,
            "description": "Instrucción",
            "description_tooltip": null,
            "disabled": false,
            "layout": "IPY_MODEL_913e685b4c34430fa90388684d631dfc",
            "placeholder": "​",
            "rows": null,
            "style": "IPY_MODEL_9677241d12f04af7baa2c061ce8bdf7b",
            "value": "Explica la Self-Attention de la arquitectura Transformers"
          }
        },
        "8ea998a6ce5a4142adb3dcfe89595197": {
          "model_module": "@jupyter-widgets/controls",
          "model_name": "TextareaModel",
          "model_module_version": "1.5.0",
          "state": {
            "_dom_classes": [],
            "_model_module": "@jupyter-widgets/controls",
            "_model_module_version": "1.5.0",
            "_model_name": "TextareaModel",
            "_view_count": null,
            "_view_module": "@jupyter-widgets/controls",
            "_view_module_version": "1.5.0",
            "_view_name": "TextareaView",
            "continuous_update": true,
            "description": "Contexto",
            "description_tooltip": null,
            "disabled": false,
            "layout": "IPY_MODEL_2d681d8efeb2422d9db1db7c3f44f211",
            "placeholder": "​",
            "rows": null,
            "style": "IPY_MODEL_b7bb1a441ed34b0fb433dcfc234fb8e5",
            "value": ""
          }
        },
        "39c97a2b9cda40c1b9567062d530ed66": {
          "model_module": "@jupyter-widgets/controls",
          "model_name": "TextModel",
          "model_module_version": "1.5.0",
          "state": {
            "_dom_classes": [],
            "_model_module": "@jupyter-widgets/controls",
            "_model_module_version": "1.5.0",
            "_model_name": "TextModel",
            "_view_count": null,
            "_view_module": "@jupyter-widgets/controls",
            "_view_module_version": "1.5.0",
            "_view_name": "TextView",
            "continuous_update": true,
            "description": "Formato",
            "description_tooltip": null,
            "disabled": false,
            "layout": "IPY_MODEL_10f5cf2e54bc486d880cb967d3f17342",
            "placeholder": "​",
            "style": "IPY_MODEL_65c76d95b15842adb04945ca88a7b2ca",
            "value": "Explica el proceso en pasos numerados."
          }
        },
        "44b27fdb3fa043a5a6d1f001e388a86d": {
          "model_module": "@jupyter-widgets/controls",
          "model_name": "TextModel",
          "model_module_version": "1.5.0",
          "state": {
            "_dom_classes": [],
            "_model_module": "@jupyter-widgets/controls",
            "_model_module_version": "1.5.0",
            "_model_name": "TextModel",
            "_view_count": null,
            "_view_module": "@jupyter-widgets/controls",
            "_view_module_version": "1.5.0",
            "_view_name": "TextView",
            "continuous_update": true,
            "description": "Audiencia",
            "description_tooltip": null,
            "disabled": false,
            "layout": "IPY_MODEL_f6d86f2091d9443faf6e761c30d8f9ef",
            "placeholder": "​",
            "style": "IPY_MODEL_a8b0388fdfcd4b828616cdacd2531c46",
            "value": "Estudiantes de primaria"
          }
        },
        "82d9ef076d4448ca92449825e5250db2": {
          "model_module": "@jupyter-widgets/controls",
          "model_name": "TextModel",
          "model_module_version": "1.5.0",
          "state": {
            "_dom_classes": [],
            "_model_module": "@jupyter-widgets/controls",
            "_model_module_version": "1.5.0",
            "_model_name": "TextModel",
            "_view_count": null,
            "_view_module": "@jupyter-widgets/controls",
            "_view_module_version": "1.5.0",
            "_view_name": "TextView",
            "continuous_update": true,
            "description": "Tono",
            "description_tooltip": null,
            "disabled": false,
            "layout": "IPY_MODEL_9ea35321aa354c0c8598244e7b9b66f3",
            "placeholder": "​",
            "style": "IPY_MODEL_c807c0ccfa684954a9c98bea2dd68928",
            "value": "Tono gracioso."
          }
        },
        "6d3d5a5805434432b2ec6a45dab29323": {
          "model_module": "@jupyter-widgets/controls",
          "model_name": "ButtonModel",
          "model_module_version": "1.5.0",
          "state": {
            "_dom_classes": [],
            "_model_module": "@jupyter-widgets/controls",
            "_model_module_version": "1.5.0",
            "_model_name": "ButtonModel",
            "_view_count": null,
            "_view_module": "@jupyter-widgets/controls",
            "_view_module_version": "1.5.0",
            "_view_name": "ButtonView",
            "button_style": "",
            "description": "Generar respuesta",
            "disabled": false,
            "icon": "",
            "layout": "IPY_MODEL_d57d529bccdd4776b6cfd04de64a05c4",
            "style": "IPY_MODEL_b45799b43125425293f125e02f95d0eb",
            "tooltip": ""
          }
        },
        "b7b50ec607f747a0bd337e99cfdef3c3": {
          "model_module": "@jupyter-widgets/output",
          "model_name": "OutputModel",
          "model_module_version": "1.0.0",
          "state": {
            "_dom_classes": [],
            "_model_module": "@jupyter-widgets/output",
            "_model_module_version": "1.0.0",
            "_model_name": "OutputModel",
            "_view_count": null,
            "_view_module": "@jupyter-widgets/output",
            "_view_module_version": "1.0.0",
            "_view_name": "OutputView",
            "layout": "IPY_MODEL_1dddd0dbda344790b5f84c541f572ee0",
            "msg_id": "",
            "outputs": [
              {
                "output_type": "display_data",
                "data": {
                  "text/plain": "<IPython.core.display.Markdown object>",
                  "text/markdown": "**Prompt generado:**\n```\nEres un experto en IA experto en comunicación adaptada al nivel de tu audiencia.\nExplica la Self-Attention de la arquitectura Transformers\n\nExplica el proceso en pasos numerados.\nEstudiantes de primaria\nTono gracioso.\n```"
                },
                "metadata": {}
              },
              {
                "output_type": "display_data",
                "data": {
                  "text/plain": "<IPython.core.display.Markdown object>",
                  "text/markdown": "**Respuesta del modelo:**\n¡Hola, pequeño genio! ¿Listo para aprender sobre un truco súper inteligente que usan las computadoras para entender cosas? Hoy te voy a contar sobre la **Self-Attention** en la magia llamada **Transformers**. ¡Suena complicado, pero te lo explicaré paso a paso y con chistes! 🚀😄\n\n---\n\n### 1. Imagina que las palabras son como amigos en una fiesta 🎉\n\nSupón que tienes una oración: **\"El gato come pescado\"**. Cada palabra es como un amigo en una reunión. Para entender qué significa esa oración, la computadora necesita escuchar a todos sus amigos, no solo a uno. ¡Es como cuando en una fiesta quieres saber qué están diciendo todos para entender la historia completa!\n\n---\n\n### 2. La máquina se convierte en un detective 🎩🕵️‍♂️\n\nLa computadora empieza a mirar cada palabra y se pregunta: \"¿Qué tan importante es esta palabra para entender las otras?\" Es como si preguntara: **\"¿Qué tanto le gusta el pescado a ese gato?\"** y así, decide quién escucha más para entender bien la historia.\n\n---\n\n### 3. Calculamos los “poderes” de cada palabra (¡como en un videojuego!) 🎮✨\n\nPara hacer esto, la computadora crea unos \"super poderes\" para cada palabra: \n\n- **Q** (la pregunta que hace la palabra)\n- **K** (el conocimiento de la otra palabras)\n- **V** (el valor de la palabra para la oración)\n\nCada palabra ahora tiene estos poderes, como en un juego de héroes. 🦸‍♂️🦸‍♀️\n\n---\n\n### 4. La máquina compara los poderes y da puntos (¡como si fuera una carrera!) 🏁\n\nLuego, cada palabra mira cuánto se parece a las otras usando sus poderes. Cuanto más se parezcan, más puntos obtienen. Es como en un concurso de imitaciones: ¡el que más se parezca, gana más puntos!\n\n---\n\n### 5. Suma todos los puntos y decide qué tan importante es cada amigo (cada palabra) 🏆\n\nCon esos puntos, la computadora decide quién tiene más influencia en entender la oración. Entonces, si la palabra \"pescado\" obtiene muchos puntos respecto a \"gato\", significa que \"pescado\" es super importante para entender la oración.\n\n---\n\n### 6. ¡Y listo! La máquina usa toda esta información para entender mejor la oración 🎓\n\nCon toda esta comparación y ponderación, la computadora puede comprender el significado completo, como si estuviera escuchando atentamente en la fiesta y recordando quién dijo qué. ¡Así puede responder preguntas, traducir idiomas o contar historias como un campeón!\n\n---\n\n**Resumen divertido:**  \nSelf-Attention es como un juego de amigos en una fiesta donde cada uno decide cuánto escuchar a los demás, ¡y con eso entienden la historia juntos! Es una forma inteligente en la que las computadoras prestan atención a las palabras más importantes, como tú cuando quieres entender un chiste muy divertido. 😄🎉\n\n¿Te gustó la explicación? ¡Ahora eres un mini experto en cómo las máquinas entienden las palabras! 🚀🤓"
                },
                "metadata": {}
              }
            ]
          }
        },
        "8b88a6bea0c14d57bd3444ba88713eeb": {
          "model_module": "@jupyter-widgets/base",
          "model_name": "LayoutModel",
          "model_module_version": "1.2.0",
          "state": {
            "_model_module": "@jupyter-widgets/base",
            "_model_module_version": "1.2.0",
            "_model_name": "LayoutModel",
            "_view_count": null,
            "_view_module": "@jupyter-widgets/base",
            "_view_module_version": "1.2.0",
            "_view_name": "LayoutView",
            "align_content": null,
            "align_items": null,
            "align_self": null,
            "border": null,
            "bottom": null,
            "display": null,
            "flex": null,
            "flex_flow": null,
            "grid_area": null,
            "grid_auto_columns": null,
            "grid_auto_flow": null,
            "grid_auto_rows": null,
            "grid_column": null,
            "grid_gap": null,
            "grid_row": null,
            "grid_template_areas": null,
            "grid_template_columns": null,
            "grid_template_rows": null,
            "height": null,
            "justify_content": null,
            "justify_items": null,
            "left": null,
            "margin": null,
            "max_height": null,
            "max_width": null,
            "min_height": null,
            "min_width": null,
            "object_fit": null,
            "object_position": null,
            "order": null,
            "overflow": null,
            "overflow_x": null,
            "overflow_y": null,
            "padding": null,
            "right": null,
            "top": null,
            "visibility": null,
            "width": null
          }
        },
        "ea1b36179bbc418192a7a3d4cbfb8259": {
          "model_module": "@jupyter-widgets/base",
          "model_name": "LayoutModel",
          "model_module_version": "1.2.0",
          "state": {
            "_model_module": "@jupyter-widgets/base",
            "_model_module_version": "1.2.0",
            "_model_name": "LayoutModel",
            "_view_count": null,
            "_view_module": "@jupyter-widgets/base",
            "_view_module_version": "1.2.0",
            "_view_name": "LayoutView",
            "align_content": null,
            "align_items": null,
            "align_self": null,
            "border": null,
            "bottom": null,
            "display": null,
            "flex": null,
            "flex_flow": null,
            "grid_area": null,
            "grid_auto_columns": null,
            "grid_auto_flow": null,
            "grid_auto_rows": null,
            "grid_column": null,
            "grid_gap": null,
            "grid_row": null,
            "grid_template_areas": null,
            "grid_template_columns": null,
            "grid_template_rows": null,
            "height": null,
            "justify_content": null,
            "justify_items": null,
            "left": null,
            "margin": null,
            "max_height": null,
            "max_width": null,
            "min_height": null,
            "min_width": null,
            "object_fit": null,
            "object_position": null,
            "order": null,
            "overflow": null,
            "overflow_x": null,
            "overflow_y": null,
            "padding": null,
            "right": null,
            "top": null,
            "visibility": null,
            "width": null
          }
        },
        "7f3928b3c5774bca9ed76e97ff72b1b9": {
          "model_module": "@jupyter-widgets/controls",
          "model_name": "DescriptionStyleModel",
          "model_module_version": "1.5.0",
          "state": {
            "_model_module": "@jupyter-widgets/controls",
            "_model_module_version": "1.5.0",
            "_model_name": "DescriptionStyleModel",
            "_view_count": null,
            "_view_module": "@jupyter-widgets/base",
            "_view_module_version": "1.2.0",
            "_view_name": "StyleView",
            "description_width": ""
          }
        },
        "913e685b4c34430fa90388684d631dfc": {
          "model_module": "@jupyter-widgets/base",
          "model_name": "LayoutModel",
          "model_module_version": "1.2.0",
          "state": {
            "_model_module": "@jupyter-widgets/base",
            "_model_module_version": "1.2.0",
            "_model_name": "LayoutModel",
            "_view_count": null,
            "_view_module": "@jupyter-widgets/base",
            "_view_module_version": "1.2.0",
            "_view_name": "LayoutView",
            "align_content": null,
            "align_items": null,
            "align_self": null,
            "border": null,
            "bottom": null,
            "display": null,
            "flex": null,
            "flex_flow": null,
            "grid_area": null,
            "grid_auto_columns": null,
            "grid_auto_flow": null,
            "grid_auto_rows": null,
            "grid_column": null,
            "grid_gap": null,
            "grid_row": null,
            "grid_template_areas": null,
            "grid_template_columns": null,
            "grid_template_rows": null,
            "height": null,
            "justify_content": null,
            "justify_items": null,
            "left": null,
            "margin": null,
            "max_height": null,
            "max_width": null,
            "min_height": null,
            "min_width": null,
            "object_fit": null,
            "object_position": null,
            "order": null,
            "overflow": null,
            "overflow_x": null,
            "overflow_y": null,
            "padding": null,
            "right": null,
            "top": null,
            "visibility": null,
            "width": null
          }
        },
        "9677241d12f04af7baa2c061ce8bdf7b": {
          "model_module": "@jupyter-widgets/controls",
          "model_name": "DescriptionStyleModel",
          "model_module_version": "1.5.0",
          "state": {
            "_model_module": "@jupyter-widgets/controls",
            "_model_module_version": "1.5.0",
            "_model_name": "DescriptionStyleModel",
            "_view_count": null,
            "_view_module": "@jupyter-widgets/base",
            "_view_module_version": "1.2.0",
            "_view_name": "StyleView",
            "description_width": ""
          }
        },
        "2d681d8efeb2422d9db1db7c3f44f211": {
          "model_module": "@jupyter-widgets/base",
          "model_name": "LayoutModel",
          "model_module_version": "1.2.0",
          "state": {
            "_model_module": "@jupyter-widgets/base",
            "_model_module_version": "1.2.0",
            "_model_name": "LayoutModel",
            "_view_count": null,
            "_view_module": "@jupyter-widgets/base",
            "_view_module_version": "1.2.0",
            "_view_name": "LayoutView",
            "align_content": null,
            "align_items": null,
            "align_self": null,
            "border": null,
            "bottom": null,
            "display": null,
            "flex": null,
            "flex_flow": null,
            "grid_area": null,
            "grid_auto_columns": null,
            "grid_auto_flow": null,
            "grid_auto_rows": null,
            "grid_column": null,
            "grid_gap": null,
            "grid_row": null,
            "grid_template_areas": null,
            "grid_template_columns": null,
            "grid_template_rows": null,
            "height": null,
            "justify_content": null,
            "justify_items": null,
            "left": null,
            "margin": null,
            "max_height": null,
            "max_width": null,
            "min_height": null,
            "min_width": null,
            "object_fit": null,
            "object_position": null,
            "order": null,
            "overflow": null,
            "overflow_x": null,
            "overflow_y": null,
            "padding": null,
            "right": null,
            "top": null,
            "visibility": null,
            "width": null
          }
        },
        "b7bb1a441ed34b0fb433dcfc234fb8e5": {
          "model_module": "@jupyter-widgets/controls",
          "model_name": "DescriptionStyleModel",
          "model_module_version": "1.5.0",
          "state": {
            "_model_module": "@jupyter-widgets/controls",
            "_model_module_version": "1.5.0",
            "_model_name": "DescriptionStyleModel",
            "_view_count": null,
            "_view_module": "@jupyter-widgets/base",
            "_view_module_version": "1.2.0",
            "_view_name": "StyleView",
            "description_width": ""
          }
        },
        "10f5cf2e54bc486d880cb967d3f17342": {
          "model_module": "@jupyter-widgets/base",
          "model_name": "LayoutModel",
          "model_module_version": "1.2.0",
          "state": {
            "_model_module": "@jupyter-widgets/base",
            "_model_module_version": "1.2.0",
            "_model_name": "LayoutModel",
            "_view_count": null,
            "_view_module": "@jupyter-widgets/base",
            "_view_module_version": "1.2.0",
            "_view_name": "LayoutView",
            "align_content": null,
            "align_items": null,
            "align_self": null,
            "border": null,
            "bottom": null,
            "display": null,
            "flex": null,
            "flex_flow": null,
            "grid_area": null,
            "grid_auto_columns": null,
            "grid_auto_flow": null,
            "grid_auto_rows": null,
            "grid_column": null,
            "grid_gap": null,
            "grid_row": null,
            "grid_template_areas": null,
            "grid_template_columns": null,
            "grid_template_rows": null,
            "height": null,
            "justify_content": null,
            "justify_items": null,
            "left": null,
            "margin": null,
            "max_height": null,
            "max_width": null,
            "min_height": null,
            "min_width": null,
            "object_fit": null,
            "object_position": null,
            "order": null,
            "overflow": null,
            "overflow_x": null,
            "overflow_y": null,
            "padding": null,
            "right": null,
            "top": null,
            "visibility": null,
            "width": null
          }
        },
        "65c76d95b15842adb04945ca88a7b2ca": {
          "model_module": "@jupyter-widgets/controls",
          "model_name": "DescriptionStyleModel",
          "model_module_version": "1.5.0",
          "state": {
            "_model_module": "@jupyter-widgets/controls",
            "_model_module_version": "1.5.0",
            "_model_name": "DescriptionStyleModel",
            "_view_count": null,
            "_view_module": "@jupyter-widgets/base",
            "_view_module_version": "1.2.0",
            "_view_name": "StyleView",
            "description_width": ""
          }
        },
        "f6d86f2091d9443faf6e761c30d8f9ef": {
          "model_module": "@jupyter-widgets/base",
          "model_name": "LayoutModel",
          "model_module_version": "1.2.0",
          "state": {
            "_model_module": "@jupyter-widgets/base",
            "_model_module_version": "1.2.0",
            "_model_name": "LayoutModel",
            "_view_count": null,
            "_view_module": "@jupyter-widgets/base",
            "_view_module_version": "1.2.0",
            "_view_name": "LayoutView",
            "align_content": null,
            "align_items": null,
            "align_self": null,
            "border": null,
            "bottom": null,
            "display": null,
            "flex": null,
            "flex_flow": null,
            "grid_area": null,
            "grid_auto_columns": null,
            "grid_auto_flow": null,
            "grid_auto_rows": null,
            "grid_column": null,
            "grid_gap": null,
            "grid_row": null,
            "grid_template_areas": null,
            "grid_template_columns": null,
            "grid_template_rows": null,
            "height": null,
            "justify_content": null,
            "justify_items": null,
            "left": null,
            "margin": null,
            "max_height": null,
            "max_width": null,
            "min_height": null,
            "min_width": null,
            "object_fit": null,
            "object_position": null,
            "order": null,
            "overflow": null,
            "overflow_x": null,
            "overflow_y": null,
            "padding": null,
            "right": null,
            "top": null,
            "visibility": null,
            "width": null
          }
        },
        "a8b0388fdfcd4b828616cdacd2531c46": {
          "model_module": "@jupyter-widgets/controls",
          "model_name": "DescriptionStyleModel",
          "model_module_version": "1.5.0",
          "state": {
            "_model_module": "@jupyter-widgets/controls",
            "_model_module_version": "1.5.0",
            "_model_name": "DescriptionStyleModel",
            "_view_count": null,
            "_view_module": "@jupyter-widgets/base",
            "_view_module_version": "1.2.0",
            "_view_name": "StyleView",
            "description_width": ""
          }
        },
        "9ea35321aa354c0c8598244e7b9b66f3": {
          "model_module": "@jupyter-widgets/base",
          "model_name": "LayoutModel",
          "model_module_version": "1.2.0",
          "state": {
            "_model_module": "@jupyter-widgets/base",
            "_model_module_version": "1.2.0",
            "_model_name": "LayoutModel",
            "_view_count": null,
            "_view_module": "@jupyter-widgets/base",
            "_view_module_version": "1.2.0",
            "_view_name": "LayoutView",
            "align_content": null,
            "align_items": null,
            "align_self": null,
            "border": null,
            "bottom": null,
            "display": null,
            "flex": null,
            "flex_flow": null,
            "grid_area": null,
            "grid_auto_columns": null,
            "grid_auto_flow": null,
            "grid_auto_rows": null,
            "grid_column": null,
            "grid_gap": null,
            "grid_row": null,
            "grid_template_areas": null,
            "grid_template_columns": null,
            "grid_template_rows": null,
            "height": null,
            "justify_content": null,
            "justify_items": null,
            "left": null,
            "margin": null,
            "max_height": null,
            "max_width": null,
            "min_height": null,
            "min_width": null,
            "object_fit": null,
            "object_position": null,
            "order": null,
            "overflow": null,
            "overflow_x": null,
            "overflow_y": null,
            "padding": null,
            "right": null,
            "top": null,
            "visibility": null,
            "width": null
          }
        },
        "c807c0ccfa684954a9c98bea2dd68928": {
          "model_module": "@jupyter-widgets/controls",
          "model_name": "DescriptionStyleModel",
          "model_module_version": "1.5.0",
          "state": {
            "_model_module": "@jupyter-widgets/controls",
            "_model_module_version": "1.5.0",
            "_model_name": "DescriptionStyleModel",
            "_view_count": null,
            "_view_module": "@jupyter-widgets/base",
            "_view_module_version": "1.2.0",
            "_view_name": "StyleView",
            "description_width": ""
          }
        },
        "d57d529bccdd4776b6cfd04de64a05c4": {
          "model_module": "@jupyter-widgets/base",
          "model_name": "LayoutModel",
          "model_module_version": "1.2.0",
          "state": {
            "_model_module": "@jupyter-widgets/base",
            "_model_module_version": "1.2.0",
            "_model_name": "LayoutModel",
            "_view_count": null,
            "_view_module": "@jupyter-widgets/base",
            "_view_module_version": "1.2.0",
            "_view_name": "LayoutView",
            "align_content": null,
            "align_items": null,
            "align_self": null,
            "border": null,
            "bottom": null,
            "display": null,
            "flex": null,
            "flex_flow": null,
            "grid_area": null,
            "grid_auto_columns": null,
            "grid_auto_flow": null,
            "grid_auto_rows": null,
            "grid_column": null,
            "grid_gap": null,
            "grid_row": null,
            "grid_template_areas": null,
            "grid_template_columns": null,
            "grid_template_rows": null,
            "height": null,
            "justify_content": null,
            "justify_items": null,
            "left": null,
            "margin": null,
            "max_height": null,
            "max_width": null,
            "min_height": null,
            "min_width": null,
            "object_fit": null,
            "object_position": null,
            "order": null,
            "overflow": null,
            "overflow_x": null,
            "overflow_y": null,
            "padding": null,
            "right": null,
            "top": null,
            "visibility": null,
            "width": null
          }
        },
        "b45799b43125425293f125e02f95d0eb": {
          "model_module": "@jupyter-widgets/controls",
          "model_name": "ButtonStyleModel",
          "model_module_version": "1.5.0",
          "state": {
            "_model_module": "@jupyter-widgets/controls",
            "_model_module_version": "1.5.0",
            "_model_name": "ButtonStyleModel",
            "_view_count": null,
            "_view_module": "@jupyter-widgets/base",
            "_view_module_version": "1.2.0",
            "_view_name": "StyleView",
            "button_color": null,
            "font_weight": ""
          }
        },
        "1dddd0dbda344790b5f84c541f572ee0": {
          "model_module": "@jupyter-widgets/base",
          "model_name": "LayoutModel",
          "model_module_version": "1.2.0",
          "state": {
            "_model_module": "@jupyter-widgets/base",
            "_model_module_version": "1.2.0",
            "_model_name": "LayoutModel",
            "_view_count": null,
            "_view_module": "@jupyter-widgets/base",
            "_view_module_version": "1.2.0",
            "_view_name": "LayoutView",
            "align_content": null,
            "align_items": null,
            "align_self": null,
            "border": null,
            "bottom": null,
            "display": null,
            "flex": null,
            "flex_flow": null,
            "grid_area": null,
            "grid_auto_columns": null,
            "grid_auto_flow": null,
            "grid_auto_rows": null,
            "grid_column": null,
            "grid_gap": null,
            "grid_row": null,
            "grid_template_areas": null,
            "grid_template_columns": null,
            "grid_template_rows": null,
            "height": null,
            "justify_content": null,
            "justify_items": null,
            "left": null,
            "margin": null,
            "max_height": null,
            "max_width": null,
            "min_height": null,
            "min_width": null,
            "object_fit": null,
            "object_position": null,
            "order": null,
            "overflow": null,
            "overflow_x": null,
            "overflow_y": null,
            "padding": null,
            "right": null,
            "top": null,
            "visibility": null,
            "width": null
          }
        }
      }
    }
  },
  "nbformat": 4,
  "nbformat_minor": 5
}